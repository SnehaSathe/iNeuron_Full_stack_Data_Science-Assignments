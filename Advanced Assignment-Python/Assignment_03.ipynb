{
 "cells": [
  {
   "cell_type": "markdown",
   "id": "3b0ebcba-bbf6-4445-b260-e7725f781974",
   "metadata": {},
   "source": [
    "**Assignment 03 Solutions**"
   ]
  },
  {
   "cell_type": "markdown",
   "id": "881e41d1-73e6-45c9-b19d-156dcac4c22f",
   "metadata": {},
   "source": [
    "**1. What is the concept of an abstract superclass?**"
   ]
  },
  {
   "cell_type": "markdown",
   "id": "6101c0ef-ad8c-4fd7-8538-85c96e7ccd31",
   "metadata": {},
   "source": [
    "**Ans:** An abstract class/superclass can be considered as a blueprint for other classes. It allows you to create a set of methods that must be created within any child classes built from the abstract class. A class which contains one or more abstract methods is called an abstract class.\n",
    "\n",
    "Whereas an abstract method is a method that has a declaration but does not have an implementation"
   ]
  },
  {
   "cell_type": "code",
   "execution_count": 1,
   "id": "151650a6-7273-4390-940a-f0af47187c10",
   "metadata": {},
   "outputs": [],
   "source": [
    "from abc import ABC, abstractmethod\n",
    "class Polygon(ABC): # Abstract Class\n",
    "    @abstractmethod\n",
    "    def noofsides(self): # Abstract Method\n",
    "        pass\n",
    "class Triangle(Polygon):\n",
    "    def noofsides(self):  # overriding abstract method in child class Triangle\n",
    "        print(\"I have 3 sides\")\n",
    "class Pentagon(Polygon):\n",
    "    def noofsides(self): # overriding abstract method in child class Pentagon\n",
    "        print(\"I have 5 sides\")"
   ]
  },
  {
   "cell_type": "markdown",
   "id": "afcd7f27-bfea-4399-afa4-c9552e2d4eae",
   "metadata": {},
   "source": [
    "**2. What happens when a class statement's top level contains a basic assignment statement?**"
   ]
  },
  {
   "cell_type": "markdown",
   "id": "2cf08b5e-406d-4784-a5a7-5bd8b8d981e2",
   "metadata": {},
   "source": [
    "**Ans:** When a Class statement's top level contains a basic assignment statement, its usually treated as a class attribute or class level variable.\n",
    "\n",
    "where as assignment statements inside methods are treated as instance attributes or local attributes.\n",
    "\n",
    "When an instance of a class is created a single copy of class attributes is maintained and shared to all instances of class. where as each instance object maintains its own copy of instance variables."
   ]
  },
  {
   "cell_type": "code",
   "execution_count": 2,
   "id": "d087243c-eac2-4f2b-a05a-c3a96fd6de43",
   "metadata": {},
   "outputs": [],
   "source": [
    "class Person:\n",
    "    species = 'Homesapiens' # class attribute\n",
    "    def __init__(self,name,gender):\n",
    "        self.name = name # instance attributes\n",
    "        self.gender = gender"
   ]
  },
  {
   "cell_type": "markdown",
   "id": "11f1fe6f-fa7a-4917-9a87-79a3f578b799",
   "metadata": {},
   "source": [
    "**3. Why does a class need to manually call a superclass's init method?**"
   ]
  },
  {
   "cell_type": "markdown",
   "id": "4aac2f97-9000-4992-b19f-6ce1480d4dd6",
   "metadata": {},
   "source": [
    "**Ans:** if a child class has __init__ method, then it will not inherit the __init__ method of the parent class. in other words the __init__ method of the child class overrides the __init__ method of the parent class. so we have to manually call a parent superclass's __init__ using super() method\n",
    "\n"
   ]
  },
  {
   "cell_type": "code",
   "execution_count": 4,
   "id": "a0956cb3-9af1-4ae0-a1e1-f1c022ed0a47",
   "metadata": {},
   "outputs": [
    {
     "name": "stdout",
     "output_type": "stream",
     "text": [
      "{'name': 'Rupesh', 'age': 28, 'salary': 40000}\n"
     ]
    }
   ],
   "source": [
    "class Person:\n",
    "    def __init__(self,name,age):\n",
    "        self.name = name\n",
    "        self.age = age       \n",
    "class Employee(Person):\n",
    "    def __init__(self,name,age,salary):\n",
    "        super().__init__(name,age)\n",
    "        self.salary = salary\n",
    "emp_1 = Employee('Rupesh',28,40000)\n",
    "print(emp_1.__dict__)"
   ]
  },
  {
   "cell_type": "markdown",
   "id": "85e94dc9-8c16-486a-bf02-0b9d0dc9ef36",
   "metadata": {},
   "source": [
    "**4. How can you augment, instead of completely replacing, an inherited method?**"
   ]
  },
  {
   "cell_type": "markdown",
   "id": "b3a1f1d9-03b3-4797-aaa3-83cf1e220b93",
   "metadata": {},
   "source": [
    "**Ans:** super() method can be used to augment, instead of completely replacing, an inherited method.\n",
    "\n"
   ]
  },
  {
   "cell_type": "code",
   "execution_count": 5,
   "id": "2204eee5-5ed3-4dcb-8aa4-2ab3e6e845d1",
   "metadata": {},
   "outputs": [
    {
     "name": "stdout",
     "output_type": "stream",
     "text": [
      "{'name': 'Rupesh', 'gender': 'Male', 'salary': 40000}\n"
     ]
    }
   ],
   "source": [
    "class Person:\n",
    "    def __init__(self,name,gender):\n",
    "        self.name = name\n",
    "        self.gender = gender\n",
    "class Employee(Person):\n",
    "    def __init__(self,name,gender,salary):\n",
    "        super().__init__(name,gender) \n",
    "        self.salary = salary\n",
    "emp_1 = Employee('Rupesh','Male',40000)\n",
    "print(emp_1.__dict__)       "
   ]
  },
  {
   "cell_type": "markdown",
   "id": "cfed8d80-6f74-469d-9025-0a214a71f037",
   "metadata": {},
   "source": [
    "**5. How is the local scope of a class different from that of a function?**\n"
   ]
  },
  {
   "cell_type": "markdown",
   "id": "15052473-5b0b-4f07-a939-4f1ef751a187",
   "metadata": {},
   "source": [
    "Ans: A Variable which is defined inside a function is local to that function. it is accesible from the point at which it is defined until the end of the function, and exists for as long as the function is existing.\n",
    "\n",
    "Similary a variable inside of a class also has a local variable scope. Variables which are defined in the class body (but outside all methods) are called as class level variables or class attributes. they can be referenced by there bare names within the same scope, but they can also be accessed from outside this scope if we use the attribute access operator (.). on a class or an instance of the class."
   ]
  },
  {
   "cell_type": "code",
   "execution_count": 6,
   "id": "f5be9a33-5998-4178-a3e1-4dbc273c5e5a",
   "metadata": {},
   "outputs": [
    {
     "name": "stdout",
     "output_type": "stream",
     "text": [
      "you're name is Sneha Rupesh\n",
      "Name varible is not available outside hello function scope\n",
      "HomeSapines\n",
      "HomeSapines\n"
     ]
    }
   ],
   "source": [
    "def hello(name):\n",
    "    name = name\n",
    "    print(f'you\\'re name is {name}')\n",
    "hello('Sneha Rupesh')\n",
    "try:\n",
    "    name\n",
    "except NameError:\n",
    "    print('Name varible is not available outside hello function scope')\n",
    "\n",
    "class Person:\n",
    "    species = \"HomeSapines\"\n",
    "    def __init__(self):\n",
    "        pass\n",
    "print(Person.species) # Accessing species using class name\n",
    "Male = Person()\n",
    "print(Male.species) # Accessing species using instance of class"
   ]
  }
 ],
 "metadata": {
  "kernelspec": {
   "display_name": "Python 3 (ipykernel)",
   "language": "python",
   "name": "python3"
  },
  "language_info": {
   "codemirror_mode": {
    "name": "ipython",
    "version": 3
   },
   "file_extension": ".py",
   "mimetype": "text/x-python",
   "name": "python",
   "nbconvert_exporter": "python",
   "pygments_lexer": "ipython3",
   "version": "3.10.6"
  }
 },
 "nbformat": 4,
 "nbformat_minor": 5
}
