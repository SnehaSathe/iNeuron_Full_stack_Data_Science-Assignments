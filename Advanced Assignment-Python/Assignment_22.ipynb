{
 "cells": [
  {
   "cell_type": "markdown",
   "id": "77b98f14-90ff-4534-90cb-d5b0bb5a3790",
   "metadata": {},
   "source": [
    "# Assignment No. 22 Solutions"
   ]
  },
  {
   "cell_type": "markdown",
   "id": "7a57c85d-a84d-4601-89dd-78ea1256e89c",
   "metadata": {},
   "source": [
    "**Q1. What are the benefits of the built-in array package, if any?**\n"
   ]
  },
  {
   "cell_type": "markdown",
   "id": "17126cc7-0ba4-4f1a-ae97-3bf3213a750d",
   "metadata": {},
   "source": [
    "**Ans:** Arrays represent multiple data items of the same type using a single name. In arrays, the elements can be accessed randomly by using the index number. Arrays allocate memory in contiguous memory locations for all its elements. Hence there is no chance of extra memory being allocated in case of arrays. This avoids memory overflow or shortage of memory in arrays.\n"
   ]
  },
  {
   "cell_type": "markdown",
   "id": "765495fc-2dfb-45fa-9de2-acfa851a32c3",
   "metadata": {},
   "source": [
    "**Q2. What are some of the array package's limitations ?**\n"
   ]
  },
  {
   "cell_type": "markdown",
   "id": "9b6d619a-f89c-400c-b808-47a8248a88bc",
   "metadata": {},
   "source": [
    "**Ans:** The number of elements to be stored in an array should be known in advance. An array is a static structure (which means the array is of fixed size). Once declared the size of the array cannot be modified. The memory which is allocated to it cannot be increased or decreased.\n",
    "\n",
    "Insertion and deletion are quite difficult in an array as the elements are stored in consecutive memory locations and the shifting operation is costly.\n",
    "\n",
    "Allocating more memory than the requirement leads to wastage of memory space and less allocation of memory also leads to a problem\n",
    "\n"
   ]
  },
  {
   "cell_type": "markdown",
   "id": "50a63a0a-bf32-4cee-b7f4-c0b32339c0c2",
   "metadata": {},
   "source": [
    "**Q3. Describe the main differences between the array and numpy packages ?**\n"
   ]
  },
  {
   "cell_type": "markdown",
   "id": "596abeee-565e-43a0-a61e-4aa68bea191b",
   "metadata": {},
   "source": [
    "**Ans:** The array package doesn't provide any help with numerical calculation with the items insdie it in number form while NumPy give you a wide variety of numerical operations.\n",
    "\n",
    "An array is a single dimensional entity which hold the numerical data, while numpy can have more than 1 dimension.\n",
    "\n",
    "In case of array, item can be accessed by its index position and it is easy task while in numpy item is accessed by its column and row index, which makes it slightly time taking. Same goes with appending operation.\n",
    "\n",
    "In case of array we do not form a tabular structure, while in numpy it forms a tabular structure"
   ]
  },
  {
   "cell_type": "markdown",
   "id": "51e47422-db02-4684-98cf-c8f7ed569a6e",
   "metadata": {},
   "source": [
    "**Q4. Explain the distinctions between the empty, ones, and zeros functions ?**\n"
   ]
  },
  {
   "cell_type": "markdown",
   "id": "639583d1-423b-4100-a114-6753dce315c6",
   "metadata": {},
   "source": [
    "**Ans:** The distinctions between the empty, ones, and zero functions are as follows :\n",
    "\n",
    "Empty function: An empty function is a function that does not contain any statement within its body. If you try to write a function definition without any statement in python ,it will return an error. To avoid this, we use pass statement. pass is a special statement in Python that does nothing. It only works as a dummy statement.\n",
    "Ones: This function returns a new array of given shape and data type, where the element’s value is 1.\n",
    "Zeros: This function returns a new array of given shape and data type, where the element’s value is 0.\n"
   ]
  },
  {
   "cell_type": "markdown",
   "id": "8833effc-ea69-4015-b74b-64034f14fb17",
   "metadata": {},
   "source": [
    "\n",
    "**Q5. In the fromfunction function, which is used to construct new arrays, what is the role of the callable argument ?**\n"
   ]
  },
  {
   "cell_type": "markdown",
   "id": "36cd71c0-c29e-4c22-8645-4a07744ce9de",
   "metadata": {},
   "source": [
    "**Ans:** Its function is to execute the function over each coordinate and the resulting array. The function is called with N parameters, where N is the rank of shape. Each parameter represents the coordinates of the array varying along a specific axis.\n",
    "\n"
   ]
  },
  {
   "cell_type": "markdown",
   "id": "a894281a-d380-480b-b2b3-3a3be1680f18",
   "metadata": {},
   "source": [
    "**Q6. What happens when a numpy array is combined with a single-value operand (a scalar, such as an int or a floating-point value) through addition, as in the expression A + n ?**\n"
   ]
  },
  {
   "cell_type": "markdown",
   "id": "a2cccded-b781-475f-9431-69424983fbce",
   "metadata": {},
   "source": [
    "**Ans:** If any scaler value such as integer is added to the numpy array then all the elements inside the array will add that value in it.\n"
   ]
  },
  {
   "cell_type": "markdown",
   "id": "aa515258-1449-412b-993c-712580b7deee",
   "metadata": {},
   "source": [
    "Q7. Can array-to-scalar operations use combined operation-assign operators (such as += or *=)? What is the outcome?\r",
    "sition."
   ]
  },
  {
   "cell_type": "markdown",
   "id": "08a20e48-29c3-48d5-81fa-7e5ed504c8cd",
   "metadata": {},
   "source": [
    "**Ans:** It will carry out provided operation on all elements of array.\n",
    "\n"
   ]
  },
  {
   "cell_type": "markdown",
   "id": "34e0cb3f-9877-494e-bf90-3fa387293863",
   "metadata": {},
   "source": [
    "**Q8. Does a numpy array contain fixed-length strings? What happens if you allocate a longer string to one of these arrays ?**\n"
   ]
  },
  {
   "cell_type": "markdown",
   "id": "43bbbb5d-b926-4bc9-a0a6-dbe902516201",
   "metadata": {},
   "source": [
    "**Ans:**  Yes, it is possible that we can include a string of fixed length in numpy array. The dtype of any numpy array containing string values is the maximum length of any string present in the array.Once set, it will only be able to store new string having length not more than the maximum length at the time of the creation. If we try to reassign some another string value having length greater than the maximum length of the existing elements, it simply discards all the values beyond the maximum length accept upto those values which are under the limit.\n"
   ]
  },
  {
   "cell_type": "markdown",
   "id": "a5d5f3a5-f7ce-41af-91c2-369ce436943d",
   "metadata": {},
   "source": [
    "\n",
    "**Q9. What happens when you combine two numpy arrays using an operation like addition (+) or multiplication (*)? What are the conditions for combining two numpy arrays ?**\n"
   ]
  },
  {
   "cell_type": "markdown",
   "id": "8b1832c5-aecf-45eb-bba9-237991141cd5",
   "metadata": {},
   "source": [
    "**Ans:** It will simply add or multiply element to element at same position."
   ]
  },
  {
   "cell_type": "code",
   "execution_count": null,
   "id": "a0daf18e-8c5a-48cf-9f44-bddb2920c22d",
   "metadata": {},
   "outputs": [],
   "source": []
  }
 ],
 "metadata": {
  "kernelspec": {
   "display_name": "Python 3 (ipykernel)",
   "language": "python",
   "name": "python3"
  },
  "language_info": {
   "codemirror_mode": {
    "name": "ipython",
    "version": 3
   },
   "file_extension": ".py",
   "mimetype": "text/x-python",
   "name": "python",
   "nbconvert_exporter": "python",
   "pygments_lexer": "ipython3",
   "version": "3.12.1"
  }
 },
 "nbformat": 4,
 "nbformat_minor": 5
}
