{
 "cells": [
  {
   "cell_type": "markdown",
   "id": "4589d620-28d3-4c56-ad91-3b15f2da0176",
   "metadata": {},
   "source": [
    "**Assignment 06 Solutions**"
   ]
  },
  {
   "cell_type": "markdown",
   "id": "5a1e6740-5836-44dc-8ed8-54e2c88f5dee",
   "metadata": {},
   "source": [
    "**Q1. Describe three applications for exception processing.**"
   ]
  },
  {
   "cell_type": "markdown",
   "id": "791fa1f9-6809-492f-9412-d8112f497028",
   "metadata": {},
   "source": [
    "**Ans:** Exception Processing is important to find exceptions that causes the runtime error. As runtime errors Halt the program execution when exception occurs.\n",
    "\n",
    "Exception Processing is used in Various Applications of which few examples are:\n",
    "\n",
    "Checking Appropriate use of input in an application\n",
    "Checking for Arithmetic exceptions in mathematical executions\n",
    "Checking File I/O exceptions during File handling"
   ]
  },
  {
   "cell_type": "markdown",
   "id": "46f65c28-03ce-421b-8523-7e6d90352332",
   "metadata": {},
   "source": [
    "**Q2. What happens if you don't do something extra to treat an exception?**"
   ]
  },
  {
   "cell_type": "markdown",
   "id": "931dfbb6-044f-4111-afe8-51285725653e",
   "metadata": {},
   "source": [
    "**Ans:** If Exceptions are not handled flow of program will be broken during the run time which might lead to a abnormal termination of the program. Inshort inability of program to handle exceptions will result in crashing of program."
   ]
  },
  {
   "cell_type": "markdown",
   "id": "ccf9996a-e31b-4cb1-86ad-ea319db109ca",
   "metadata": {},
   "source": [
    "**Q3. What are your options for recovering from an exception in your script?**"
   ]
  },
  {
   "cell_type": "markdown",
   "id": "ea536a8f-81bf-4196-b848-87da9820d3c0",
   "metadata": {},
   "source": [
    "**Ans:** Python provides try and except statements for recovering from an exception in your script."
   ]
  },
  {
   "cell_type": "markdown",
   "id": "2ccef0b0-7056-4488-abcb-08c9ebf2d7a5",
   "metadata": {},
   "source": [
    "**Q4. Describe two methods for triggering exceptions in your script ?**"
   ]
  },
  {
   "cell_type": "markdown",
   "id": "3b3d3994-1dd1-411c-98c6-cbec48371b3a",
   "metadata": {},
   "source": [
    "**Ans:** raise and assert are two methods that can be used to trigger manual exceptions in your script.\n",
    "\n",
    "raise method triggers an exception if condition provided to it turns out to be True.\n",
    "assert will let the program to continue execution if condition provided to it turns out to be True else exception will be raised"
   ]
  },
  {
   "cell_type": "code",
   "execution_count": 1,
   "id": "1205d564-480a-43f2-8c42-662b1157f5f6",
   "metadata": {},
   "outputs": [
    {
     "ename": "Exception",
     "evalue": "X Value Should not exceed 5 The Provided Value of X is 15",
     "output_type": "error",
     "traceback": [
      "\u001b[0;31m---------------------------------------------------------------------------\u001b[0m",
      "\u001b[0;31mException\u001b[0m                                 Traceback (most recent call last)",
      "Cell \u001b[0;32mIn [1], line 3\u001b[0m\n\u001b[1;32m      1\u001b[0m \u001b[38;5;66;03m# Example of raise\u001b[39;00m\n\u001b[1;32m      2\u001b[0m x \u001b[38;5;241m=\u001b[39m \u001b[38;5;241m15\u001b[39m\n\u001b[0;32m----> 3\u001b[0m \u001b[38;5;28;01mraise\u001b[39;00m \u001b[38;5;167;01mException\u001b[39;00m(\u001b[38;5;124mf\u001b[39m\u001b[38;5;124m'\u001b[39m\u001b[38;5;124mX Value Should not exceed 5 The Provided Value of X is \u001b[39m\u001b[38;5;132;01m{\u001b[39;00mx\u001b[38;5;132;01m}\u001b[39;00m\u001b[38;5;124m'\u001b[39m)\n",
      "\u001b[0;31mException\u001b[0m: X Value Should not exceed 5 The Provided Value of X is 15"
     ]
    }
   ],
   "source": [
    "# Example of raise\n",
    "x = 15\n",
    "raise Exception(f'X Value Should not exceed 5 The Provided Value of X is {x}')"
   ]
  },
  {
   "cell_type": "code",
   "execution_count": 2,
   "id": "2cdfc316-f551-4fca-8648-45e951227cce",
   "metadata": {},
   "outputs": [
    {
     "ename": "AssertionError",
     "evalue": "2 is not equal to 4",
     "output_type": "error",
     "traceback": [
      "\u001b[0;31m---------------------------------------------------------------------------\u001b[0m",
      "\u001b[0;31mAssertionError\u001b[0m                            Traceback (most recent call last)",
      "Cell \u001b[0;32mIn [2], line 2\u001b[0m\n\u001b[1;32m      1\u001b[0m \u001b[38;5;66;03m# Example of assert\u001b[39;00m\n\u001b[0;32m----> 2\u001b[0m \u001b[38;5;28;01massert\u001b[39;00m(\u001b[38;5;241m2\u001b[39m\u001b[38;5;241m==\u001b[39m\u001b[38;5;241m4\u001b[39m), \u001b[38;5;124m\"\u001b[39m\u001b[38;5;124m2 is not equal to 4\u001b[39m\u001b[38;5;124m\"\u001b[39m\n",
      "\u001b[0;31mAssertionError\u001b[0m: 2 is not equal to 4"
     ]
    }
   ],
   "source": [
    "# Example of assert\n",
    "assert(2==4), \"2 is not equal to 4\""
   ]
  },
  {
   "cell_type": "markdown",
   "id": "341989fa-7180-4b79-b5e6-f336735f77e5",
   "metadata": {},
   "source": [
    "**Q5. Identify two methods for specifying actions to be executed at termination time, regardless of whether or not an exception exists.**"
   ]
  },
  {
   "cell_type": "markdown",
   "id": "a5aa3a2f-8018-4716-ad31-05f018d06e7c",
   "metadata": {},
   "source": [
    "**Ans:** Python Provides else and finally blocks for specifying actions to be executed at termination time, regardless of whether an exceptions exists or not."
   ]
  }
 ],
 "metadata": {
  "kernelspec": {
   "display_name": "Python 3 (ipykernel)",
   "language": "python",
   "name": "python3"
  },
  "language_info": {
   "codemirror_mode": {
    "name": "ipython",
    "version": 3
   },
   "file_extension": ".py",
   "mimetype": "text/x-python",
   "name": "python",
   "nbconvert_exporter": "python",
   "pygments_lexer": "ipython3",
   "version": "3.10.6"
  }
 },
 "nbformat": 4,
 "nbformat_minor": 5
}
