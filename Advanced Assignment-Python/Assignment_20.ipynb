{
 "cells": [
  {
   "cell_type": "markdown",
   "id": "1f73d50c-a0a8-416e-a3fb-5b6239832090",
   "metadata": {},
   "source": [
    "# Assignment no. 20 Solution"
   ]
  },
  {
   "cell_type": "markdown",
   "id": "1d49db25-1b54-43c5-a300-557c95248b03",
   "metadata": {},
   "source": [
    "**1. Compare and contrast the float and Decimal classes&#39; benefits and drawbacks.**"
   ]
  },
  {
   "cell_type": "markdown",
   "id": "f5cef7a3-5591-486f-86ef-d11f148d2a29",
   "metadata": {},
   "source": [
    "**Ans:** Both the float and decimal types store numerical values in Python.\n",
    "\n",
    "Use floats when convenience and speed matter. A float gives you an approximation of the number you declare.\n",
    "\n",
    "Use decimals when precision matters. Decimals can suffer from their own precision issues, but generally, decimals are more precise than floats. The performance difference between float and decimal, with Python 3, is not outlandish, and in my experience, the precision benefits of a decimal outweigh the performance benefits of a float."
   ]
  },
  {
   "cell_type": "markdown",
   "id": "50bf107b-2360-407e-bed3-8a5c20f4c737",
   "metadata": {},
   "source": [
    "**2. Decimal('1.200') and Decimal('1.2') are two objects to consider. In what sense are these the same object? Are these just two ways of representing the exact same value, or do they correspond to different internal states ?**"
   ]
  },
  {
   "cell_type": "markdown",
   "id": "3377fdbc-adc9-4063-a652-2bd51545d118",
   "metadata": {},
   "source": [
    "**Ans:** Both values are same but internal representation at storage Is different. Precsion differs, Decimal('1.200') gives internally 1.200 and Decimal('1.2') gives 1.2."
   ]
  },
  {
   "cell_type": "markdown",
   "id": "ce959fa9-58d3-43ef-bf2b-957574cd446a",
   "metadata": {},
   "source": [
    "**3. What happens if the equality of Decimal('1.200') and Decimal('1.2') is checked ?**\n"
   ]
  },
  {
   "cell_type": "markdown",
   "id": "1c86bf28-543c-451b-a9b6-5a3a214d5463",
   "metadata": {},
   "source": [
    "**Ans:** Both values are checked to be equal , they only differ in precision.\n",
    "\n"
   ]
  },
  {
   "cell_type": "markdown",
   "id": "569cdc5c-e7d2-4cba-b1de-832d48a59caf",
   "metadata": {},
   "source": [
    "**4. Why is it preferable to start a Decimal object with a string rather than a floating-point value ?**\n"
   ]
  },
  {
   "cell_type": "markdown",
   "id": "584f2093-38ea-4f0c-9b4a-7a42655e564c",
   "metadata": {},
   "source": [
    "**Ans:** Floating-point value is converted to Decimal format. Decimal can store float value with absolute precision. But when float value is given as Decimal object,it first has to be converted from floating point value which might already have rounding error.\n",
    "\n",
    "Hence it is preferable to start a Decimal object with a string."
   ]
  },
  {
   "cell_type": "markdown",
   "id": "e7ee12ee-4ac9-4b89-b2ec-d566d3a2f489",
   "metadata": {},
   "source": [
    "**5. In an arithmetic phrase, how simple is it to combine Decimal objects with integers ?**\n"
   ]
  },
  {
   "cell_type": "markdown",
   "id": "3027c4a6-c54b-4bb8-a272-fc5aca80e9ce",
   "metadata": {},
   "source": [
    "**Ans:** We can do it with use of Decimal().\n"
   ]
  },
  {
   "cell_type": "markdown",
   "id": "5161ec34-1439-4615-84e9-6254c36cd440",
   "metadata": {},
   "source": [
    "**6. Can Decimal objects and floating-point values be combined easily ?**\n"
   ]
  },
  {
   "cell_type": "markdown",
   "id": "2761d601-bf3b-4578-8408-cf0efffd1d28",
   "metadata": {},
   "source": [
    "**Ans:** Arithmetic operfations like Adding,subtracting or multiplying a Decimal object by a floating-point value is generates an error.\n",
    "\n",
    "To do these operations, the floating point has to be converted to a Decimal.\n",
    "\n"
   ]
  },
  {
   "cell_type": "markdown",
   "id": "9d8c0de7-9841-40f1-ae0e-a365e601a821",
   "metadata": {},
   "source": [
    "**7. Using the Fraction class but not the Decimal class, give an example of a quantity that can be expressed with absolute precision ?**\n"
   ]
  },
  {
   "cell_type": "markdown",
   "id": "bc583420-1284-4ac6-bbaa-19aa84e306c5",
   "metadata": {},
   "source": [
    "**Ans:** Value of 0.5 will be represented as ½.\n"
   ]
  },
  {
   "cell_type": "markdown",
   "id": "8af1d3e8-0f3c-457d-818f-6555a2ca0041",
   "metadata": {},
   "source": [
    "**8.Consider the following two fraction objects: Fraction(1, 2) and Fraction(1, 2). (5, 10). Is the internal state of these two objects the same? Why do you think that is ?**\n"
   ]
  },
  {
   "cell_type": "markdown",
   "id": "66fd1147-be36-425e-a24f-02c8ca13c7bd",
   "metadata": {},
   "source": [
    "**Ans:** Both will be reduced to 1/2\n"
   ]
  },
  {
   "cell_type": "markdown",
   "id": "d52511dd-be37-41d6-9af3-e592fad6ede6",
   "metadata": {},
   "source": [
    "**9. How do the Fraction class and the integer type (int) relate to each other? Containment or inheritance ?**\n"
   ]
  },
  {
   "cell_type": "markdown",
   "id": "71ba61b5-5752-48a5-8d27-7aeac2aa4654",
   "metadata": {},
   "source": [
    "**Ans:** Fraction class and integer type(int) are related in form of a container.It contains two ints, one the numerator and the other the denominator"
   ]
  },
  {
   "cell_type": "code",
   "execution_count": null,
   "id": "b484189a-88b9-4010-9834-550e09b6d132",
   "metadata": {},
   "outputs": [],
   "source": []
  }
 ],
 "metadata": {
  "kernelspec": {
   "display_name": "Python 3 (ipykernel)",
   "language": "python",
   "name": "python3"
  },
  "language_info": {
   "codemirror_mode": {
    "name": "ipython",
    "version": 3
   },
   "file_extension": ".py",
   "mimetype": "text/x-python",
   "name": "python",
   "nbconvert_exporter": "python",
   "pygments_lexer": "ipython3",
   "version": "3.12.1"
  }
 },
 "nbformat": 4,
 "nbformat_minor": 5
}
