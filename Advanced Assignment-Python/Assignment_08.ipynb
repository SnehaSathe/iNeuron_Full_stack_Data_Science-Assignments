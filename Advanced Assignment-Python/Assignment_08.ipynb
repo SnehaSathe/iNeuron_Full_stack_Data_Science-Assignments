{
 "cells": [
  {
   "cell_type": "markdown",
   "id": "739fcf17-6a16-4ebe-a04f-6d39a1953eba",
   "metadata": {},
   "source": [
    "**Assignment 08 Solutions**"
   ]
  },
  {
   "cell_type": "markdown",
   "id": "249e11c8-d721-4762-bd43-0c3f7bd97b46",
   "metadata": {},
   "source": [
    "**Q1. What are the two latest user-defined exception constraints in Python 3.X?**"
   ]
  },
  {
   "cell_type": "markdown",
   "id": "e76941fd-69da-477b-9aa9-92e40d02699d",
   "metadata": {},
   "source": [
    "**Ans:** raise and assert are the two latest user-defined exception constraints in Python 3.X"
   ]
  },
  {
   "cell_type": "markdown",
   "id": "5b04c825-ebb8-42d9-9c3d-99a27cfb1d32",
   "metadata": {},
   "source": [
    "**Q2. How are class-based exceptions that have been raised matched to handlers?**"
   ]
  },
  {
   "cell_type": "markdown",
   "id": "ea757f5e-a91f-4c64-959b-2f4e1991add1",
   "metadata": {},
   "source": [
    "**Ans:** In python, Users can define custom exceptions by creating a new class. This exception class has to be derived, either directly or indirectly from built-in Exception class. This new exception class like other exceptions can be raised using the raise statement with an optional error message."
   ]
  },
  {
   "cell_type": "code",
   "execution_count": 2,
   "id": "ab82abbe-c66a-46a4-9bea-afb72e754011",
   "metadata": {},
   "outputs": [
    {
     "ename": "ToYoungException",
     "evalue": "To Young For Voting",
     "output_type": "error",
     "traceback": [
      "\u001b[0;31m---------------------------------------------------------------------------\u001b[0m",
      "\u001b[0;31mToYoungException\u001b[0m                          Traceback (most recent call last)",
      "Cell \u001b[0;32mIn [2], line 5\u001b[0m\n\u001b[1;32m      3\u001b[0m         \u001b[38;5;28mself\u001b[39m\u001b[38;5;241m.\u001b[39mmsg \u001b[38;5;241m=\u001b[39m msg\n\u001b[1;32m      4\u001b[0m age \u001b[38;5;241m=\u001b[39m \u001b[38;5;241m12\u001b[39m\n\u001b[0;32m----> 5\u001b[0m \u001b[38;5;28;01mif\u001b[39;00m age \u001b[38;5;241m<\u001b[39m\u001b[38;5;241m=\u001b[39m \u001b[38;5;241m18\u001b[39m: \u001b[38;5;28;01mraise\u001b[39;00m ToYoungException(\u001b[38;5;124m'\u001b[39m\u001b[38;5;124mTo Young For Voting\u001b[39m\u001b[38;5;124m'\u001b[39m)\n",
      "\u001b[0;31mToYoungException\u001b[0m: To Young For Voting"
     ]
    }
   ],
   "source": [
    "class ToYoungException(Exception):\n",
    "    def __init__(self,msg):\n",
    "        self.msg = msg\n",
    "age = 12\n",
    "if age <= 18: raise ToYoungException('To Young For Voting')"
   ]
  },
  {
   "cell_type": "markdown",
   "id": "1a27aaf8-efc0-4f90-8653-4f79015304a1",
   "metadata": {},
   "source": [
    "**Q3. Describe two methods for attaching context information to exception artefacts ?**"
   ]
  },
  {
   "cell_type": "markdown",
   "id": "ae8a31d3-5081-49c5-9001-497cb262369e",
   "metadata": {},
   "source": [
    "**Ans:** The process() method of LoggerAdapter is where the contextual information is added to the logging output. its passes the message and keyword arguments of the logging call, and it passes back modified versions of these to use in the call to the underlying logger.\n",
    "\n",
    "Other method that can be used is exception(), Logs a messgae with level ERROR on this logger. The arguments are interpreted as for debug(). Exception info is added to the logging message."
   ]
  },
  {
   "cell_type": "markdown",
   "id": "7cf449d3-dc15-4502-8615-58a4229479af",
   "metadata": {},
   "source": [
    "**Q4. Describe two methods for specifying the text of an exception object's error message ?**"
   ]
  },
  {
   "cell_type": "markdown",
   "id": "3629c93b-3dc6-401b-b73b-91c5723f071a",
   "metadata": {},
   "source": [
    "**Ans:** raise and assert are two methods for specifying the text of an exception object's error message.raise statement is used to trigger explicit exception, if certain condition is not as per requirement of programmer. it helps in triggering exception as per need of programmer and logic.\n",
    "\n",
    "There are few assertions that programmer always want to be True to avoid code failure. This type of requirment is fullfilled by assert statement. This statement takes a Boolean Condition output of which if True, further program executes. if output of assert statement is False it raises an Assertion Error.\n"
   ]
  },
  {
   "cell_type": "markdown",
   "id": "14bf97e7-09c3-4118-a272-3b86a58a5827",
   "metadata": {},
   "source": [
    "**Q5. Why do you no longer use string-based exceptions?**"
   ]
  },
  {
   "cell_type": "markdown",
   "id": "9e5c95c7-19c9-4fd6-ab24-ab04616ee2c2",
   "metadata": {},
   "source": [
    "**Ans:** String-based Exceptions doesn't inherit from Exceptions. so plain exceptions catch all exceptions and not only system."
   ]
  }
 ],
 "metadata": {
  "kernelspec": {
   "display_name": "Python 3 (ipykernel)",
   "language": "python",
   "name": "python3"
  },
  "language_info": {
   "codemirror_mode": {
    "name": "ipython",
    "version": 3
   },
   "file_extension": ".py",
   "mimetype": "text/x-python",
   "name": "python",
   "nbconvert_exporter": "python",
   "pygments_lexer": "ipython3",
   "version": "3.10.6"
  }
 },
 "nbformat": 4,
 "nbformat_minor": 5
}
