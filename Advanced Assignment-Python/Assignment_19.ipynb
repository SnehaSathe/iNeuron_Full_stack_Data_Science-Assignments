{
 "cells": [
  {
   "cell_type": "markdown",
   "id": "f9573025-69ac-4d69-90dc-1df43f081a87",
   "metadata": {},
   "source": [
    "# Assignment No. 19 Solutions"
   ]
  },
  {
   "cell_type": "markdown",
   "id": "199aabe9-5370-403b-ac63-7c7169298504",
   "metadata": {},
   "source": [
    "**Q1. Define the relationship between a class and its instances. Is it a one-to-one or a one-to-many partnership, for example?**"
   ]
  },
  {
   "cell_type": "markdown",
   "id": "bc0df2a1-ee78-4bfd-a815-c7db94d50fa7",
   "metadata": {},
   "source": [
    "**Ans:** Relationship between a class and its instances is a one to many partnership."
   ]
  },
  {
   "cell_type": "markdown",
   "id": "da03cbfd-d74f-484d-892e-f018aa0cf291",
   "metadata": {},
   "source": [
    "**Q2. What kind of data is held only in an instance?**"
   ]
  },
  {
   "cell_type": "markdown",
   "id": "e5311421-780e-4b11-a17c-f396bb1ebb82",
   "metadata": {},
   "source": [
    "**Ans:** Instance objects contains the Instance variables which are specific to that specific Instance object."
   ]
  },
  {
   "cell_type": "markdown",
   "id": "fec21130-7586-468d-a6d5-d74f747d69c0",
   "metadata": {},
   "source": [
    "**Q3. What kind of knowledge is stored in a class?**"
   ]
  },
  {
   "cell_type": "markdown",
   "id": "7bed48ca-bd4e-4f39-aabe-d99450a03fdf",
   "metadata": {},
   "source": [
    "**Ans:** Class creates a user-defined data structure, which holds its own data members and member functions, which can be accessed and used by creating an instance of that class. A class is like a blueprint for an object."
   ]
  },
  {
   "cell_type": "markdown",
   "id": "59cf3cb0-9e39-4357-92dc-491b5dc9fd4b",
   "metadata": {},
   "source": [
    "**Q4. What exactly is a method, and how is it different from a regular function?**"
   ]
  },
  {
   "cell_type": "markdown",
   "id": "a84c706d-e427-4ebc-b0ce-adf1dd7178a7",
   "metadata": {},
   "source": [
    "**Ans:** The methods with a class can be used to access the insatnce variables of its instance. So,the object's state can be modified by its method. Function can't access the attributes of an instance of a class or can't modify the state of the object."
   ]
  },
  {
   "cell_type": "markdown",
   "id": "afb63165-4589-4173-a041-0a21f5c3762c",
   "metadata": {},
   "source": [
    "**Q5. Is inheritance supported in Python, and if so, what is the syntax?**"
   ]
  },
  {
   "cell_type": "markdown",
   "id": "824f6cdf-df18-46d9-b6ba-02d95091e72c",
   "metadata": {},
   "source": [
    "**Ans:** Yes,Python supports inheritance. The Types of Inheritence Supported by Python are:\n",
    "\n",
    "Simple Inheritence<br>\n",
    "Multiple Inheritence<br>\n",
    "Multilevel lInheritence<br>\n",
    "Hybrid Inheritence<br>\n",
    "Hierracial Inheritence"
   ]
  },
  {
   "cell_type": "code",
   "execution_count": 2,
   "id": "b4cde5f5-d3d0-49d8-bda9-576b89a26b06",
   "metadata": {},
   "outputs": [],
   "source": [
    "class Person:\n",
    "    def __init__(self, fname, lname):\n",
    "        self.first_name = fname\n",
    "        self.last_name = lname\n",
    "class Student(Person):\n",
    "    pass"
   ]
  },
  {
   "cell_type": "markdown",
   "id": "dd5b9839-06a1-4448-9f88-47cf985edbe3",
   "metadata": {},
   "source": [
    "**Q6. How much encapsulation (making instance or class variables private) does Python support?**"
   ]
  },
  {
   "cell_type": "markdown",
   "id": "315da146-afcb-4700-abb1-48a8bf766508",
   "metadata": {},
   "source": [
    "**Ans:** Encapsulation describes the idea of wrapping data and the methods that work on data within one unit. This puts restrictions on accessing variables and methods directly and can prevent the accidental modification of data. To prevent accidental change, an objects variable can only be changed by an objects method."
   ]
  },
  {
   "cell_type": "markdown",
   "id": "8967f733-8089-46f6-b6f9-0086e2c3ad60",
   "metadata": {},
   "source": [
    "**Q7. How do you distinguish between a class variable and an instance variable?**"
   ]
  },
  {
   "cell_type": "markdown",
   "id": "637c2b1f-2e5e-4227-9c0d-e0a03f321c05",
   "metadata": {},
   "source": [
    "**Ans:** The Class Attribute is available to all the instance objects of that class. whereas Instance Attributes are accessible only to the object or Instance of that class.\n",
    "\n",
    "A single copy of Class attributes is maintained by pvm at the class level. Whereas difference copies of instance attributes are maintained by pvm at objects/instance level."
   ]
  },
  {
   "cell_type": "markdown",
   "id": "86545db2-9e05-4645-a25d-ac48a5db6461",
   "metadata": {},
   "source": [
    "**Q8. When, if ever, can self be included in a class's method definitions?**"
   ]
  },
  {
   "cell_type": "markdown",
   "id": "3ac16ff3-d86e-452c-814a-0f1bcac22b1c",
   "metadata": {},
   "source": [
    "**Ans:** Yes, self can included in class method definations to access the instance variables inside class methods."
   ]
  },
  {
   "cell_type": "markdown",
   "id": "742c7dd3-7516-46bd-af73-9d90afcd678d",
   "metadata": {},
   "source": [
    "**Q9. What is the difference between the __add__ and the __radd__ methods ?**"
   ]
  },
  {
   "cell_type": "markdown",
   "id": "5d010b3f-8f0d-4883-b519-5c88c4c80cba",
   "metadata": {},
   "source": [
    "**Ans:** Entering __radd__ Python will first try __add__(), and if that returns Not Implemented Python will check if the right-hand operand implements __radd__, and if it does, it will call __radd__() rather than raising a TypeError"
   ]
  },
  {
   "cell_type": "markdown",
   "id": "006f3dd1-5696-4a91-9970-eeb466e949ee",
   "metadata": {},
   "source": [
    "**Q10. When is it necessary to use a reflection method? When do you not need it, even though you support the operation in question?**"
   ]
  },
  {
   "cell_type": "markdown",
   "id": "d2948f0b-9231-4a8a-9cb9-39d953b40fdb",
   "metadata": {},
   "source": [
    "**Ans:** Reflection method we often encounter the requirement that a method in the executing object, or a variable in the calling object, or a field of the object should be assigned, while the method name or field name can not be determined when encoding the code, and need to be input in the form of passing strings through parameters."
   ]
  },
  {
   "cell_type": "markdown",
   "id": "0a9a6bd2-4ff3-4c1f-bdb5-ac6899efb844",
   "metadata": {},
   "source": [
    "**Q11. What is the __iadd__ method called?**"
   ]
  },
  {
   "cell_type": "markdown",
   "id": "1024e3b8-dd16-4c2c-94b3-e88e1d5213c5",
   "metadata": {},
   "source": [
    "**Ans:** __iadd__ method is called when we use implementation like a+=b which is a.__iadd__(b)"
   ]
  },
  {
   "cell_type": "markdown",
   "id": "f9083df8-488c-43bb-a4ce-f53197caea83",
   "metadata": {},
   "source": [
    "**Q12. Is the _ _init_ _ method inherited by subclasses? What do you do if you need to customize its behavior within a subclass ?**"
   ]
  },
  {
   "cell_type": "markdown",
   "id": "947cfeb9-874a-4dc3-890e-7cc7c7dd66b5",
   "metadata": {},
   "source": [
    "**Ans:** Yes, __init__ method will be inherited by subclasses. if we want to customize its behaviour within a subclass we can use super() method."
   ]
  },
  {
   "cell_type": "code",
   "execution_count": null,
   "id": "b4e54fe3-d46e-4d8d-aeb1-c99e9ab63711",
   "metadata": {},
   "outputs": [],
   "source": []
  }
 ],
 "metadata": {
  "kernelspec": {
   "display_name": "Python 3 (ipykernel)",
   "language": "python",
   "name": "python3"
  },
  "language_info": {
   "codemirror_mode": {
    "name": "ipython",
    "version": 3
   },
   "file_extension": ".py",
   "mimetype": "text/x-python",
   "name": "python",
   "nbconvert_exporter": "python",
   "pygments_lexer": "ipython3",
   "version": "3.12.1"
  }
 },
 "nbformat": 4,
 "nbformat_minor": 5
}
