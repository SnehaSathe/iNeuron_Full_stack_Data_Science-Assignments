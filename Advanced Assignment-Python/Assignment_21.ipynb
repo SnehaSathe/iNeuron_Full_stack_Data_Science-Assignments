{
 "cells": [
  {
   "cell_type": "markdown",
   "id": "1aa8e4df-83f8-4c0e-a5af-43623d1d2025",
   "metadata": {},
   "source": [
    "# Assignment No. 21 Solutions"
   ]
  },
  {
   "cell_type": "markdown",
   "id": "edd38be6-584d-44a0-a473-964f76513e01",
   "metadata": {},
   "source": [
    "**Q1. What is a probability distribution, exactly? If the values are meant to be random, how can you predict them at all ?**\n"
   ]
  },
  {
   "cell_type": "markdown",
   "id": "23b5d2f7-8529-4a42-9251-fd24ebc4c7fe",
   "metadata": {},
   "source": [
    "**Ans:** A probability distribution describes how a random variable is distributed.\n",
    "\n",
    "It tells us which values a random variable is most likely to take on and which values are less likely. Based on the previous data and the occurences of the random event, we can predict the outcome in terms of probabilities.\n",
    "\n"
   ]
  },
  {
   "cell_type": "markdown",
   "id": "7918344d-8303-4d73-9d14-75559514d032",
   "metadata": {},
   "source": [
    "**Q2. Is there a distinction between true random numbers and pseudo-random numbers, if there is one? Why are the latter considered “good enough”?**\n"
   ]
  },
  {
   "cell_type": "markdown",
   "id": "ba350b55-988c-441f-ac5b-a04963cf149e",
   "metadata": {},
   "source": [
    "**Ans:**  True Random Numbers are true physical values while pseudo-random numbers are generated internally by a program . Latter is considered good enough as they have sort of uniform distribution.\n"
   ]
  },
  {
   "cell_type": "markdown",
   "id": "4ebbc9df-ce77-4798-ba1b-1f218384d227",
   "metadata": {},
   "source": [
    "**Q3. What are the two main factors that influence the behaviour of a \"normal\" probability distribution ?**\n"
   ]
  },
  {
   "cell_type": "markdown",
   "id": "57bc0d56-fe0f-4173-b234-7b8d97fb1b0a",
   "metadata": {},
   "source": [
    "**Ans:** Normal Probability Distribution are influenced by two factors mean and the variance."
   ]
  },
  {
   "cell_type": "markdown",
   "id": "0c0adae2-7465-4bf9-ba1f-d5747d803c8b",
   "metadata": {},
   "source": [
    "**Q4. Provide a real-life example of a normal distribution ?**\n"
   ]
  },
  {
   "cell_type": "markdown",
   "id": "b16279b2-e50a-443d-a596-971424bb3583",
   "metadata": {},
   "source": [
    "**Ans:** A Real-life example of a normal distribution are heights or blood pressure measurements\n",
    "\n"
   ]
  },
  {
   "cell_type": "markdown",
   "id": "0afcb86a-1458-4660-a266-c78ab370c735",
   "metadata": {},
   "source": [
    "**Q5. In the short term, how can you expect a probability distribution to behave? What do you think will happen as the number of trials grows ?**\n"
   ]
  },
  {
   "cell_type": "markdown",
   "id": "82e9d744-15f1-458c-97b7-ae43bf0ffca9",
   "metadata": {},
   "source": [
    "**Ans:** Variance will decrease with number of trials\n",
    "\n"
   ]
  },
  {
   "cell_type": "markdown",
   "id": "107f959b-57ed-4ab6-81b4-3221d2e91dc5",
   "metadata": {},
   "source": [
    "**Q6. What kind of object can be shuffled by using random.shuffle ?**\n"
   ]
  },
  {
   "cell_type": "markdown",
   "id": "e2bfd214-9003-49df-b107-04abf00d2572",
   "metadata": {},
   "source": [
    "**Ans:** lists (list), strings (str) and tuples (tuple) objects can be shuffled by using random.shuffle.\n"
   ]
  },
  {
   "cell_type": "markdown",
   "id": "24c72cdc-5013-4646-8850-65df53b0b2d4",
   "metadata": {},
   "source": [
    "**Q7. Describe the math package's general categories of functions ?**\n"
   ]
  },
  {
   "cell_type": "markdown",
   "id": "ca41a9cc-be46-4463-b378-906cb2afc69e",
   "metadata": {},
   "source": [
    "**Ans:** The Math package's general categories of functions are:\n",
    "\n",
    "Trigonometric functions\n",
    "Quadratic functions<br>\n",
    "Exponential functions<br>\n",
    "Hyperbolic functions<br>\n",
    "Periodic functions<br>\n",
    "Arithmetic functions<br>\n",
    "Logarithimic functions<br>\n",
    "Conversions to Integer"
   ]
  },
  {
   "cell_type": "markdown",
   "id": "9e13766c-c7bf-4ca8-aecf-59b3ff95100a",
   "metadata": {},
   "source": [
    "**Q8. What is the relationship between exponentiation and logarithms ?**\n"
   ]
  },
  {
   "cell_type": "markdown",
   "id": "16a65f63-d894-48f6-8dd6-a9759af036d9",
   "metadata": {},
   "source": [
    "**Ans:** Exponentiation and logarithms are inverse of each other.\n"
   ]
  },
  {
   "cell_type": "markdown",
   "id": "ca98c23b-df95-443e-a54d-3ab79417dc8f",
   "metadata": {},
   "source": [
    "**Q9. What are the three logarithmic functions that Python supports ?**"
   ]
  },
  {
   "cell_type": "markdown",
   "id": "5b192884-723e-40c6-b5e4-af3e60f5e14a",
   "metadata": {},
   "source": [
    "**Ans:** The Three Logarithmic Functions that Python supports are:\n",
    "\n",
    "log2(x) - logarithmic value of x to base 2<br>\n",
    "log10(x) - logarithmic value of x to base 10<br>\n",
    "log1p(a) - This function is used to compute logarithm(1+a) ."
   ]
  },
  {
   "cell_type": "code",
   "execution_count": null,
   "id": "a7a1b3ac-09b4-4028-8bfb-cd0ea3704624",
   "metadata": {},
   "outputs": [],
   "source": []
  }
 ],
 "metadata": {
  "kernelspec": {
   "display_name": "Python 3 (ipykernel)",
   "language": "python",
   "name": "python3"
  },
  "language_info": {
   "codemirror_mode": {
    "name": "ipython",
    "version": 3
   },
   "file_extension": ".py",
   "mimetype": "text/x-python",
   "name": "python",
   "nbconvert_exporter": "python",
   "pygments_lexer": "ipython3",
   "version": "3.12.1"
  }
 },
 "nbformat": 4,
 "nbformat_minor": 5
}
