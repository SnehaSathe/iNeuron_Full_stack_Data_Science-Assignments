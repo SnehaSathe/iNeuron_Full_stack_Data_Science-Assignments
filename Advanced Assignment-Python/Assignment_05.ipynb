{
 "cells": [
  {
   "cell_type": "markdown",
   "id": "1b8f3ecc-fb15-4428-8a94-6fb05aa148b8",
   "metadata": {},
   "source": [
    "**Assignment 05 Solutions**"
   ]
  },
  {
   "cell_type": "markdown",
   "id": "58423fb1-30bf-479d-84a5-46d927387f0f",
   "metadata": {},
   "source": [
    "**1. What is the meaning of multiple inheritance?**"
   ]
  },
  {
   "cell_type": "markdown",
   "id": "8e61ae0f-ddbf-49dd-8617-8e99688c5758",
   "metadata": {},
   "source": [
    "**Ans:** Inheritence is nothing but reusing the code of Parent class by the child class. Similary when a child class inherits its properties from multiple Parent classes this scenario is called Multiple Inheritence"
   ]
  },
  {
   "cell_type": "code",
   "execution_count": 1,
   "id": "8beabb10-eb18-4cb0-b94b-ba1ccb5a0ef2",
   "metadata": {},
   "outputs": [],
   "source": [
    "class Parent_one:\n",
    "    pass\n",
    "class Parent_two:\n",
    "    pass\n",
    "class child(Parent_one,Parent_two):\n",
    "    pass"
   ]
  },
  {
   "cell_type": "markdown",
   "id": "d5e44a00-700f-4560-93d7-904ebbb28775",
   "metadata": {},
   "source": [
    "**2. What is the concept of delegation?**"
   ]
  },
  {
   "cell_type": "markdown",
   "id": "9c170c87-84ed-490f-832c-8259ae81e29c",
   "metadata": {},
   "source": [
    "**Ans:** Delegation provides a proxy object for any class thay you want on top of the main class. its like a wrapper to your class so that you can access limited resources of the main class.\n",
    "\n",
    "it Wraps the object of main class into a smaller object with limited access\n",
    "\n",
    "Simply Delegation means that you can include a instance of another class as an instance variable, and forward messages to the instance."
   ]
  },
  {
   "cell_type": "code",
   "execution_count": 2,
   "id": "6480ed1b-5fa3-4fc8-ad63-40ad22b1714b",
   "metadata": {},
   "outputs": [
    {
     "name": "stdout",
     "output_type": "stream",
     "text": [
      "Hey iam back\n",
      "Hey iam back\n",
      "Hey iam back\n",
      "Iam the main class\n"
     ]
    }
   ],
   "source": [
    "class Myclass:\n",
    "    def sayHi(self):\n",
    "        print('Hey iam back')\n",
    "    def whoAmI(self):\n",
    "        print('Iam the main class')\n",
    "class NewClass:\n",
    "    def __init__(self,obj):\n",
    "        self.main = obj\n",
    "    def welcome(self):\n",
    "        self.main.sayHi()\n",
    "\n",
    "m = Myclass()        \n",
    "n = NewClass(m)\n",
    "m.sayHi()\n",
    "n.main.sayHi()\n",
    "n.welcome()\n",
    "n.main.whoAmI()"
   ]
  },
  {
   "cell_type": "markdown",
   "id": "de1f09f7-6ace-414e-a4d4-c26c806bdad3",
   "metadata": {},
   "source": [
    "**3. What is the concept of composition?**"
   ]
  },
  {
   "cell_type": "markdown",
   "id": "45ea742f-4d7f-4fe8-8eea-54311941104f",
   "metadata": {},
   "source": [
    "**Ans:** In the concept of Composition, a class refers to one or more other classes by using instances of those classes as a instance variable. irrespective of inheritence in this approach all the parent class members are not inherited into child class, but only required methods from a class are used by using class instances.\n",
    "\n"
   ]
  },
  {
   "cell_type": "code",
   "execution_count": 4,
   "id": "43b92956-4b6c-41f1-86a9-17c5ef59c775",
   "metadata": {},
   "outputs": [
    {
     "name": "stdout",
     "output_type": "stream",
     "text": [
      "Total Salary : 21600\n"
     ]
    }
   ],
   "source": [
    "class Salary:\n",
    "    def __init__(self,pay):\n",
    "        self.pay = pay\n",
    "    def get_total(self):\n",
    "        return self.pay*12\n",
    "    \n",
    "class Employee:\n",
    "    def __init__(self,pay,bonus):\n",
    "        self.pay = pay\n",
    "        self.bonus = bonus\n",
    "        self.obj_salary = Salary(self.pay)\n",
    "    def annual_salary(self):\n",
    "        return f'Total Salary : {str(self.obj_salary.get_total())}'\n",
    "\n",
    "obj_emp = Employee(1800,500)\n",
    "print(obj_emp.annual_salary())"
   ]
  },
  {
   "cell_type": "markdown",
   "id": "7ae6c84a-d870-4645-9fb1-8de65803a886",
   "metadata": {},
   "source": [
    "**4. What are bound methods and how do we use them?**"
   ]
  },
  {
   "cell_type": "code",
   "execution_count": null,
   "id": "c7e4ad4a-9342-4f78-94d4-52a59bf09260",
   "metadata": {},
   "outputs": [],
   "source": [
    "**Ans:** If a function is an attribute of class and it is accessed via the instances, they are called bound methods. A bound method is one that has self as its first argument. Since these are dependent on the instance of classes, these are also known as instance methods."
   ]
  }
 ],
 "metadata": {
  "kernelspec": {
   "display_name": "Python 3 (ipykernel)",
   "language": "python",
   "name": "python3"
  },
  "language_info": {
   "codemirror_mode": {
    "name": "ipython",
    "version": 3
   },
   "file_extension": ".py",
   "mimetype": "text/x-python",
   "name": "python",
   "nbconvert_exporter": "python",
   "pygments_lexer": "ipython3",
   "version": "3.10.6"
  }
 },
 "nbformat": 4,
 "nbformat_minor": 5
}
