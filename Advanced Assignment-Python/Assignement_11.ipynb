{
 "cells": [
  {
   "cell_type": "markdown",
   "id": "679dc979-431b-4a3e-bd91-bd68d2fef090",
   "metadata": {},
   "source": [
    "**Assignment 11 Solutions**"
   ]
  },
  {
   "cell_type": "markdown",
   "id": "8ccb0e96-30d0-468f-b576-940b96ae4bee",
   "metadata": {},
   "source": [
    "**Q1. What is the concept of a metaclass?**"
   ]
  },
  {
   "cell_type": "markdown",
   "id": "ceb96172-82c1-4f56-932b-ce83aeaa8543",
   "metadata": {},
   "source": [
    "**Ans:** Metaclass in Python is a class of a class that defines how a class behaves. A class is itself a instance of Metaclass, and any Instance of Class in Python is an Instance of type metaclass. E.g. Type of of int, str, float, list, tuple and many more is of metaclass type."
   ]
  },
  {
   "cell_type": "code",
   "execution_count": 1,
   "id": "1276ed1b-e35e-4c2d-b29d-bc4f76035bb9",
   "metadata": {},
   "outputs": [],
   "source": [
    "# our metaclass\n",
    "class MultiBases(type):\n",
    "    # overriding __new__ method\n",
    "    def __new__(cls, clsname, bases, clsdict):\n",
    "        # if no of base classes is greater than 1\n",
    "        # raise error\n",
    "        if len(bases)>1:\n",
    "            raise TypeError(\"Inherited multiple base classes!!!\")\n",
    "            # else execute __new__ method of super class, ie.\n",
    "            # call __init__ of type class\n",
    "            return super().__new__(cls, clsname, bases, clsdict)\n",
    "        # metaclass can be specified by 'metaclass' keyword argument\n",
    "        # now MultiBase class is used for creating classes\n",
    "        # this will be propagated to all subclasses of Base\n",
    "        class Base(metaclass=MultiBases):\n",
    "            pass\n",
    "        # no error is raised\n",
    "        class A(Base):\n",
    "            pass\n",
    "        # no error is raised\n",
    "        class B(Base):\n",
    "            pass\n",
    "        \n",
    "        # This will raise an error!\n",
    "        class C(A, B):\n",
    "            pass\n",
    "        "
   ]
  },
  {
   "cell_type": "markdown",
   "id": "532d9dfd-8751-4d34-8b12-30a54952fff4",
   "metadata": {},
   "source": [
    "**Q2. What is the best way to declare a class's metaclass?**"
   ]
  },
  {
   "cell_type": "markdown",
   "id": "722a77df-2907-4c9d-aac8-1a1f7d933cbf",
   "metadata": {},
   "source": [
    "**Ans:** A way to declare a class’ metaclass is by using metaclass keyword in class definition."
   ]
  },
  {
   "cell_type": "code",
   "execution_count": 2,
   "id": "c970ab04-6f34-41ca-877a-94592e545832",
   "metadata": {},
   "outputs": [
    {
     "name": "stdout",
     "output_type": "stream",
     "text": [
      "<class 'type'>\n",
      "<class '__main__.meta'>\n"
     ]
    }
   ],
   "source": [
    "class meta(type):\n",
    "    pass\n",
    "class class_meta(metaclass=meta):\n",
    "    pass\n",
    "print(type(meta))\n",
    "print(type(class_meta))"
   ]
  },
  {
   "cell_type": "markdown",
   "id": "72675155-4430-4759-8aa5-0db5466004b5",
   "metadata": {},
   "source": [
    "**Q3. How do class decorators overlap with metaclasses for handling classes ?**"
   ]
  },
  {
   "cell_type": "markdown",
   "id": "854c18b6-bf52-43d1-9f2f-83bfacbcbd85",
   "metadata": {},
   "source": [
    "**Ans:** Anything you can do with a class decorator, you can of course do with a custom metaclasses (just apply the functionality of the \"decorator function\", i.e., the one that takes a class object and modifies it, in the course of the metaclass's __new__ or __init__ that make the class object!)."
   ]
  },
  {
   "cell_type": "markdown",
   "id": "0b42d3da-b9eb-4614-80ad-23168c541ae4",
   "metadata": {},
   "source": [
    "**Q4. How do class decorators overlap with metaclasses for handling instances?**"
   ]
  },
  {
   "cell_type": "markdown",
   "id": "97a8c43e-3f32-4784-89fc-19da85fd11db",
   "metadata": {},
   "source": [
    "**Ans:** Anything you can do with a class decorator, you can of course do with a custom metaclass (just apply the functionality of the \"decorator function\", i.e., the one that takes a class object and modifies it, in the course of the metaclass's __new__ or __init__ that make the class object!)."
   ]
  }
 ],
 "metadata": {
  "kernelspec": {
   "display_name": "Python 3 (ipykernel)",
   "language": "python",
   "name": "python3"
  },
  "language_info": {
   "codemirror_mode": {
    "name": "ipython",
    "version": 3
   },
   "file_extension": ".py",
   "mimetype": "text/x-python",
   "name": "python",
   "nbconvert_exporter": "python",
   "pygments_lexer": "ipython3",
   "version": "3.10.6"
  }
 },
 "nbformat": 4,
 "nbformat_minor": 5
}
