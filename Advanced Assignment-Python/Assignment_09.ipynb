{
 "cells": [
  {
   "cell_type": "markdown",
   "id": "bd298ba3-425b-4c58-b5b7-6894c4752e1d",
   "metadata": {},
   "source": [
    "**Assignment 09 Solutions**"
   ]
  },
  {
   "cell_type": "markdown",
   "id": "73d37342-7353-466b-a163-3827ed9e2341",
   "metadata": {},
   "source": [
    "**Q1. In Python 3.X, what are the names and functions of string object types?**"
   ]
  },
  {
   "cell_type": "markdown",
   "id": "dad2b088-b8be-403a-9d33-9687354da6f1",
   "metadata": {},
   "source": [
    "**Ans:** The following are the names and functions of string object types in Python 3.X\n",
    "\n",
    "<stirng>.isdecimal() -> Returns True if all characters in a string are decimal.<br>\n",
    "<string>.isalnum() -> Returns True if all characters in the string are AlphaNumeric.<br>\n",
    "<string>.istitle() -> Returns True if first character in a string is in Uppercase.<br>\n",
    "<string>.partition(<sub_string>) -> Splits string at first occurance of sub string and returns a tuple of 3 elements.<br>\n",
    "<string>.rpartition(<sub_string>) -> Splits string at last occurance of sub string and returns a tuple of 3 elements.<br>\n",
    "<string>.isidentifier() -> Returns True if give string is a valid identifier name.<br>\n",
    "len(<string>) -> Returns the length of the given string.<br>\n",
    "<string>.index(<sub_string>) -> Returns the lowest index of substring if substring is found in the string.<br>\n",
    "<string>.rindex(<sub_string>) -> Returns the highest index of substring if substring is found in the string.<br>\n",
    "max(<string>) -> Returns the highest Alphabetical Character in the string as per ASCII.<br>\n",
    "min(<string>) -> Returns the lowest Alphabetical Character in the string as per ASCII.<br>\n",
    "<string>.splitlines() -> Returns a list of lines in the string.<br>\n",
    "<string>.capitalize() -> Returns the string with first character capitalized.<br>\n",
    "<string>.upper() -> Returns the string with all characters in uppercase.<br>\n",
    "<string>.lower() -> Returns the string with all characters in lowercase<br>\n",
    "<string>.casefold() -> Returns the string in lowercase which can be used for caseless comparisions.<br>\n",
    "<string>.expandtabs(no_of_spaces) -> Replaces tabs in a string with specified no of spaces default is 8<br>\n",
    "<string>.find(<sub_string>) -> Returns lowest index of substring if substring is found in the string else returns -1.<br>\n",
    "<string>.rfind(<sub_string>) -> Returns highest index of substring if substring is found in the string else returns -1.<br>\n",
    "<string>.count(<char>) -> Returns the no of occurances of the char in the given string.<br>\n",
    "<string>.split(<sep>) -> Returns list of words seperated by given sep else seperated by whitespace.<br>\n",
    "<string>.rsplit(<sep>) -> Returns list of words seperated by given sep else seperated by whitespace scanning from end.<br>\n",
    "<string>.lstrip() -> Returns a copy of where leading whitespaces are removed.<br>\n",
    "<string>.rstrip() -> Returns a copy of where trailed whitespaces are removed.<br>\n",
    "<string>.strip() -> Returns a copy of where both leading and trailing whitespaces are removed.<br>\n",
    "<string>.swapcase() -> Swaps lowercase characters with uppercase and vice versa.<br>\n",
    "<sep>.join(<list>) -> Concatenates a list or tuple of words with intervening occuernces of sep.<br>\n",
    "<string>.translate(<mapping_table>) -> translates the characters using table.<br>\n",
    "<string>.maketrans(<dict>) -> Creating a mapping translation tbale usable for <string>.translate(<mapping_table>)<br>\n",
    "<string>.replace(<char_1>,<char_2>) -> Replace all occurances of char_1 with char_2 in string.<br>\n",
    "<string>.encode() -> Encodes string into any encoding supported by python. Default encoding is UTF-8.<br>\n",
    "<string>.ljust(<no_of_spaces>) -> Left-justify in a field of given width.<br>\n",
    "<string>.rjust(<no_of_spaces>) -> Right-justify in a field of given width.<br>\n",
    "<string>.center(<no_of_spaces>) -> Center-justify in a field of given width.<br>\n",
    "<string>.expandtabs(no_of_spaces) -> Replaces tabs in a string with specified no of spaces default is 8<br>\n",
    "<string>.find(<sub_string>) -> Returns lowest index of substring if substring is found in the string else returns -1.<br>\n",
    "<string>.rfind(<sub_string>) -> Returns highest index of substring if substring is found in the string else returns -1.<br>\n",
    "<string>.count(<char>) -> Returns the no of occurances of the char in the given string.<br>\n",
    "<string>.split(<sep>) -> Returns list of words seperated by given sep else seperated by whitespace.<br>\n",
    "<string>.rsplit(<sep>) -> Returns list of words seperated by given sep else seperated by whitespace scanning from end.<br>\n",
    "<string>.lstrip() -> Returns a copy of where leading whitespaces are removed.<br>\n",
    "<string>.rstrip() -> Returns a copy of where trailed whitespaces are removed.<br><br>\n",
    "<string>.strip() -> Returns a copy of where both leading and trailing whitespaces are removed.<br>\n",
    "<string>.swapcase() -> Swaps lowercase characters with uppercase and vice versa.<br>\n",
    "<sep>.join(<list>) -> Concatenates a list or tuple of words with intervening occuernces of sep.<br>\n",
    "<string>.translate(<mapping_table>) -> translates the characters using table.<br>\n",
    "<string>.maketrans(<dict>) -> Creating a mapping translation tbale usable for <string>.translate(<mapping_table>)<br>\n",
    "<string>.replace(<char_1>,<char_2>) -> Replace all occurances of char_1 with char_2 in string.<br>\n",
    "<string>.encode() -> Encodes string into any encoding supported by python. Default encoding is UTF-8.<br>\n",
    "<string>.ljust(<no_of_spaces>) -> Left-justify in a field of given width.<br>\n",
    "<string>.rjust(<no_of_spaces>) -> Right-justify in a field of given width.<br>\n",
    "<string>.center(<no_of_spaces>) -> Center-justify in a field of given width.<br>"
   ]
  },
  {
   "cell_type": "code",
   "execution_count": 1,
   "id": "b5e15e75-fe6d-4554-8c1a-6590e9ad38fd",
   "metadata": {},
   "outputs": [
    {
     "name": "stdout",
     "output_type": "stream",
     "text": [
      "True\n",
      "True\n",
      "False\n",
      "('\"I could eat ', 'bananas', ' all day, bananas are my favorite fruit\"')\n",
      "('\"I could eat bananas all day, ', 'bananas', ' are my favorite fruit\"')\n",
      "True\n",
      "17\n",
      "1\n",
      "6\n",
      "t\n",
      "A\n",
      "['Ineuron ', ' Full Stack ', ' Data Science ', ' Course ']\n",
      "Finding nemo\n",
      "DATAPIPELINES\n",
      "mlops\n",
      "doloris jane umbridge\n",
      "Data science    Data Analyst\n",
      "1\n",
      "6\n",
      "2\n",
      "['i', 'euro', '']\n",
      "['i', 'euro', '']\n",
      "EDA \n",
      " EDA\n",
      "EDA\n",
      "eXPLORATORY dATA aNALYSIS\n",
      "Iris_flower_Dataset\n",
      "Hello Pam!\n",
      "Hello Pam!\n",
      "I2euro2\n",
      "b'Natural Language Processing'\n",
      "Demo      \n",
      "      Demo\n",
      "   Demo   \n",
      "00000Hello\n"
     ]
    }
   ],
   "source": [
    "print('1234567890'.isdecimal())\n",
    "print('IneuronFullStackDS'.isalnum())\n",
    "print('Ineuron Full Stack Data science'.istitle())\n",
    "print('\"I could eat bananas all day, bananas are my favorite fruit\"'.partition('bananas'))\n",
    "print('\"I could eat bananas all day, bananas are my favorite fruit\"'.rpartition('bananas'))\n",
    "print('GeeksForFreaks'.isidentifier())\n",
    "print(len('Linear Regression'))\n",
    "print('Ineuron'.index('n'))\n",
    "print('Ineuron'.rindex('n'))\n",
    "print(max('Data_Scientist'))\n",
    "print(min('Data_Analyst'))\n",
    "print('Ineuron \\n Full Stack \\n Data Science \\n Course '.splitlines())\n",
    "print('finding nemo'.capitalize())\n",
    "print('datapipelines'.upper())\n",
    "print('MLOPS'.lower())\n",
    "print('Doloris Jane Umbridge'.casefold())\n",
    "print('Data science\\tData Analyst'.expandtabs(8))\n",
    "print('Ineuron'.find('n'))\n",
    "print('Ineuron'.rfind('n'))\n",
    "print('Transformers'.count('s'))\n",
    "print('ineuron'.split('n'))\n",
    "print('ineuron'.rsplit('n'))\n",
    "print(' EDA '.lstrip())\n",
    "print(' EDA '.rstrip())\n",
    "print(' EDA '.strip())\n",
    "print('Exploratory Data Analysis'.swapcase())\n",
    "print('_'.join(['Iris','flower','Dataset']))\n",
    "\n",
    "mydict = {83:  80}\n",
    "print(\"Hello Sam!\".translate(mydict))\n",
    "\n",
    "txt = \"Hello Sam!\"\n",
    "mytable = txt.maketrans(\"S\", \"P\")\n",
    "print(txt.translate(mytable))\n",
    "\n",
    "print('Ineuron'.replace('n','2'))\n",
    "print('Natural Language Processing'.encode())\n",
    "print('Demo'.ljust(10))\n",
    "print('Demo'.rjust(10))\n",
    "print('Demo'.center(10))\n",
    "print('Hello'.zfill(10))"
   ]
  },
  {
   "cell_type": "markdown",
   "id": "3fbcfaab-4b23-4202-bbad-0c7e0e280ed2",
   "metadata": {},
   "source": [
    "**Q2. How do the string forms in Python 3.X vary in terms of operations?**"
   ]
  },
  {
   "cell_type": "markdown",
   "id": "94cbf0ae-7f99-4cc8-8dae-fd6a38bab207",
   "metadata": {},
   "source": [
    "**Ans:** In Python3 default format of strings is Unicode Whereas in Pyton2 we need to explicitly mention Unicode value using u."
   ]
  },
  {
   "cell_type": "markdown",
   "id": "3074d735-004c-4cbc-b46e-812e6bb37c24",
   "metadata": {},
   "source": [
    "**Q3. In Python 3.X, how do you put non-ASCII Unicode characters in a string?**"
   ]
  },
  {
   "cell_type": "markdown",
   "id": "abbf421b-f8b2-4ee6-bd68-a2ded4e60464",
   "metadata": {},
   "source": [
    "**Ans:** In Python 3.x unidecode() method from unidecode library can be used to put non-ASCII Unicode Characters in a string."
   ]
  },
  {
   "cell_type": "code",
   "execution_count": 2,
   "id": "28a2bff8-a324-4afb-b7f8-e99c4eba902f",
   "metadata": {},
   "outputs": [
    {
     "ename": "ModuleNotFoundError",
     "evalue": "No module named 'unidecode'",
     "output_type": "error",
     "traceback": [
      "\u001b[0;31m---------------------------------------------------------------------------\u001b[0m",
      "\u001b[0;31mModuleNotFoundError\u001b[0m                       Traceback (most recent call last)",
      "Cell \u001b[0;32mIn [2], line 1\u001b[0m\n\u001b[0;32m----> 1\u001b[0m \u001b[38;5;28;01mfrom\u001b[39;00m \u001b[38;5;21;01munidecode\u001b[39;00m \u001b[38;5;28;01mimport\u001b[39;00m unidecode\n\u001b[1;32m      2\u001b[0m \u001b[38;5;28mprint\u001b[39m(unidecode(\u001b[38;5;124mu\u001b[39m\u001b[38;5;124m'\u001b[39m\u001b[38;5;124mko\u001b[39m\u001b[38;5;130;01m\\u017e\u001b[39;00m\u001b[38;5;124mu\u001b[39m\u001b[38;5;130;01m\\u0161\u001b[39;00m\u001b[38;5;130;01m\\u010d\u001b[39;00m\u001b[38;5;124mek\u001b[39m\u001b[38;5;124m'\u001b[39m))\n\u001b[1;32m      3\u001b[0m \u001b[38;5;28mprint\u001b[39m(unidecode(\u001b[38;5;124m\"\u001b[39m\u001b[38;5;124mआप नीचे अपनी भाषा और इनपुट उपकरण चुनें और लिखना आरंभ करें\u001b[39m\u001b[38;5;124m\"\u001b[39m))\n",
      "\u001b[0;31mModuleNotFoundError\u001b[0m: No module named 'unidecode'"
     ]
    }
   ],
   "source": [
    "from unidecode import unidecode\n",
    "print(unidecode(u'ko\\u017eu\\u0161\\u010dek'))\n",
    "print(unidecode(\"आप नीचे अपनी भाषा और इनपुट उपकरण चुनें और लिखना आरंभ करें\"))\n",
    "print(unidecode(\"谢谢你\"))\n",
    "print(unidecode(\"ありがとう。\"))\n",
    "print(unidecode(\"улыбаться Владимир Путин\"))"
   ]
  },
  {
   "cell_type": "markdown",
   "id": "8ef712e4-8d1c-436f-88dc-887a866760e8",
   "metadata": {},
   "source": [
    "**Q4. In Python 3.X, what are the key differences between text-mode and binary-mode files?**"
   ]
  },
  {
   "cell_type": "markdown",
   "id": "28c0ae5d-6b54-4e66-974a-b8e6ac92af22",
   "metadata": {},
   "source": [
    "**Ans:** The major difference between these two is that a text file contains textual information in the form of alphabets, digits and special characters or symbols. On the other hand, a binary file contains bytes or a compiled version of a text file.\n",
    "\n",
    "When a file is opened in text mode, reading its data automatically decodes its content (as per the platform default or as per provided encoding), and returns it as a str; writing operation takes a str, and automatically encodes it before transferring to the file. Text mode files also support universal end-of-line translation, and encoding specification arguments.\n",
    "\n",
    "When a file is opened in binary mode by adding a b to the mode string argument in the open() call, reading its data does not decode it in any way, and simply returns its content raw and unchanged, as a bytes object; writing takes a bytes object and transfers it to the file unchanged. Binary-mode files also accept a bytearray object for the content to be written to the file."
   ]
  },
  {
   "cell_type": "markdown",
   "id": "6489829c-8b7c-4030-8932-5bed80639e66",
   "metadata": {},
   "source": [
    "**Q5. How can you interpret a Unicode text file containing text encoded in a different encoding than your platform's default?**"
   ]
  },
  {
   "cell_type": "markdown",
   "id": "49da19d7-6232-48b5-b97f-5190f445b141",
   "metadata": {},
   "source": [
    "**Ans:** Use of encode() and decode() method can be used to you interpret a Unicode text file containing text encoded in a different encoding than your platform's default, by default encoding parameter is UTF-8"
   ]
  },
  {
   "cell_type": "markdown",
   "id": "12f1de45-f163-44c0-9c8a-fa620e160298",
   "metadata": {},
   "source": [
    "**Q6. What is the best way to make a Unicode text file in a particular encoding format?**"
   ]
  },
  {
   "cell_type": "markdown",
   "id": "0d9f44e2-691a-4ec2-b114-3700daba6753",
   "metadata": {},
   "source": [
    "**Ans:** Use str.encode() and file.write() to make a Unicode text file in a particular encoding format, default encoding format is UTF-18.\n",
    "\n",
    "Call str.encode(encoding) with encoding set to utf8 to encode str.\n",
    "Call open(file, mode) to open a file with mode set to wb . wb writes to files in binary mode & preserves UTF-8format.\n",
    "Call file.write(data) to write data to the file."
   ]
  },
  {
   "cell_type": "code",
   "execution_count": 3,
   "id": "6ec8aaf8-f350-43af-8f8d-de2c0a8575ed",
   "metadata": {},
   "outputs": [
    {
     "name": "stdout",
     "output_type": "stream",
     "text": [
      "b'\\xd1\\x83\\xd0\\xbb\\xd1\\x8b\\xd0\\xb1\\xd0\\xb0\\xd1\\x82\\xd1\\x8c\\xd1\\x81\\xd1\\x8f \\xd0\\x92\\xd0\\xbb\\xd0\\xb0\\xd0\\xb4\\xd0\\xb8\\xd0\\xbc\\xd0\\xb8\\xd1\\x80 \\xd0\\x9f\\xd1\\x83\\xd1\\x82\\xd0\\xb8\\xd0\\xbd'\n",
      "\n",
      "b'\\xd1\\x83\\xd0\\xbb\\xd1\\x8b\\xd0\\xb1\\xd0\\xb0\\xd1\\x82\\xd1\\x8c\\xd1\\x81\\xd1\\x8f \\xd0\\x92\\xd0\\xbb\\xd0\\xb0\\xd0\\xb4\\xd0\\xb8\\xd0\\xbc\\xd0\\xb8\\xd1\\x80 \\xd0\\x9f\\xd1\\x83\\xd1\\x82\\xd0\\xb8\\xd0\\xbd'\n"
     ]
    }
   ],
   "source": [
    "unicode_text = u\"улыбаться Владимир Путин\"\n",
    "encoded_unicode_text = unicode_text.encode(\"utf-8\")\n",
    "print(encoded_unicode_text,end=\"\\n\\n\")\n",
    "\n",
    "w_file = open(\"w_file.txt\",\"wb\")\n",
    "w_file.write(encoded_unicode_text)\n",
    "w_file.close()\n",
    "\n",
    "r_file = open(\"w_file.txt\",\"rb\")\n",
    "data = r_file.read()\n",
    "print(data)\n"
   ]
  },
  {
   "cell_type": "markdown",
   "id": "5464a288-b8f0-43d1-89dd-10fc27b3462c",
   "metadata": {},
   "source": [
    "**Q7. What qualifies ASCII text as a form of Unicode text?**"
   ]
  },
  {
   "cell_type": "markdown",
   "id": "1a4a8087-b861-4770-b0ef-171ff72bb5c5",
   "metadata": {},
   "source": [
    "**Ans:** Unicode represents most written languages in the world. ASCII has its equivalent in Unicode. The difference between ASCII and Unicode is that ASCII represents lowercase letters (a-z), uppercase letters (A-Z), digits (0–9) and symbols such as punctuation marks while Unicode represents letters of English, Arabic, Greek etc. mathematical symbols, historical scripts, emoji covering a wide range of characters than ASCII.\n"
   ]
  },
  {
   "cell_type": "markdown",
   "id": "d7584ba3-4fa2-44dc-8790-3d91be2a11e9",
   "metadata": {},
   "source": [
    "**Q8. How much of an effect does the change in string types in Python 3.X have on your code?**\n",
    "Ans:** Python 3 stores strings as Unicode by default whereas Python 2 requires you to mark a string with a u if you want to store it as Unicode. Unicode strings are more versatile than ASCII strings, which are the Python 3.X default, as they can store letters from foreign languages as well as emoji and the standard Roman letters and numerals."
   ]
  }
 ],
 "metadata": {
  "kernelspec": {
   "display_name": "Python 3 (ipykernel)",
   "language": "python",
   "name": "python3"
  },
  "language_info": {
   "codemirror_mode": {
    "name": "ipython",
    "version": 3
   },
   "file_extension": ".py",
   "mimetype": "text/x-python",
   "name": "python",
   "nbconvert_exporter": "python",
   "pygments_lexer": "ipython3",
   "version": "3.10.6"
  }
 },
 "nbformat": 4,
 "nbformat_minor": 5
}
