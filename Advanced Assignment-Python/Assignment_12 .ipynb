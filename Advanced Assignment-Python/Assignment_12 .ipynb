{
 "cells": [
  {
   "cell_type": "markdown",
   "id": "1c97889a-f17b-4c03-a550-c22ce2405282",
   "metadata": {},
   "source": [
    "**Assignment no 12 soutions**"
   ]
  },
  {
   "cell_type": "markdown",
   "id": "c67bc219-7669-49db-92b1-ddc90bbf8e31",
   "metadata": {},
   "source": [
    "**Q1. Does assigning a value to a string&#39;s indexed character violate Python&#39;s string immutability?**"
   ]
  },
  {
   "cell_type": "markdown",
   "id": "c77dd1a4-fb65-4082-a76e-cc58f2d849da",
   "metadata": {},
   "source": [
    "**Ans:** String’s indexed character cannot to be assigned a New value , as Strings are immutable.<br>\n",
    "Example:<br>\n",
    "name = \"Reinforcement\"<br>\n",
    "print(id(name)) #73472<br>\n",
    "name[0] = \"V\" # Raises TypeError"
   ]
  },
  {
   "cell_type": "markdown",
   "id": "d5bb5e1c-f818-4b78-866a-3a81a8d6784a",
   "metadata": {},
   "source": [
    "**Q2. Does using the += operator to concatenate strings violate Python&#39;s string immutability? Why or\n",
    "why not?**"
   ]
  },
  {
   "cell_type": "markdown",
   "id": "6de58aaa-e033-45ad-927c-9a1ecb05042b",
   "metadata": {},
   "source": [
    "**Ans:** += operator is used to concatenate strings, it does not violate Python’s string immutability Property. Because doing so new creates a new association with data and variable. E.g. str_1=\"a\" and str_1+=\"b. effect of this statements to create string ab and reassign it to variable str_1, any string data is not actually modified.\n"
   ]
  },
  {
   "cell_type": "code",
   "execution_count": 2,
   "id": "38378ee9-438e-4b95-9f53-eb234d04b943",
   "metadata": {},
   "outputs": [
    {
     "name": "stdout",
     "output_type": "stream",
     "text": [
      "140696426328752\n",
      "140696354085168\n"
     ]
    }
   ],
   "source": [
    "str_1 = 'a'\n",
    "print(id(str_1))\n",
    "str_1 += 'b'\n",
    "print(id(str_1))"
   ]
  },
  {
   "cell_type": "markdown",
   "id": "5a4eef09-afc5-42c6-8d1d-7e90ab335400",
   "metadata": {},
   "source": [
    "**Q3. In Python, how many different ways are there to index a character?**"
   ]
  },
  {
   "cell_type": "markdown",
   "id": "6bcbf46e-4ef9-40ac-b96f-dd7a544fc38d",
   "metadata": {},
   "source": [
    "**Ans:** A Character in string can be indexed using string name followed by index number of character in square bracket. Positive Indexing i.e. first index is 0 an so on, or Negative Indexing i.e. last letter is -1 and so on can be used to index a character\n"
   ]
  },
  {
   "cell_type": "code",
   "execution_count": 3,
   "id": "c23342e6-88fd-4e28-a763-40ee3fa38612",
   "metadata": {},
   "outputs": [
    {
     "name": "stdout",
     "output_type": "stream",
     "text": [
      "u l e\n",
      "e i c\n"
     ]
    }
   ],
   "source": [
    "in_string = \"iNeuron Full Stack Data Science\"\n",
    "print(in_string[9],in_string[10],in_string[2]) # Positive Indexing\n",
    "print(in_string[-1],in_string[-5],in_string[-2]) # Negative Indexing"
   ]
  },
  {
   "cell_type": "markdown",
   "id": "ff03d114-9222-43ef-9f51-89ddca7e7c02",
   "metadata": {},
   "source": [
    "**Q4. What is the relationship between indexing and slicing?**"
   ]
  },
  {
   "cell_type": "markdown",
   "id": "e7a282de-943e-40da-bb65-5f278fd5b704",
   "metadata": {},
   "source": [
    "**Ans:** We can access elements of sequence datatypes by using slicing and indexing. Indexing is used to obtaining individual element while slicing for sequence of elements.\n",
    "\n"
   ]
  },
  {
   "cell_type": "code",
   "execution_count": 4,
   "id": "b40a6610-237f-4053-82cd-1f9dfd753344",
   "metadata": {},
   "outputs": [
    {
     "name": "stdout",
     "output_type": "stream",
     "text": [
      "N u o\n",
      "Neuron Full St\n"
     ]
    }
   ],
   "source": [
    "in_string = \"iNeuron Full Stack Data Science\"\n",
    "print(in_string[1],in_string[3],in_string[5]) # Indexing\n",
    "print(in_string[1:15]) # Slicing"
   ]
  },
  {
   "cell_type": "markdown",
   "id": "a3f8c05f-beb8-427f-aa20-e5d9860dddcc",
   "metadata": {},
   "source": [
    "**Q5. What is an indexed character's exact data type? What is the data form of a slicing-generated substring?**"
   ]
  },
  {
   "cell_type": "markdown",
   "id": "cfa948c2-6b43-4420-9b70-163f554c2d2c",
   "metadata": {},
   "source": [
    "**Ans:** Indexed characters and sliced substrings have datatype String.\n",
    "\n"
   ]
  },
  {
   "cell_type": "code",
   "execution_count": 5,
   "id": "9e919954-4cf5-4816-abad-12ba2cc7032e",
   "metadata": {},
   "outputs": [
    {
     "name": "stdout",
     "output_type": "stream",
     "text": [
      "<class 'str'>\n",
      "<class 'str'>\n"
     ]
    }
   ],
   "source": [
    "in_string = \"iNeuron Full Stack Data Science\"\n",
    "print(type(in_string[3])) # Indexing -> str\n",
    "print(type(in_string[1:10])) # Indexing -> str"
   ]
  },
  {
   "cell_type": "markdown",
   "id": "7c9483f0-0f60-4973-8a11-218d3fbb5f00",
   "metadata": {},
   "source": [
    "**Q6. What is the relationship between string and character \"types\" in Python?**"
   ]
  },
  {
   "cell_type": "markdown",
   "id": "01b0e9f5-f965-43b8-bcae-dd018769951a",
   "metadata": {},
   "source": [
    "**Ans:** Object that contains sequence of character datatypes are called String."
   ]
  },
  {
   "cell_type": "markdown",
   "id": "4e5b7f4d-154f-4a53-b86b-19b005e82559",
   "metadata": {},
   "source": [
    "**Q7. Identify at least two operators & one method that allow you to combine one or more smaller strings to create a larger string ?**"
   ]
  },
  {
   "cell_type": "markdown",
   "id": "0fcb9a3e-f5f5-452d-bd34-3e7947e08a17",
   "metadata": {},
   "source": [
    "**Ans:** +, += and * allow to combine one or more smaller strings to create a larger string. <string>.join(<sep>) method joins element of iterable type like list and tuple to get a combined string.\n"
   ]
  },
  {
   "cell_type": "code",
   "execution_count": 6,
   "id": "29306f4c-ff51-460c-91cd-f11edc2b7d10",
   "metadata": {},
   "outputs": [
    {
     "name": "stdout",
     "output_type": "stream",
     "text": [
      "iNeuron Full Stack Data Science FSDS\n",
      "FSDS FSDS FSDS \n",
      "I N E U R O N\n",
      "i n e u r o n\n"
     ]
    }
   ],
   "source": [
    "in_string = 'iNeuron '\n",
    "in_string += 'Full Stack Data Science'\n",
    "print(in_string + ' FSDS')\n",
    "print('FSDS '*3)\n",
    "print(\" \".join(['I','N','E','U','R','O','N'])) # List Iterable\n",
    "print(\" \".join(('I','N','E','U','R','O','N')).lower()) # Tuple Iterable"
   ]
  },
  {
   "cell_type": "markdown",
   "id": "8ecd4efe-c802-44a4-baa9-318f9d6c5b39",
   "metadata": {},
   "source": [
    "**Q8. What is the benefit of first checking the target string with in or not in before using the index method to find a substring ?**\n"
   ]
  },
  {
   "cell_type": "markdown",
   "id": "6b9aed96-9709-445e-a8a3-8b023e38c9a2",
   "metadata": {},
   "source": [
    "**Ans:** Checking the target string with in or not Operators before using the index method to find a substring just helps confirming availability of substring and thus avoid raising of ValueError.<br>\n",
    "Example:<br>\n",
    "in_string = \"ineuron\"<br>\n",
    "in_string.index('x') # Raises ValueError<br>\n",
    "in_string.index('u') # 3"
   ]
  },
  {
   "cell_type": "markdown",
   "id": "37a166a2-263b-4405-b155-dcc9cc403894",
   "metadata": {},
   "source": [
    "**Q9. Which operators and built-in string methods produce simple Boolean (true/false) results?**"
   ]
  },
  {
   "cell_type": "markdown",
   "id": "fd618349-e693-4bc5-a6c6-12c71c5dccf7",
   "metadata": {},
   "source": [
    "Ans: The String Operators and built-in methods to Produce Simple Boolean (True/False) Results are:\n",
    "\n",
    "<string>.in<br>\n",
    "<string>.not<br>\n",
    "<string>.isalpha()<br>\n",
    "<string>.isalnum()<br>\n",
    "<string>.isdecimal()<br>\n",
    "<string>.isdigit()<br\n",
    "<string>.islower()\n",
    "<string>.isnumeric()\n",
    "<string>.isprintable()\n",
    "<string>.isspace()\n",
    "<string>.istitle()"
   ]
  },
  {
   "cell_type": "code",
   "execution_count": null,
   "id": "7261f4ff-92e7-4397-9064-8ffc0fdaf2ac",
   "metadata": {},
   "outputs": [],
   "source": []
  }
 ],
 "metadata": {
  "kernelspec": {
   "display_name": "Python 3 (ipykernel)",
   "language": "python",
   "name": "python3"
  },
  "language_info": {
   "codemirror_mode": {
    "name": "ipython",
    "version": 3
   },
   "file_extension": ".py",
   "mimetype": "text/x-python",
   "name": "python",
   "nbconvert_exporter": "python",
   "pygments_lexer": "ipython3",
   "version": "3.10.6"
  }
 },
 "nbformat": 4,
 "nbformat_minor": 5
}
