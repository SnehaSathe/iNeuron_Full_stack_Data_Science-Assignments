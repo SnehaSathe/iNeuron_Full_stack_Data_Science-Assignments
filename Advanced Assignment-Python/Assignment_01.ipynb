{
 "cells": [
  {
   "cell_type": "markdown",
   "id": "393b7d7a-1365-4de7-9496-22ce6eaaa826",
   "metadata": {},
   "source": [
    "**Assignment 01 Solutions**"
   ]
  },
  {
   "cell_type": "markdown",
   "id": "4b436605-ce8e-460c-bacc-26a3e860c202",
   "metadata": {},
   "source": [
    "**Q1. What is the purpose of Python's OOP?**"
   ]
  },
  {
   "cell_type": "markdown",
   "id": "893fe6c2-f406-4ea8-afa6-5add3c920eec",
   "metadata": {},
   "source": [
    "**Ans:** Object-oriented programming is a programming paradigm that provides a means of structuring programs so that properties and behaviors are bundled into individual objects\n",
    "\n",
    "In Python, object-oriented Programming (OOPs) uses objects and classes in programming.<br>\n",
    "It aims to implement real-world entities like inheritance, polymorphisms, encapsulation, etc. in the programming.<br>\n",
    "The main concept of OOPs is to bind the data and the functions that work on that together as a single unit so that no other part of the code can access this data.<br>\n",
    "It comes up with the following advantages:<br>\n",
    "It helps to divide our over all program into different small segments and thus making it solving easy with the use of objects\n",
    "Helps in easy maintenance and modification of existing program\n",
    "Multiple instances of an object can be made."
   ]
  },
  {
   "cell_type": "markdown",
   "id": "c44e7596-7462-491d-83ad-86dc1d3b316f",
   "metadata": {},
   "source": [
    "**Q2. Where does an inheritance search look for an attribute?**"
   ]
  },
  {
   "cell_type": "markdown",
   "id": "043eeac2-1f68-43bd-ba8c-5790d522848f",
   "metadata": {},
   "source": [
    "**Ans:** Python searches for an attribute in an upward tree of attributes. it first searches for the attribute in its instance and then looks in the class it is generated from, to all super classes listed in its class header"
   ]
  },
  {
   "cell_type": "markdown",
   "id": "1fb12af8-cae4-4d17-909d-762e058c9eed",
   "metadata": {},
   "source": [
    "**Q3. How do you distinguish between a class object and an instance object?**"
   ]
  },
  {
   "cell_type": "markdown",
   "id": "936bd1d1-b61e-48e8-952a-49d53d4cbe88",
   "metadata": {},
   "source": [
    "**Ans:** The differences between a class object and an instance object are:<br>\n",
    "\n",
    "1. Class is a template for creating objects whereas object is an instance of class<br>\n",
    "2. Seperate memory is allocated for each object whenever an object is created. but for a class this doesnot happens.<br>\n",
    "3. A Class is created once. Many objects are created using a class.<br>\n",
    "4. As Classes have no allocated memory. they can't be manipulated. but objects can be manipulated."
   ]
  },
  {
   "cell_type": "markdown",
   "id": "ddccdb4f-206e-4a75-9211-8ec85d340ad5",
   "metadata": {},
   "source": [
    "**Q4. What makes the first argument in a class’s method function special?**"
   ]
  },
  {
   "cell_type": "markdown",
   "id": "bd946e15-b699-4953-afef-114743783c21",
   "metadata": {},
   "source": [
    "**Ans:** Python Classes usually have three types of methods which are:<br>\n",
    "\n",
    "Instance Methods (object level methods)<br>\n",
    "Class Methods (class level methods)<br>\n",
    "Static Methods (general utility methods)<br>\n",
    "self is the first argument for instance methods. which refers to the object itself<br>\n",
    "cls is the first argument for class methods which refers to the class itself"
   ]
  },
  {
   "cell_type": "markdown",
   "id": "91778648-30b9-46f6-baaf-0f049433427f",
   "metadata": {},
   "source": [
    "**Q5. What is the purpose of the init method?**"
   ]
  },
  {
   "cell_type": "markdown",
   "id": "08d68881-3776-48f0-a324-b84afbe0124b",
   "metadata": {},
   "source": [
    "**Ans:**  __init__ is a reseved method in python classes. It serves the role of a constructor in object oriented terminology. This method is called when an object is created from a class and it allows the class to initialize the attributes of the class"
   ]
  },
  {
   "cell_type": "markdown",
   "id": "b1c7357a-060e-4cfb-806f-0125bbb67230",
   "metadata": {},
   "source": [
    "**Q6. What is the process for creating a class instance?**"
   ]
  },
  {
   "cell_type": "markdown",
   "id": "214007ae-6314-4619-980d-289114d70b5c",
   "metadata": {},
   "source": [
    "**Ans:** To create a class instance, we need to call the class by its name and pass the arguments to the class, which its init method accepts.\n",
    "\n",
    "Example: my_name = my_class(\"Sneha\",\"Sayali\") Here my_name is an instance of class my_class with attributes \"Sneha\" and \"Vishnu\"."
   ]
  }
 ],
 "metadata": {
  "kernelspec": {
   "display_name": "Python 3 (ipykernel)",
   "language": "python",
   "name": "python3"
  },
  "language_info": {
   "codemirror_mode": {
    "name": "ipython",
    "version": 3
   },
   "file_extension": ".py",
   "mimetype": "text/x-python",
   "name": "python",
   "nbconvert_exporter": "python",
   "pygments_lexer": "ipython3",
   "version": "3.10.6"
  }
 },
 "nbformat": 4,
 "nbformat_minor": 5
}
