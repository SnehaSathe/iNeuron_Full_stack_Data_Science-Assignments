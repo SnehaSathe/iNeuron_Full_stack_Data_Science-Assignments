{
 "cells": [
  {
   "cell_type": "markdown",
   "id": "7e109036-0755-4ba9-93d4-b6e0156cbd54",
   "metadata": {},
   "source": [
    "**Assignment No 14 Solutions**"
   ]
  },
  {
   "cell_type": "markdown",
   "id": "7c457bd8-36bb-44e8-8d24-469252bccff5",
   "metadata": {},
   "source": [
    "**Q1. Is an assignment operator like += only for show? Is it possible that it would lead to faster results at the runtime ?**"
   ]
  },
  {
   "cell_type": "markdown",
   "id": "ee34de1b-bbe7-43c7-a785-c7029068a515",
   "metadata": {},
   "source": [
    "**Ans:** A=A+1 evaluates to finding A, adding 1 to it. Then storing the value again in variable A. This expression makes Python to look for memory holder of a twice. But A+=1 simply means value of A is to incremented by 1. As memory address has to be identified once, += leads to faster operation.\n",
    "\n"
   ]
  },
  {
   "cell_type": "markdown",
   "id": "946b15e2-eba2-48bb-88dc-6496d5b8b7e5",
   "metadata": {},
   "source": [
    "**Q2. What is the smallest no of statements you'd have to write in most programming languages to replace the Python expr a, b = a + b, a ?**\n"
   ]
  },
  {
   "cell_type": "markdown",
   "id": "c7203a0c-d1c2-41ad-8a3f-d65d430c40b5",
   "metadata": {},
   "source": [
    "**Ans:** Minimum number of lines required to write above code in languages other Python will be 4, two for assigning initial values for variables a and b, and two for reassignment i.e. a=a+b and b=a."
   ]
  },
  {
   "cell_type": "markdown",
   "id": "19ae57b8-51d9-4cfe-bef9-76be0de02ddf",
   "metadata": {},
   "source": [
    "**Q3. In Python, what is the most effective way to set a list of 100 integers to 0?**\n"
   ]
  },
  {
   "cell_type": "markdown",
   "id": "b24793bf-223f-46d8-a7cd-e62e78f201ea",
   "metadata": {},
   "source": [
    "**Ans:** The Most effective way to set a list of 100 integers to 0 in python is by using repition operator(*) or by using list comprehension.\n",
    "\n"
   ]
  },
  {
   "cell_type": "code",
   "execution_count": 1,
   "id": "007b3996-c946-414d-a5bb-337b6534ebc3",
   "metadata": {},
   "outputs": [
    {
     "name": "stdout",
     "output_type": "stream",
     "text": [
      "[0, 0, 0, 0, 0, 0, 0, 0, 0, 0, 0, 0, 0, 0, 0, 0, 0, 0, 0, 0, 0, 0, 0, 0, 0, 0, 0, 0, 0, 0, 0, 0, 0, 0, 0, 0, 0, 0, 0, 0, 0, 0, 0, 0, 0, 0, 0, 0, 0, 0, 0, 0, 0, 0, 0, 0, 0, 0, 0, 0, 0, 0, 0, 0, 0, 0, 0, 0, 0, 0, 0, 0, 0, 0, 0, 0, 0, 0, 0, 0, 0, 0, 0, 0, 0, 0, 0, 0, 0, 0, 0, 0, 0, 0, 0, 0, 0, 0, 0, 0]\n",
      "[0, 0, 0, 0, 0, 0, 0, 0, 0, 0, 0, 0, 0, 0, 0, 0, 0, 0, 0, 0, 0, 0, 0, 0, 0, 0, 0, 0, 0, 0, 0, 0, 0, 0, 0, 0, 0, 0, 0, 0, 0, 0, 0, 0, 0, 0, 0, 0, 0, 0, 0, 0, 0, 0, 0, 0, 0, 0, 0, 0, 0, 0, 0, 0, 0, 0, 0, 0, 0, 0, 0, 0, 0, 0, 0, 0, 0, 0, 0, 0, 0, 0, 0, 0, 0, 0, 0, 0, 0, 0, 0, 0, 0, 0, 0, 0, 0, 0, 0, 0]\n"
     ]
    }
   ],
   "source": [
    "# Method 1\n",
    "list_zero=[0]*100\n",
    "print(list_zero)\n",
    "# Method 2\n",
    "zero_list = [0 for x in range(100)]\n",
    "print(zero_list)"
   ]
  },
  {
   "cell_type": "markdown",
   "id": "d4f90c66-0359-4cbe-8b4e-2710e48fbf31",
   "metadata": {},
   "source": [
    "**Q4. What is the most effective way to initialise a list of 99 integers that repeats the sequence 1, 2, 3? S If necessary, show step-by-step instructions on how to accomplish this.**\n"
   ]
  },
  {
   "cell_type": "code",
   "execution_count": 2,
   "id": "bb13ecd5-465a-4abd-9920-f673f69c290e",
   "metadata": {},
   "outputs": [
    {
     "name": "stdout",
     "output_type": "stream",
     "text": [
      "[1, 2, 3, 1, 2, 3, 1, 2, 3, 1, 2, 3, 1, 2, 3, 1, 2, 3, 1, 2, 3, 1, 2, 3, 1, 2, 3, 1, 2, 3, 1, 2, 3, 1, 2, 3, 1, 2, 3, 1, 2, 3, 1, 2, 3, 1, 2, 3, 1, 2, 3, 1, 2, 3, 1, 2, 3, 1, 2, 3, 1, 2, 3, 1, 2, 3, 1, 2, 3, 1, 2, 3, 1, 2, 3, 1, 2, 3, 1, 2, 3, 1, 2, 3, 1, 2, 3, 1, 2, 3, 1, 2, 3, 1, 2, 3, 1, 2, 3]\n"
     ]
    }
   ],
   "source": [
    "my_list = [1,2,3]*33\n",
    "print(my_list)"
   ]
  },
  {
   "cell_type": "markdown",
   "id": "1370fbc2-0525-449d-94d7-89e9bbab6e94",
   "metadata": {},
   "source": [
    "**Q5. If you're using IDLE to run a Python application, explain how to print a multidimensional list as efficiently?**\n"
   ]
  },
  {
   "cell_type": "code",
   "execution_count": 3,
   "id": "6aeb2e86-4b87-4e01-a70e-1b549e7f1e54",
   "metadata": {},
   "outputs": [
    {
     "name": "stdout",
     "output_type": "stream",
     "text": [
      "1 1 2 2 3 3 4 4 5 5 "
     ]
    }
   ],
   "source": [
    "my_list = [[1,1],[2,2],[3,3],[4,4],[5,5]] # 2 dimensional List\n",
    "for x in range(len(my_list)):\n",
    "    for y in range(len(my_list[x])):\n",
    "        print(my_list[x][y],end=\" \")"
   ]
  },
  {
   "cell_type": "markdown",
   "id": "34a1d773-aedb-424e-9798-7466268f7c05",
   "metadata": {},
   "source": [
    "**Q6. Is it possible to use list comprehension with a string? If so, how can you go about doing it?**\n"
   ]
  },
  {
   "cell_type": "markdown",
   "id": "eb4f9de7-3ee0-4525-9d40-6957d84db52e",
   "metadata": {},
   "source": [
    "**Ans:** List comprehension with string is possible.\n",
    "\n"
   ]
  },
  {
   "cell_type": "code",
   "execution_count": 4,
   "id": "e223d7a6-d4c2-4ffd-8074-23a99253638e",
   "metadata": {},
   "outputs": [
    {
     "name": "stdout",
     "output_type": "stream",
     "text": [
      "['i', 'N', 'e', 'u', 'r', 'o', 'n']\n"
     ]
    }
   ],
   "source": [
    "my_list = [ele for ele in 'iNeuron']\n",
    "print(my_list)"
   ]
  },
  {
   "cell_type": "markdown",
   "id": "08e0d256-15d9-42b8-9fc5-b41706f2d6a2",
   "metadata": {},
   "source": [
    "**Q7. From the command line, how do you get support with a user-written Python programme? Is this possible from inside IDLE?**\n"
   ]
  },
  {
   "cell_type": "markdown",
   "id": "dd7e50dc-fabd-4ae9-a377-2805c1515ecf",
   "metadata": {},
   "source": [
    "**Ans:** **Get support with a user-written Python Programme:** Start a command prompt (Windows) or terminal window (Linux/Mac). If the current working directory is the same as the location in which you saved the file, you can simply specify the filename as a command-line argument to the Python interpreter.\n",
    "<br>\n",
    "**Get support with a User-written Python Program from IDLE:** You can also create script files and run them in IDLE. From the Shell window menu, select File → New File. That should open an additional editing window. Type in the code to be executed. From the menu in that window, select File → Save or File → Save As… and save the file to disk. Then select Run → Run Module. The output should appear back in the interpreter"
   ]
  },
  {
   "cell_type": "markdown",
   "id": "462d0c90-8b4d-4458-891b-6dfe0e726ecb",
   "metadata": {},
   "source": [
    "**Q8. Functions are said to be “first-class objects” in Python but not in most other languages, such as C++ or Java. What can you do in Python with a function (callable object) that you can't do in C or C++?**\n"
   ]
  },
  {
   "cell_type": "markdown",
   "id": "69f66b95-860a-4f84-b118-0fa0e22fcddb",
   "metadata": {},
   "source": [
    "**Ans:** The tasks which can be performed with the functions in python are:<br>\n",
    "\n",
    "A function is an instance of the Object type.<br>\n",
    "You can store the function in a variable.<br>\n",
    "You can pass the function as a parameter to another function.<br>\n",
    "You can return the function from a function.<br>\n",
    "You can store them in data structures such as hash tables, lists"
   ]
  },
  {
   "cell_type": "markdown",
   "id": "b1f7ce39-cf06-4bbe-a648-524c8798e8b0",
   "metadata": {},
   "source": [
    "**Q9. How do you distinguish between a wrapper, a wrapped feature, and a decorator?**\n"
   ]
  },
  {
   "cell_type": "markdown",
   "id": "073f9d1c-68df-4f76-81ac-d5254d01f16d",
   "metadata": {},
   "source": [
    "**Ans:** Wrappers Around the functions are known as Decrators.\n",
    "\n"
   ]
  },
  {
   "cell_type": "markdown",
   "id": "2f404fe1-bc9d-4244-8144-0ff105c808a5",
   "metadata": {},
   "source": [
    "**Q10. If a function is a generator function, what does it return?**\n"
   ]
  },
  {
   "cell_type": "markdown",
   "id": "3abe0cbb-ca90-4c80-963f-8d340c2fd800",
   "metadata": {},
   "source": [
    "**Ans:** Generator functions are a special kind of function that return a lazy iterator. These are objects that you can loop over like a list. However, unlike lists, lazy iterators do not store their contents in memory.\n",
    "\n"
   ]
  },
  {
   "cell_type": "markdown",
   "id": "aeeca94d-5258-4477-9470-09b5bcd073d0",
   "metadata": {},
   "source": [
    "**Q11. What is the one improvement that must be made to a function in order for it to become a generator function in the Python language?**\n"
   ]
  },
  {
   "cell_type": "markdown",
   "id": "aa1b767d-4e87-4570-a51b-b6ed2d79e1f1",
   "metadata": {},
   "source": [
    "**Ans:** Generator is a written as normal function but uses yield keyword to return values instead of return keyword.\n",
    "\n"
   ]
  },
  {
   "cell_type": "markdown",
   "id": "128f4803-8352-49b8-9751-6fa4bec0ddac",
   "metadata": {},
   "source": [
    "**Q12. Identify at least one benefit of generators.**\n"
   ]
  },
  {
   "cell_type": "markdown",
   "id": "50197fd0-1b0e-4b98-8606-0dc7953ddc51",
   "metadata": {},
   "source": [
    "**Ans:** return statement sends a specified value back to its caller whereas yield statment can produce a sequence of values. We should use generator when we want to iterate over a sequence, but don’t want to store the entire sequence in memory."
   ]
  },
  {
   "cell_type": "code",
   "execution_count": null,
   "id": "f6411cef-b352-40a7-af4d-35a0bcf634b4",
   "metadata": {},
   "outputs": [],
   "source": []
  }
 ],
 "metadata": {
  "kernelspec": {
   "display_name": "Python 3 (ipykernel)",
   "language": "python",
   "name": "python3"
  },
  "language_info": {
   "codemirror_mode": {
    "name": "ipython",
    "version": 3
   },
   "file_extension": ".py",
   "mimetype": "text/x-python",
   "name": "python",
   "nbconvert_exporter": "python",
   "pygments_lexer": "ipython3",
   "version": "3.10.6"
  }
 },
 "nbformat": 4,
 "nbformat_minor": 5
}
