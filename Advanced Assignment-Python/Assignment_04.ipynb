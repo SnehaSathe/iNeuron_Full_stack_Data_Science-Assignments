{
 "cells": [
  {
   "cell_type": "markdown",
   "id": "8341122b-5f01-46b3-b3ca-69910a8982f0",
   "metadata": {},
   "source": [
    "**Assignment 04 Solutions**"
   ]
  },
  {
   "cell_type": "markdown",
   "id": "2fa1249e-b440-4039-a9a0-8f2b70a3b0bd",
   "metadata": {},
   "source": [
    "**1. Which two operator overloading methods can you use in your classes to support iteration?**"
   ]
  },
  {
   "cell_type": "markdown",
   "id": "d5080eb8-54d3-4266-a4b5-8e92ff02ca54",
   "metadata": {},
   "source": [
    "**Ans:** __iter__ and __next__ are the operator overloading methods in python that support iteration and are collectively called iterator protocol.\n",
    "\n",
    "__iter__ returns the iterator object and is called at the start of loop in our respective class.\n",
    "__next__ is called at each loop increment, it returns the incremented value. Also Stopiteration is raised when there is no value to return."
   ]
  },
  {
   "cell_type": "code",
   "execution_count": 1,
   "id": "728d12b4-ef09-46d8-9f85-4ded79cf1d3a",
   "metadata": {},
   "outputs": [
    {
     "name": "stdout",
     "output_type": "stream",
     "text": [
      "10 11 12 13 14 15 16 17 18 19 20 "
     ]
    }
   ],
   "source": [
    "class Counter:\n",
    "    def __init__(self,low,high):\n",
    "        self.current = low\n",
    "        self.high = high\n",
    "    def __iter__(self):\n",
    "        return self\n",
    "    def __next__(self):\n",
    "        if self.current > self.high:\n",
    "            raise StopIteration\n",
    "        else:\n",
    "            self.current += 1\n",
    "            return self.current - 1\n",
    "for ele in Counter(10,20):\n",
    "    print(ele, end=\" \")"
   ]
  },
  {
   "cell_type": "markdown",
   "id": "36782909-e6e6-4c43-9135-c2f3139683b7",
   "metadata": {},
   "source": [
    "**2. In what contexts do the two operator overloading methods manage printing?**"
   ]
  },
  {
   "cell_type": "markdown",
   "id": "2d88834a-d7c1-4b27-b3cf-6c64a0084e95",
   "metadata": {},
   "source": [
    "**Ans:** __str__ and __repr__ are two operator overloading methods that manage printing.\n",
    "\n",
    "In Short, the difference between both these operators is the goal of __repr__ is to be unambiguous and __str__ is to be readable.<br>\n",
    "Whenever we are printing any object reference internally __str__ method will be called by default.<br>\n",
    "The main purpose of __str__ is for readability. it prints the informal string representation of an object, one that is useful for printing the object. it may not be possible to convert result string to original object.<br>\n",
    "__repr__ is used to print official string representation of an object, so it includes all information and development."
   ]
  },
  {
   "cell_type": "code",
   "execution_count": 2,
   "id": "30fd9058-bebe-412e-be4a-6ed432dd9c89",
   "metadata": {},
   "outputs": [
    {
     "name": "stdout",
     "output_type": "stream",
     "text": [
      "<__main__.Student object at 0x7f25990a0310>\n",
      "Student Name: Mano and Roll No: 1\n",
      "2023-04-30 18:24:03.286160\n",
      "Unable to convert back to original object\n",
      "datetime.datetime(2023, 4, 30, 18, 24, 3, 286160)\n",
      "2023-04-30 18:24:03.286160\n"
     ]
    }
   ],
   "source": [
    "class Student:\n",
    "    def __init__(self,name,roll_no):\n",
    "        self.name = name\n",
    "        self.roll_no = roll_no\n",
    "        \n",
    "s1 = Student(\"Mano\",1)\n",
    "print(str(s1))\n",
    "\n",
    "class Student:\n",
    "    def __init__(self,name,roll_no):\n",
    "        self.name = name\n",
    "        self.roll_no = roll_no\n",
    "    def __str__(self):\n",
    "        return f'Student Name: {self.name} and Roll No: {self.roll_no}'\n",
    "    \n",
    "s1 = Student(\"Mano\",1)\n",
    "print(str(s1))\n",
    "\n",
    "import datetime\n",
    "today = datetime.datetime.now()\n",
    "\n",
    "s = str(today) # converting datetime object to presentable str\n",
    "print(s)\n",
    "try: d = eval(s) # converting str back to datetime object\n",
    "except: print(\"Unable to convert back to original object\")\n",
    "    \n",
    "u = repr(today) # converting datetime object to str\n",
    "print(u)\n",
    "e = eval(u) # converting str back to datetime object\n",
    "print(e)"
   ]
  },
  {
   "cell_type": "markdown",
   "id": "0dce403c-4e7d-4657-8eee-3e2ca79981a8",
   "metadata": {},
   "source": [
    "**3. In a class, how do you intercept slice operations?**"
   ]
  },
  {
   "cell_type": "markdown",
   "id": "f5fe8043-84e1-4f5b-96f0-47bee5fc8891",
   "metadata": {},
   "source": [
    "**Ans:** In a class use of slice() in __getitem__ method is used for intercept slice operation. This slice method is provided with start integer number, stop integer number and step integer number.\n",
    "\n",
    "Example: __getitem__(slice(start,stop,step))"
   ]
  },
  {
   "cell_type": "markdown",
   "id": "41a341e8-6b03-43e9-8bf1-db7c5ed4b4f4",
   "metadata": {},
   "source": [
    "**4. In a class, how do you capture in-place addition?**"
   ]
  },
  {
   "cell_type": "markdown",
   "id": "b30c93d5-afdc-449d-8258-de033f830f90",
   "metadata": {},
   "source": [
    "**Ans:** a+b is normal addition. Whereas a+=b is inplace addition operation. In this in-place addition a itself will store the value of addition. In a class __iadd__ method is used for this in-place operation"
   ]
  },
  {
   "cell_type": "code",
   "execution_count": 3,
   "id": "33d26162-115f-4db8-947a-03c74ecaf7eb",
   "metadata": {},
   "outputs": [
    {
     "name": "stdout",
     "output_type": "stream",
     "text": [
      "300\n"
     ]
    }
   ],
   "source": [
    "class Book:\n",
    "    def __init__(self,pages):\n",
    "        self.pages = pages\n",
    "    def __iadd__(self,other):\n",
    "        self.pages += other.pages\n",
    "        return self.pages\n",
    "        \n",
    "b1 = Book(100)\n",
    "b2 = Book(200)\n",
    "b1+=b2\n",
    "print(b1)"
   ]
  },
  {
   "cell_type": "markdown",
   "id": "76e281d0-f28e-41ea-9cbe-c5e2d2910a53",
   "metadata": {},
   "source": [
    "**5. When is it appropriate to use operator overloading?**"
   ]
  },
  {
   "cell_type": "markdown",
   "id": "39e9e653-9ee9-4b56-bc59-1810d118ee7b",
   "metadata": {},
   "source": [
    "**Ans:** Operator overloading is used when we want to use an operator other than its normal operation to have different meaning according to the context required in user defined function."
   ]
  },
  {
   "cell_type": "code",
   "execution_count": 4,
   "id": "f7f31be1-acfb-4b9d-89b9-128d4491c5e0",
   "metadata": {},
   "outputs": [
    {
     "name": "stdout",
     "output_type": "stream",
     "text": [
      "Total Number of Pages -> 300\n"
     ]
    }
   ],
   "source": [
    "class Book:\n",
    "    def __init__(self,pages):\n",
    "        self.pages = pages\n",
    "    def __add__(self,other):\n",
    "        return self.pages+other.pages\n",
    "b1 = Book(100)\n",
    "b2 = Book(200)\n",
    "print(f'Total Number of Pages -> {b1+b2}')"
   ]
  }
 ],
 "metadata": {
  "kernelspec": {
   "display_name": "Python 3 (ipykernel)",
   "language": "python",
   "name": "python3"
  },
  "language_info": {
   "codemirror_mode": {
    "name": "ipython",
    "version": 3
   },
   "file_extension": ".py",
   "mimetype": "text/x-python",
   "name": "python",
   "nbconvert_exporter": "python",
   "pygments_lexer": "ipython3",
   "version": "3.10.6"
  }
 },
 "nbformat": 4,
 "nbformat_minor": 5
}
