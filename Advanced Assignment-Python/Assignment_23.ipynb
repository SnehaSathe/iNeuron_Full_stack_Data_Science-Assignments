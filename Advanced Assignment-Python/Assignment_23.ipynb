{
 "cells": [
  {
   "cell_type": "markdown",
   "id": "1963cf3b-7c7d-4008-b242-62c428d93f86",
   "metadata": {},
   "source": [
    "# Assignment No.23 Solution"
   ]
  },
  {
   "cell_type": "markdown",
   "id": "6f3590c9-4723-4b74-8b95-3220fdb15659",
   "metadata": {},
   "source": [
    "**Q1. If you have any, what are your choices for increasing the comparison between different figures on the same graph?**\n"
   ]
  },
  {
   "cell_type": "markdown",
   "id": "51e2d53a-d023-4de3-b415-bd5277ecf90c",
   "metadata": {},
   "source": [
    "**Ans:** Matplotlib provides a convenient method called subplots for increasing the comparison between different figures on the same graph. Subplots mean a group of smaller axes (where each axis is a plot) that can exist together within a single figure.\n"
   ]
  },
  {
   "cell_type": "markdown",
   "id": "3dfefd9b-9dc2-4cc4-8629-0db8562ab151",
   "metadata": {},
   "source": [
    "\n",
    "**Q2. Can you explain the benefit of compound interest over a higher rate of interest that does not compound after reading this chapter?**\n"
   ]
  },
  {
   "cell_type": "markdown",
   "id": "d737ff60-89f2-4c62-81aa-66a6faffd09e",
   "metadata": {},
   "source": [
    "**Ans:** Compound interest makes a sum of money grow at a faster rate than simple interest,because in addition to earning returns on the money you invest, you also earn returns on those returns at the end of every compounding period, which could be daily, monthly, quarterly or annually.\n"
   ]
  },
  {
   "cell_type": "markdown",
   "id": "a262d131-2d39-45c6-baa4-1a396de3178d",
   "metadata": {},
   "source": [
    "\n",
    "**Q3. What is a histogram, exactly? Name a numpy method for creating such a graph ?**\n"
   ]
  },
  {
   "cell_type": "markdown",
   "id": "fef81e61-c3e7-446d-88a1-8d6420f10813",
   "metadata": {},
   "source": [
    "**Ans:** Histogram shows total values of X wrt Y. Which means at any particular position of X, Y value shows the total number of counts or data below that value of X. numpy.histogram() is the built in function used."
   ]
  },
  {
   "cell_type": "markdown",
   "id": "14a5ae13-9585-495e-a58b-965ce318d582",
   "metadata": {},
   "source": [
    "**Q4. If necessary, how do you change the aspect ratios between the X and Y axes ?**\n"
   ]
  },
  {
   "cell_type": "markdown",
   "id": "025918ba-00c9-40af-879d-a8be41ba2df0",
   "metadata": {},
   "source": [
    "**Ans:** We can use figure(figsize=(10,8)) function inside the matplot.pyplot library which we scale down or up the graph.\n"
   ]
  },
  {
   "cell_type": "markdown",
   "id": "25353432-a984-4417-a548-94b9f4219595",
   "metadata": {},
   "source": [
    "\n",
    "**Q5. Compare and contrast the three types of array multiplication between two numpy arrays: dot product, outer product, and regular multiplication of two numpy arrays ?**\n"
   ]
  },
  {
   "cell_type": "markdown",
   "id": "78f6dfa4-c59f-405e-8865-b785c7555153",
   "metadata": {},
   "source": [
    "**Ans:** In regular multiplication values of same index get multiplied.\n",
    "\n",
    "In dot product there is row wise multiplication, row of one array with column of second array and so on.\n",
    "In outer multiplication every element of first array a1 will be multiply by every element of other array a2 such such the number of columns will be equal to the number of element in another array a2.\n"
   ]
  },
  {
   "cell_type": "markdown",
   "id": "fe4cbf68-3d03-47c9-85cb-54621b913850",
   "metadata": {},
   "source": [
    "**Q6. Before you buy a home, which numpy function will you use to measure your monthly mortgage payment ?**\n"
   ]
  },
  {
   "cell_type": "markdown",
   "id": "ff3d5c5c-039e-437b-9d9f-a253d685df39",
   "metadata": {},
   "source": [
    "**Ans:** np.pmt(rate, nper, pv) function we will be using in order to calculate monthly mortgage payment before you purchase a house.\n",
    "\n",
    "rate = The periodic interest rate<br>\n",
    "nper = The number of payment periods<br>\n",
    "pv = The total value of the mortgage loan\n"
   ]
  },
  {
   "cell_type": "markdown",
   "id": "3980d87f-9afa-40bd-be2f-0c27b2715a39",
   "metadata": {},
   "source": [
    "**Q7. Can string data be stored in numpy arrays? If so, list at least one restriction that applies to this data ?**\n"
   ]
  },
  {
   "cell_type": "markdown",
   "id": "68208d00-b8b7-4273-8de5-c9ae31514843",
   "metadata": {},
   "source": [
    "**Ans:** Yes, an array can store the string. The limitation which imposed on the string data is, whenever we store the data of string dtype then it should should keep in mind that the string which is having the maximum length is the limit."
   ]
  },
  {
   "cell_type": "code",
   "execution_count": null,
   "id": "28b6df86-5fbc-4433-9c95-a156eec4f89b",
   "metadata": {},
   "outputs": [],
   "source": []
  }
 ],
 "metadata": {
  "kernelspec": {
   "display_name": "Python 3 (ipykernel)",
   "language": "python",
   "name": "python3"
  },
  "language_info": {
   "codemirror_mode": {
    "name": "ipython",
    "version": 3
   },
   "file_extension": ".py",
   "mimetype": "text/x-python",
   "name": "python",
   "nbconvert_exporter": "python",
   "pygments_lexer": "ipython3",
   "version": "3.12.1"
  }
 },
 "nbformat": 4,
 "nbformat_minor": 5
}
