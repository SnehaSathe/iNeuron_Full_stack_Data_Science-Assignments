{
 "cells": [
  {
   "cell_type": "markdown",
   "id": "9cd72b1d-72ea-4ff3-8a56-2120a7d59207",
   "metadata": {},
   "source": [
    "**Assignment 02 Solutions**"
   ]
  },
  {
   "cell_type": "markdown",
   "id": "a1871178-c444-4ef9-8200-737607f89a74",
   "metadata": {},
   "source": [
    "**1. What is the relationship between classes and modules?**"
   ]
  },
  {
   "cell_type": "markdown",
   "id": "0f9a8ee4-99b8-478d-b4d8-7646c60c359e",
   "metadata": {},
   "source": [
    "**Ans:** A Python class is like an outline/blueprint/mold for creating a new object. An object is anything that you wish to manipulate or change while working through the code. Every time a class object is instantiated, which is when we declare a variable, a new object is initiated from scratch\n",
    "\n",
    "Whereas in Python, Modules are simply files with the . py extension containing Python code that can be imported inside another Python Program. In simple terms, we can consider a module to be the same as a code library or a file that contains a set of functions/Classes that you want to include in your application."
   ]
  },
  {
   "cell_type": "markdown",
   "id": "02eb4b04-da82-4217-9e4d-03ef7d609e76",
   "metadata": {},
   "source": [
    "**2. How do you make instances and classes?**"
   ]
  },
  {
   "cell_type": "markdown",
   "id": "1343190d-ce58-4d8d-901a-5f0819cf8009",
   "metadata": {},
   "source": [
    "**Ans:** For creating a class instance. we call a class by its name and pass the arguments which its __init__ method accepts.\n",
    "\n",
    "Example: vishwak = employee('Male',20000), Here vishwak is an instance of class employee with attriubutes 'Male' and 20000.\n",
    "\n",
    "Whereas for creating a class, we use the Class keyword. Class keyword is followed by classname and semicolon.\n",
    "\n",
    "Example: Here Employee is a class created with class keyword with arguments gender and salary.\n",
    "\n",
    "class Employee: def __init__(self, gender,salary): self.gender = gender self.salary = salary"
   ]
  },
  {
   "cell_type": "markdown",
   "id": "497ecf34-aa9a-41d1-937d-e4545195dbb9",
   "metadata": {},
   "source": [
    "**3. Where and how should be class attributes created?**"
   ]
  },
  {
   "cell_type": "markdown",
   "id": "4abb3450-f1af-4908-9ff7-7cb9e059835e",
   "metadata": {},
   "source": [
    "**Ans:** Class attributes or Class level Attributes belong to the class itself. these attributes will be shared by all the instances of the class. Hence these attributes are usually created/defined in the top of class definiation outside all methods.\n",
    "\n",
    "Example: In the below code we are defining a class attribute called no_of_wheels which will be shared by all the instances of the class Car\n",
    "\n",
    "class Car: no_of_wheels = 4; # this is a class attribute def __init__(self,color,price,engine): self.color = color # All this are instance attributes self.price = price self.engine = engine"
   ]
  },
  {
   "cell_type": "markdown",
   "id": "6b34ce53-d5ae-44fb-97bf-7cc8e55a8cc9",
   "metadata": {},
   "source": [
    "**4. Where and how are instance attributes created?**"
   ]
  },
  {
   "cell_type": "markdown",
   "id": "35b7c4b4-0459-4ca3-aa01-4b3f0fe472e6",
   "metadata": {},
   "source": [
    "**Ans:** Instances attributes are passed to the class when an object of the class is created. Unlike class attributes, instance attributes are not shared by all objects of the classs. instead each object maintains its own copy of instance attributes at object level. whereas incase of class attributes all instances of class refer to a single copy. Usually instance attributes are defined within the __init__ method of class\n",
    "\n",
    "Example: In the below sample code we are creating a class Car with instance varaibles color, price, engine, which will be provided when an instance of class Car is created.\n",
    "\n",
    "class Car: def __init__(self,color,price,engine): self.color = color # All this are instance attributes self.price = price self.engine = engine\n",
    "\n",
    "nexon_ev = Car('Skoda', 1600000, 'electric')\n",
    "safari = Car('Pearl White',2100000, 'petrol')\n",
    "\n",
    "nexon_ev, safari are both the instances of class Car with different instance variables."
   ]
  },
  {
   "cell_type": "markdown",
   "id": "e1b534e7-96bd-4934-a893-1048d5caa4b4",
   "metadata": {},
   "source": [
    "**5. What does the term \"self\" in a Python class mean?**"
   ]
  },
  {
   "cell_type": "markdown",
   "id": "d49e58bc-74c5-4765-aa6c-385793c4ed8c",
   "metadata": {},
   "source": [
    "**Ans:** self represents the instance of the class (it represents the object itself). By using the “self” keyword we can access the attributes and methods of the class with in the class in python. It binds the attributes with the given arguments."
   ]
  },
  {
   "cell_type": "code",
   "execution_count": 2,
   "id": "7a7d0cdb-f842-4b65-be07-174b4532dbfb",
   "metadata": {},
   "outputs": [
    {
     "name": "stdout",
     "output_type": "stream",
     "text": [
      "{'color': 'Thar', 'price': 1800000, 'engine': 'petrol'}\n",
      "{'color': 'Skoda', 'price': 600000, 'engine': 'petrol'}\n"
     ]
    }
   ],
   "source": [
    "class Car:\n",
    "    def __init__(self,color,price,engine):\n",
    "        self.color = color # All this are instance attributes\n",
    "        self.price = price\n",
    "        self.engine = engine\n",
    "\n",
    "nexon_ev = Car('Thar', 1800000, 'petrol')\n",
    "safari = Car('Skoda',600000, 'petrol')\n",
    "\n",
    "print(nexon_ev.__dict__)\n",
    "print(safari.__dict__)"
   ]
  },
  {
   "cell_type": "markdown",
   "id": "e1a363cb-c1e7-4404-bfe8-9b1611a89585",
   "metadata": {},
   "source": [
    "**6. How does a Python class handle operator overloading?**"
   ]
  },
  {
   "cell_type": "markdown",
   "id": "1f7b2b3f-7bce-44b7-ac3e-f44522cbb81b",
   "metadata": {},
   "source": [
    "**Ans:** Python Classes handle operator overloading by using special methods called Magic methods. these special methods usually begin and end with __ (double underscore)\n",
    "Example: Magic methods for basic arithmetic operators are:\n",
    "\n",
    "1. + -> __add__()<br>\n",
    "2. - -> __sub__()<br>\n",
    "3. * -> __mul__()<br>\n",
    "4. / -> __div__()<br>\n"
   ]
  },
  {
   "cell_type": "code",
   "execution_count": 3,
   "id": "573278fe-a505-406b-bd11-ee11644b1b4e",
   "metadata": {},
   "outputs": [
    {
     "name": "stdout",
     "output_type": "stream",
     "text": [
      "The total number of pages in 2 books is 300\n"
     ]
    }
   ],
   "source": [
    "class Book:\n",
    "    def __init__(self,pages):\n",
    "        self.pages = pages\n",
    "    def __add__(self,other):\n",
    "        return self.pages + other.pages\n",
    "b1 = Book(100)\n",
    "b2 = Book(200)\n",
    "print(f'The total number of pages in 2 books is {b1+b2}')"
   ]
  },
  {
   "cell_type": "markdown",
   "id": "c0e30436-0ed8-45d6-9efd-c4fe1fb2bb98",
   "metadata": {},
   "source": [
    "**7. When do you consider allowing operator overloading of your classes?**"
   ]
  },
  {
   "cell_type": "markdown",
   "id": "3d209b3a-dd7d-44fc-b1fd-35932182cdc1",
   "metadata": {},
   "source": [
    "**Ans:** When we want to have different meaning for the same operator accroding to the context we use operator overloading."
   ]
  },
  {
   "cell_type": "markdown",
   "id": "7688a6a4-18e7-49b0-a647-9faa243dec5b",
   "metadata": {},
   "source": [
    "**8. What is the most popular form of operator overloading?**"
   ]
  },
  {
   "cell_type": "markdown",
   "id": "be46d714-cbe1-4f8b-90c0-3444b12ea78c",
   "metadata": {},
   "source": [
    "**Ans:** The most popular form of operator overloading in python is by special methods called Magic methods. Which usually beign and end with double underscore __<method name>__."
   ]
  },
  {
   "cell_type": "code",
   "execution_count": 4,
   "id": "3a7e92e4-58ba-421b-8e00-1d099af36350",
   "metadata": {},
   "outputs": [
    {
     "name": "stdout",
     "output_type": "stream",
     "text": [
      "Sum -> 3\n",
      "String Concatenation -> Mano Vishnu\n"
     ]
    }
   ],
   "source": [
    "class A:\n",
    "    def __init__(self,a):\n",
    "        self.a = a\n",
    "    def __add__(self,o):\n",
    "        return self.a+o.a\n",
    "obj1 = A(1)\n",
    "obj2 = A(2)\n",
    "obj3 = A('Mano')\n",
    "obj4 = A(' Vishnu')\n",
    "print(f'Sum -> {obj1+obj2}')\n",
    "print(f'String Concatenation -> {obj3+obj4}')"
   ]
  },
  {
   "cell_type": "markdown",
   "id": "f47dffeb-f0ef-43e4-be75-14574f76275e",
   "metadata": {},
   "source": [
    "**9. What are the two most important concepts to grasp in order to comprehend Python OOP code?**"
   ]
  },
  {
   "cell_type": "code",
   "execution_count": null,
   "id": "79a1987b-5f17-4b91-8015-e8605fee6c5f",
   "metadata": {},
   "outputs": [],
   "source": [
    "Ans:** Classes and objects are the two concepts to comprehend python OOP code as more formally objects are entities that represent instances of general abstract concept called class\n",
    "\n",
    "Along with classes and objects the important concepts to grasp are:\n",
    "\n",
    "Inheritence\n",
    "Abstraction\n",
    "Polymorphism\n",
    "Encapsulation"
   ]
  }
 ],
 "metadata": {
  "kernelspec": {
   "display_name": "Python 3 (ipykernel)",
   "language": "python",
   "name": "python3"
  },
  "language_info": {
   "codemirror_mode": {
    "name": "ipython",
    "version": 3
   },
   "file_extension": ".py",
   "mimetype": "text/x-python",
   "name": "python",
   "nbconvert_exporter": "python",
   "pygments_lexer": "ipython3",
   "version": "3.10.6"
  }
 },
 "nbformat": 4,
 "nbformat_minor": 5
}
