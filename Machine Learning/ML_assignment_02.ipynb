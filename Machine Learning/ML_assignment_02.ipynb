{
 "cells": [
  {
   "cell_type": "markdown",
   "id": "094c25dd-a1b1-4966-b13f-597966051b53",
   "metadata": {},
   "source": [
    "# Assignment No. 2 Solution"
   ]
  },
  {
   "cell_type": "markdown",
   "id": "83af9704-dfb4-408a-8ffe-cbad53240e91",
   "metadata": {},
   "source": [
    "**1. What is the concept of human learning? Please give two examples.**"
   ]
  },
  {
   "cell_type": "markdown",
   "id": "66892ab3-b07e-459f-957c-386ab249d549",
   "metadata": {},
   "source": [
    "**Ans:** Human learning is the form of learning which requires higher order mental processes like thinking, reasoning, intelligence, etc.We learn different concepts from childhood. For example:\n",
    "\n",
    "Learning through Association - Classical Conditioning.<br>\n",
    "Learning through consequences – Operant Conditioning.<br>\n",
    "Learning through observation – Modeling/Observational Learning."
   ]
  },
  {
   "cell_type": "markdown",
   "id": "0cb1145f-311b-4888-bedf-c54e4a9bcc14",
   "metadata": {},
   "source": [
    "**2. What different forms of human learning are there? Are there any machine learning equivalents?**"
   ]
  },
  {
   "cell_type": "markdown",
   "id": "04707885-053c-49e2-ba1e-91f835143ef3",
   "metadata": {},
   "source": [
    "**Ans:** Different Forms of ML are as follows :\n",
    "\n",
    "Artificial Intelligence Learning Theories. Machine Learning. Reinforcement Learning. Supervised Learning. Unsupervised Learning.\n",
    "ML equivalents like Linear regression, decision trees, random forest and support vector machines are some commonly used techniques that are actually examples of supervised learning."
   ]
  },
  {
   "cell_type": "markdown",
   "id": "13a29273-c927-4348-881e-f9de7e5ba45c",
   "metadata": {},
   "source": [
    "**3. What is machine learning, and how does it work? What are the key responsibilities of machine learning ?**"
   ]
  },
  {
   "cell_type": "markdown",
   "id": "13a3adec-7373-4e50-9d65-872b99c454d7",
   "metadata": {},
   "source": [
    "**Ans:** Machine learning is a field of artificial intelligence where computers learn from data to make predictions or decisions without being explicitly programmed. It works by training algorithms on data, adjusting their parameters to minimize errors. Key responsibilities include data preprocessing, model training and selection, evaluation, deployment, and continuous improvement."
   ]
  },
  {
   "cell_type": "markdown",
   "id": "21faad9f-c896-4b9e-8a08-812b6c556b69",
   "metadata": {},
   "source": [
    "**4. Define the terms \"penalty\" and \"reward\" in the context of reinforcement learning ?**"
   ]
  },
  {
   "cell_type": "markdown",
   "id": "6950d65d-091a-4423-99f7-9906844a1355",
   "metadata": {},
   "source": [
    "**Ans:** In the context of reinforcement learning in machine learning:\n",
    "\n",
    "- **Penalty**: A penalty is a negative consequence or cost assigned to an action taken by an agent in a certain state. It represents undesirable outcomes or actions that the agent should try to avoid. Penalties are typically used to discourage the agent from making decisions that lead to suboptimal results or violate constraints.\n",
    "<br><br>\n",
    "- **Reward**: A reward is a positive reinforcement or benefit assigned to an action taken by an agent in a certain state. It represents desirable outcomes or actions that the agent should strive to achieve. Rewards are used to encourage the agent to make decisions that lead to favorable results or achieve specific objectives. The goal of the agent is typically to maximize the cumulative reward over time."
   ]
  },
  {
   "cell_type": "markdown",
   "id": "55dc4a34-acdb-430b-ba42-d8d2f57559c0",
   "metadata": {},
   "source": [
    "**5. Explain the term \"learning as a search\" ?**"
   ]
  },
  {
   "cell_type": "markdown",
   "id": "b70dafee-2e67-4b25-9ce1-09d9c2f91cc7",
   "metadata": {},
   "source": [
    "**Ans:**  Learning can be viewed as a search through the space of all sentences in a concept description language for a sentence that best describes the data. Alternatively, it can be viewed as a search through all hypotheses in a hypothesis space."
   ]
  },
  {
   "cell_type": "markdown",
   "id": "6e93c073-58c8-4c69-8b9b-fccd2d353687",
   "metadata": {},
   "source": [
    "**6. What are the various goals of machine learning? What is the relationship between these and human learning ?**"
   ]
  },
  {
   "cell_type": "markdown",
   "id": "5439cf6e-3250-446d-8b50-a79bb7c07ac1",
   "metadata": {},
   "source": [
    "**Ans:** The various goals of machine learning include:<br>\n",
    "Prediction,Classification,Clustering,Anomaly,detection,Optimization<br>\n",
    "\n",
    "The relationship between these goals and human learning lies in their alignment with how humans learn and interact with data. Humans also make predictions, categorize information, identify patterns, recognize anomalies, and optimize behaviors based on past experiences. Machine learning aims to mimic and automate these cognitive processes, enabling computers to learn and make decisions in ways that resemble human learning."
   ]
  },
  {
   "cell_type": "markdown",
   "id": "240f5fdd-827d-4ee0-b8eb-626a4f1a4923",
   "metadata": {},
   "source": [
    "**7. Illustrate the various elements of machine learning using a real-life illustration ?**"
   ]
  },
  {
   "cell_type": "markdown",
   "id": "1be9fc9f-47bb-4e95-b14c-f73693f2859d",
   "metadata": {},
   "source": [
    "**Ans:** The Various elements of the the Machine Learning are:\n",
    "<br>\n",
    "Data,\n",
    "Task,\n",
    "Model,\n",
    "Loss Function,\n",
    "Learning Algorithm,\n",
    "Evaluation"
   ]
  },
  {
   "cell_type": "markdown",
   "id": "8b3d4936-a4f6-468b-8180-41c2c6c45b00",
   "metadata": {},
   "source": [
    "**8. Provide an example of the abstraction method ?**"
   ]
  },
  {
   "cell_type": "markdown",
   "id": "3ac2b8f2-455c-436d-abb1-ad00da7720f8",
   "metadata": {},
   "source": [
    "**Ans:** In Machine Learning, Abstraction is supported primarily at the level of modules. This can be justified in two ways: first, Data abstraction is mostly a question of program interfaces and therefore it arises naturally at the point where we have to consider program composition and modules."
   ]
  },
  {
   "cell_type": "markdown",
   "id": "f4d7fb20-580b-4ddf-8dab-215dbe214421",
   "metadata": {},
   "source": [
    "**9. What is the concept of generalization? What function does it play in the machine learning process ?**\n"
   ]
  },
  {
   "cell_type": "markdown",
   "id": "ba16ec3f-2cd3-470d-9c11-0fc2c2e9fab1",
   "metadata": {},
   "source": [
    "**Ans:** Generalization refers to your model's ability to adapt properly to new, previously unseen data, drawn from the same distribution as the one used to create the model.\n",
    "\n",
    "In machine learning, generalization is a definition to demonstrate how well is a trained model to classify or forecast unseen data.This issue can result to classify an actual dog image as a cat from the unseen dataset. Therefore, data diversity is very important factor in order to make a good prediction."
   ]
  },
  {
   "cell_type": "markdown",
   "id": "40019eef-8169-4109-b8ed-09aa5d39adae",
   "metadata": {},
   "source": [
    "**10. What is classification, exactly? What are the main distinctions between classification and regression ?**\n"
   ]
  },
  {
   "cell_type": "markdown",
   "id": "da73c112-6140-4ccd-b6ea-9c1e90405bc1",
   "metadata": {},
   "source": [
    "**Ans:** In Machine Learning, Classification refers to a predictive modeling problem where a class label is predicted for a given example of input data.Classification is the task of predicting a discrete class label. Whereas Regression is the task of predicting a continuous quantity.\n"
   ]
  },
  {
   "cell_type": "markdown",
   "id": "bd3de525-7ebe-4488-af0b-2131409068c6",
   "metadata": {},
   "source": [
    "\n",
    "**11. What is regression, and how does it work? Give an example of a real-world problem that was solved using regression ?**\n"
   ]
  },
  {
   "cell_type": "markdown",
   "id": "b38b6e95-8cdf-4184-8511-c427f2cfa047",
   "metadata": {},
   "source": [
    "**Ans:** Regression is a Supervised Machine Learning technique which is used to predict continuous values. The ultimate goal of a regression algorithm is to plot a best-fit line or a curve between the data.\n",
    "\n",
    "The three main metrics that are used for evaluating the trained regression model are Variance, Bias and Error.\n",
    "\n",
    "A simple linear regression real life example could mean you finding a relationship between the revenue and temperature, with a sample size for revenue as the dependent variable. In case of multiple variable regression, you can find the relationship between temperature, pricing and number of workers to the revenue."
   ]
  },
  {
   "cell_type": "markdown",
   "id": "41dafb81-33ed-4411-9624-f2ac65ee5a39",
   "metadata": {},
   "source": [
    "**12. Describe the clustering mechanism in detail ?**\n"
   ]
  },
  {
   "cell_type": "markdown",
   "id": "4b51dc58-f047-4824-bebc-4fabf5b22795",
   "metadata": {},
   "source": [
    "**Ans:** Clustering is the task of dividing the population or data points into a number of groups such that data points in the same groups are more similar to other data points in the same group than those in other groups. In simple words, the aim is to segregate groups with similar traits and assign them into clusters.\n"
   ]
  },
  {
   "cell_type": "markdown",
   "id": "21f84a31-2038-4cf5-ba27-3f900fb543e9",
   "metadata": {},
   "source": [
    "\n",
    "**13. Make brief observations on two of the following topics ?**<br>\n",
    "i. Machine learning algorithms are used<br>\n",
    "ii.Studying under supervision<br>\n",
    "iii.Studying without supervision<br>\n",
    "Reinforcement learning is a form of learning based on positive reinforcement.\n"
   ]
  },
  {
   "cell_type": "markdown",
   "id": "9ac55533-33d6-4919-9166-4077523f4b44",
   "metadata": {},
   "source": [
    "**Ans:** The breif observations on the following two topics is:\n",
    "\n",
    "**Machine learning algorithms are used:** At its Most basic, Machine Learning uses programmed algorithms that receive and analyse input data to predict output values within an acceptable range. As new data is fed to these algorithms, they learn and optimise their operations to improve performance, developing intelligence over time.\n",
    "\n",
    "**Studying Under Supervision:** In machine learning, there are two important categories- Supervised and Unsupervised learning.Supervised learning, an algorithm learns from a training dataset. We know the correct answers or desired output, the algorithm makes predictions using the given dataset and is corrected by the “supervisor”."
   ]
  },
  {
   "cell_type": "code",
   "execution_count": null,
   "id": "76a62195-22bb-46a2-b5d5-6941d787685f",
   "metadata": {},
   "outputs": [],
   "source": []
  }
 ],
 "metadata": {
  "kernelspec": {
   "display_name": "Python 3 (ipykernel)",
   "language": "python",
   "name": "python3"
  },
  "language_info": {
   "codemirror_mode": {
    "name": "ipython",
    "version": 3
   },
   "file_extension": ".py",
   "mimetype": "text/x-python",
   "name": "python",
   "nbconvert_exporter": "python",
   "pygments_lexer": "ipython3",
   "version": "3.12.1"
  }
 },
 "nbformat": 4,
 "nbformat_minor": 5
}
