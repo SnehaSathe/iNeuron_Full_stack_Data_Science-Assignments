{
 "cells": [
  {
   "cell_type": "markdown",
   "id": "f0c70a0e-34a1-4520-bc4b-1b02e9d14701",
   "metadata": {},
   "source": [
    "# Assignment No. 01 Solution"
   ]
  },
  {
   "cell_type": "markdown",
   "id": "24a9f9e0-950a-4bf6-a2e9-5c6d7a70fd3e",
   "metadata": {},
   "source": [
    "**1. What does one mean by the term \"machine learning\"?**"
   ]
  },
  {
   "cell_type": "markdown",
   "id": "c6c82657-4fbe-4ec7-a8ab-8dc6e50f6073",
   "metadata": {},
   "source": [
    "**Ans :** Machine learning is a branch of artificial intelligence (AI) focused on the development of algorithms and models that enable computers to learn from and make predictions or decisions based on data, without being explicitly programmed to do so. In other words, it is a method of data analysis that automates analytical model building. Machine learning algorithms iteratively learn patterns and relationships from data, allowing them to improve their performance over time without human intervention. These algorithms are widely used in various applications such as image recognition, natural language processing, recommendation systems, predictive analytics, and many more."
   ]
  },
  {
   "cell_type": "markdown",
   "id": "af5a77ad-c1cc-40c0-b497-6ee36efebe53",
   "metadata": {},
   "source": [
    "**2.Can you think of 4 distinct types of issues where it shines?**"
   ]
  },
  {
   "cell_type": "markdown",
   "id": "e3696f2b-0871-47a5-a8a4-9d0b32c62b31",
   "metadata": {},
   "source": [
    "**Ans :** There are four distinct types of issues where machine learning shines:<br>\n",
    "\n",
    "**1)Image Recognition and Computer Vision:** Machine learning algorithms excel in tasks such as object detection, image classification, and facial recognition. They can analyze and interpret visual data, enabling applications like autonomous vehicles, medical image analysis, surveillance systems, and augmented reality.<br>\n",
    "\r\n",
    "**2)\r\n",
    "Natural Language Processing (NLP**): Machine learning plays a crucial role in understanding and generating human language. It powers applications such as sentiment analysis, machine translation, chatbots, text summarization, and voice recognition. NLP enables machines to comprehend and generate text, facilitating communication between humans and computer<br>\n",
    "\n",
    "**3)Predictive Analytics:** Machine learning enables predictive modeling by analyzing historical data to forecast future outcomes. It is widely used in various industries for tasks such as demand forecasting, financial market prediction, risk assessment, predictive maintenance, and personalized recommendations. By identifying patterns and trends in data, machine learning algorithms help businesses make informed decisions and optimize processes.\r",
    "<br>\n",
    "\n",
    "**4)\r\n",
    "Healthcare and Biomedical Researc**h: Machine learning has transformative potential in healthcare for tasks such as disease diagnosis, medical imaging analysis, drug discovery, and personalized treatment planning. By analyzing vast amounts of medical data, including electronic health records, genomics, and biomedical imaging, machine learning algorithms can assist clinicians in making accurate diagnoses, predicting patient outcomes, and developing targeted therapies tailored to individual patients.s."
   ]
  },
  {
   "cell_type": "markdown",
   "id": "b8db4b83-ef09-4248-9f71-8519dddb8e88",
   "metadata": {},
   "source": [
    "**3.What is a labeled training set, and how does it work?**"
   ]
  },
  {
   "cell_type": "markdown",
   "id": "954873f9-aa49-440b-a255-ff3112275e33",
   "metadata": {},
   "source": [
    "*Ans :** In machine learning, a labeled training set is a collection of input data samples, where each sample is associated with one or more output labels that serve as the ground truth for the problem at hand. Using a labeled training set is to enable a machine learning model to learn how to map inputs to outputs by learning from examples to make accurate predictions on new, unseen data.\n",
    "\n",
    "Here's how a labeled training set works:<br>\n",
    "\r\n",
    "**Data Collection:** Initially, a dataset is collected or generated, comprising input features and corresponding labels. For example, in a classification task to distinguish between cats and dogs in images, each image (input feature) would be paired with a label indicating whether it contains a cat or a dog.\r",
    "<br>\n",
    "\n",
    "**Training Process:** The labeled training set is used to train a machine learning model. During training, the model learns patterns and relationships between the input features and the corresponding labels. The goal is for the model to generalize from the training data and accurately predict labels for new, unseen data.<br>\n",
    "\n",
    "**Model Learning:** The machine learning algorithm iteratively adjusts its parameters or internal representations based on the examples in the labeled training set. Through techniques like gradient descent, the algorithm minimizes the discrepancy between its predictions and the true labels in the training data.<br>\n",
    "\n",
    "**Evaluation:** After training, the model's performance is evaluated using a separate dataset called the validation set or test set. This dataset contains examples that the model has not seen during training. By comparing the model's predictions to the true labels in the validation set, its accuracy, precision, recall, or other performance metrics are assessed.<br>\n",
    "\n",
    "**Deployment:** Once the model demonstrates satisfactory performance on the validation set, it can be deployed to make predictions on new, unseen data in real-world applications. The model applies the learned patterns from the labeled training set to make predictions or classifications for new instances.a.instances."
   ]
  },
  {
   "cell_type": "markdown",
   "id": "e6a58a3d-1a90-4f1c-978e-701d18d1f88b",
   "metadata": {},
   "source": [
    "**4.What are the two most important tasks that are supervised?**"
   ]
  },
  {
   "cell_type": "markdown",
   "id": "f7229c98-3826-4a4e-b1ec-87fee47a089d",
   "metadata": {},
   "source": [
    "**Ans:** The two most common supervised learning tasks are **Regression** and **Classification.**"
   ]
  },
  {
   "cell_type": "markdown",
   "id": "f99145f0-776e-479b-a7da-b61a038314bd",
   "metadata": {},
   "source": [
    "**5.Can you think of four examples of unsupervised tasks ?**"
   ]
  },
  {
   "cell_type": "markdown",
   "id": "df391671-4e46-4847-a572-d133cfd9b6a3",
   "metadata": {},
   "source": [
    "**Ans:** Four common Unsupervised Tasks included Clustering, Visualization, Dimensionality Reduction, and Association Rule Learning.\n"
   ]
  },
  {
   "cell_type": "markdown",
   "id": "d9ab8066-0ff3-4845-826b-5b92bcf706e3",
   "metadata": {},
   "source": [
    "**6.State the machine learning model that would be best to make a robot walk through various unfamiliar terrains ?**"
   ]
  },
  {
   "cell_type": "markdown",
   "id": "9ac55fd9-6b7a-4ea9-a233-612d44f7b8c4",
   "metadata": {},
   "source": [
    "**Ans:** The best Machine Learning algorithm to allow a Robot to walk in unfamiliar terrains is Reinforced Learning, where the robot can learn from response of the terrain to optimize itself.\n",
    "\n"
   ]
  },
  {
   "cell_type": "markdown",
   "id": "bc891e4a-31e4-4c3d-896f-60fbfdd71055",
   "metadata": {},
   "source": [
    "**7.Which algorithm will you use to divide your customers into different groups ?**"
   ]
  },
  {
   "cell_type": "markdown",
   "id": "aa4939bc-85ae-4c1d-a357-00bfde72b0d2",
   "metadata": {},
   "source": [
    "**Ans:**  The Best Algorithm to Segment Customers into different groups is either Supervised Learning (if the groups have known labels) or Unsupervised Learning (if there are no group labels).<br>\n",
    "Common supervised learning algorithms for classification tasks include:<br>\n",
    "**Decision Tree,Random Forest, Logistic Regression,SVM**<br>\n",
    "unsupervised learning algorithms such as **k-means clustering** or **hierarchical clustering**"
   ]
  },
  {
   "cell_type": "markdown",
   "id": "b651f754-7e91-44f7-a68a-1c8cc9353e54",
   "metadata": {},
   "source": [
    "**8.Will you consider the problem of spam detection to be a supervised or unsupervised learning problem ?**\n"
   ]
  },
  {
   "cell_type": "markdown",
   "id": "f3ee2bdf-e5e0-474f-ab16-32c4c2f73c28",
   "metadata": {},
   "source": [
    "**Ans:** Spam detection is a Supervised Machine Learning problem because the labels are known (spam or no spam).\n"
   ]
  },
  {
   "cell_type": "markdown",
   "id": "ed73f18e-4b32-4584-8a9b-713ae2368187",
   "metadata": {},
   "source": [
    "**9.What is the concept of an online learning system ?**\n"
   ]
  },
  {
   "cell_type": "markdown",
   "id": "69a88d55-758c-4c92-85eb-c99ffbfba65a",
   "metadata": {},
   "source": [
    "**Ans:** \r\n",
    "An online learning system, also known as incremental learning or online machine learning, is a machine learning paradigm where the model continuously learns and adapts to new data as it becomes available, rather than being trained on a fixed dataset offline.\r\n",
    "\r\n",
    "In traditional batch learning, a model is trained on a static dataset, and once the training is complete, the model is fixed and does not update unless retrained on the entire dataset. However, in online learning, the model is updated incrementally with each new data point or small batches of data, allowing it to adapt to changing patterns and trends in the data over time.\n"
   ]
  },
  {
   "cell_type": "markdown",
   "id": "5812fc67-10bc-4e7f-a9ea-bc19f413629b",
   "metadata": {},
   "source": [
    "**10.What is out-of-core learning, and how does it differ from core learning ?**\n"
   ]
  },
  {
   "cell_type": "markdown",
   "id": "b8c510ce-97e3-466f-8a7e-44fc988667eb",
   "metadata": {},
   "source": [
    "**Ans:** Out-of-core learning system is a system that can handle data that cannot fit into your computer memory.Instead of loading the entire dataset into memory, out-of-core learning algorithms process the data in smaller, manageable chunks, typically stored on disk, and update the model iteratively as it streams through these chunks. It uses online learning system to feed data in small bits.\n"
   ]
  },
  {
   "cell_type": "markdown",
   "id": "5d1d0431-5d27-496c-bd4e-a42991cab242",
   "metadata": {},
   "source": [
    "**11.What kind of learning algorithm makes predictions using a similarity measure ?**\n"
   ]
  },
  {
   "cell_type": "markdown",
   "id": "185e7a60-5e16-407b-9b6c-e0b0a2a4ae48",
   "metadata": {},
   "source": [
    "**Ans:**\n",
    " A learning algorithm that makes predictions using a similarity measure is known as a **nearest neighbor algorithm.**\n",
    "\n",
    "Nearest neighbor algorithms are a type of instance-based learning, where predictions for new data points are made based on the similarity to known data points in the training dataset."
   ]
  },
  {
   "cell_type": "markdown",
   "id": "d3604e31-7604-4f77-b3c8-46c65a720abb",
   "metadata": {},
   "source": [
    "**12.What's the difference between a model parameter and a hyperparameter in a learning algorithm ?**\n"
   ]
  },
  {
   "cell_type": "markdown",
   "id": "fffdb639-9dff-4f9c-b588-4ce84b52a35e",
   "metadata": {},
   "source": [
    "**Ans:** Model parameter determines how a model will predict given a new instance. Model usually has more than one parameter (i.e. slope of a linear model). Hyperparameter is a parameter for the learning algorithm, not of a model.\n"
   ]
  },
  {
   "cell_type": "markdown",
   "id": "467dbd41-1aa5-4da7-89c5-0d248d40985e",
   "metadata": {},
   "source": [
    "\n",
    "**13.What are the criteria that model-based learning algorithms look for? What is the most popular method they use to achieve success? What method do they use to make predictions ?**\n"
   ]
  },
  {
   "cell_type": "markdown",
   "id": "568ebd1c-eb06-4108-bc81-9a1b9523e169",
   "metadata": {},
   "source": [
    "**Ans:** Model-based learning algorithms typically look for patterns and relationships in the data to build a mathematical model that can generalize from the training data to make predictions on new, unseen data.<br> The criteria that these algorithms typically consider include:<br>\n",
    "Model Complexity<br>\n",
    "Generalization Performance<br>\n",
    "Interpretability<br>\n",
    "The most popular method that model-based learning algorithms use to achieve success is through the process of training, which involves:<br>\n",
    "Model Selection<br>\n",
    "Training Data<br>\n",
    "Optimization<br>\n",
    "Validation\r\n",
    "\r\n"
   ]
  },
  {
   "cell_type": "markdown",
   "id": "9eced045-1a77-42c7-8649-2f28e9bef1e1",
   "metadata": {},
   "source": [
    "\n",
    "**14.Can you name four of the most important Machine Learning challenges ?**\n"
   ]
  },
  {
   "cell_type": "markdown",
   "id": "a280334f-ff3b-4634-af0e-9b4a8e0956ca",
   "metadata": {},
   "source": [
    "**Ans:** Four main challenges in Machine Learning include the following:\n",
    "<br>\n",
    "Overfitting the Data (using a model too complicated)<br>\n",
    "Underfitting the data (using a simple model)<br>\n",
    "Lacking in Data<br>\n",
    "Non Representative Data."
   ]
  },
  {
   "cell_type": "markdown",
   "id": "24310fac-b4b8-4677-ac56-5b1b9280a88d",
   "metadata": {},
   "source": [
    "**15.What happens if the model performs well on the training data but fails to generalize the results to new situations? Can you think of three different options ?**\n"
   ]
  },
  {
   "cell_type": "markdown",
   "id": "d5b2fb62-2952-4188-b88f-22596699b7b3",
   "metadata": {},
   "source": [
    "**Ans:** If the model performs poorly to new instances, then it has overfitted on the training data. To solve this, we can do any of the following three:\n",
    "<br>\n",
    "Get more data<br>\n",
    "Implement a simpler model<br>\n",
    "Eliminate outliers or noise from the existing data set.\n"
   ]
  },
  {
   "cell_type": "markdown",
   "id": "faabafca-fa46-41b9-a911-94a76cf6bcd7",
   "metadata": {},
   "source": [
    "**16.What exactly is a test set, and why would you need one ?**\n"
   ]
  },
  {
   "cell_type": "markdown",
   "id": "c52e3d7a-e53d-4276-8b00-9d20e619c795",
   "metadata": {},
   "source": [
    "**Ans:** Test set is a set to test your model (fit using training data) to see how it performs.Test set is necessary to determine how good (or bad) a model performs.\n"
   ]
  },
  {
   "cell_type": "markdown",
   "id": "51628645-4110-4d3b-9271-c7eb2e16fac9",
   "metadata": {},
   "source": [
    "\n",
    "**17.What is a validation set's purpose ?**\n"
   ]
  },
  {
   "cell_type": "markdown",
   "id": "d1827e55-d6a7-4743-87e4-d76f4ce900cf",
   "metadata": {},
   "source": [
    "**Ans:** Validation set is a set used to compare between different training models.\n"
   ]
  },
  {
   "cell_type": "markdown",
   "id": "2e2a1ff3-4cc8-4903-ac19-0ea7a475dbab",
   "metadata": {},
   "source": [
    "\n",
    "**18.What precisely is the train-dev kit, when will you need it, how do you put it to use ?**\n"
   ]
  },
  {
   "cell_type": "markdown",
   "id": "42237f93-2a12-446b-a263-b3fd5dfe78de",
   "metadata": {},
   "source": [
    "**Ans:** Cross-validation is a tool to compare models without needing a separate validation set. It is preferred over validation set because we can save from breaking of part of the training set to create a validation set, as having more data is valuable regardless.\n"
   ]
  },
  {
   "cell_type": "markdown",
   "id": "5f7ee600-6e8e-4f09-a085-a98d5923033f",
   "metadata": {},
   "source": [
    "\n",
    "**19.What could go wrong if you use the test set to tune hyperparameters ?**\n"
   ]
  },
  {
   "cell_type": "markdown",
   "id": "3a98d2fc-6857-4f1b-8a16-f0d5ad1c3cd4",
   "metadata": {},
   "source": [
    "**Ans:** If you tune hyperparameters using the test sets, then it may not perform well on the out-of-sample data because the model is tuned just for that specific set."
   ]
  },
  {
   "cell_type": "code",
   "execution_count": null,
   "id": "53244f0e-d98b-4532-b80e-f4e072c76520",
   "metadata": {},
   "outputs": [],
   "source": []
  }
 ],
 "metadata": {
  "kernelspec": {
   "display_name": "Python 3 (ipykernel)",
   "language": "python",
   "name": "python3"
  },
  "language_info": {
   "codemirror_mode": {
    "name": "ipython",
    "version": 3
   },
   "file_extension": ".py",
   "mimetype": "text/x-python",
   "name": "python",
   "nbconvert_exporter": "python",
   "pygments_lexer": "ipython3",
   "version": "3.12.1"
  }
 },
 "nbformat": 4,
 "nbformat_minor": 5
}
