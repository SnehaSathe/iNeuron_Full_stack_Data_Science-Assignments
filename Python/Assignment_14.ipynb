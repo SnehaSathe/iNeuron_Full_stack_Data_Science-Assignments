{
 "cells": [
  {
   "cell_type": "markdown",
   "id": "0ec1027c-d502-438f-bd3e-c6545b0d222d",
   "metadata": {},
   "source": [
    "**Assignment 14 Solutions**"
   ]
  },
  {
   "cell_type": "markdown",
   "id": "cf3c9533-4bff-426e-ba73-afd77993d39c",
   "metadata": {},
   "source": [
    "**1. What does RGBA stand for?**"
   ]
  },
  {
   "cell_type": "markdown",
   "id": "d9f4870c-5378-4d90-806d-96913ba2a76a",
   "metadata": {},
   "source": [
    "**Ans:** RGBA is a four-channel format containing data for Red, Green, Blue, and an Alpha value. Where Alpha Represents the Opacity"
   ]
  },
  {
   "cell_type": "markdown",
   "id": "1bb2f51a-ad79-40fa-942d-727d4893896a",
   "metadata": {},
   "source": [
    "**2. From the Pillow module, how do you get the RGBA value of any images?**"
   ]
  },
  {
   "cell_type": "markdown",
   "id": "86d6a10b-e70c-4d70-9e0d-3f48096401f5",
   "metadata": {},
   "source": [
    "**Ans:** ImageColor.getcolor() gives rgba value of any image"
   ]
  },
  {
   "cell_type": "markdown",
   "id": "03f75e26-50d1-4dbf-96dd-1d22acc26aab",
   "metadata": {},
   "source": [
    "**3. What is a box tuple, and how does it work?**"
   ]
  },
  {
   "cell_type": "markdown",
   "id": "d22dd76c-8861-4157-a771-af4dbd82fa55",
   "metadata": {},
   "source": [
    "**Ans:** A box tuple is a tuple value of four integers: the left-edge x-coordinate, the top-edge y-coordinate,the width, and the height, respectively."
   ]
  },
  {
   "cell_type": "markdown",
   "id": "f3f83e50-e79b-457f-acf6-2a404ab5bbe1",
   "metadata": {},
   "source": [
    "**4. Use your image and load in notebook then, How can you find out the width and height of an\n",
    "Image object?**"
   ]
  },
  {
   "cell_type": "code",
   "execution_count": 3,
   "id": "df3ff7e6-459b-44ca-aa2c-ab024edcd650",
   "metadata": {},
   "outputs": [
    {
     "name": "stdout",
     "output_type": "stream",
     "text": [
      "Width, Height -> (430, 117)\n",
      "Width, Height -> 430,117\n",
      "Width, Height -> 430,117\n"
     ]
    }
   ],
   "source": [
    "#Example Program\n",
    "from PIL import Image\n",
    "pic = Image.open('ineuron.png')\n",
    "print(f'Width, Height -> {pic.size}') # Approach 1\n",
    "print(f'Width, Height -> {pic.width},{pic.height}') # Approach 2\n",
    "width,height = pic.size\n",
    "print(f'Width, Height -> {width},{height}') # Approach 3"
   ]
  },
  {
   "cell_type": "markdown",
   "id": "2eddd7bd-32ba-4e4c-83d8-e7c1da948bf6",
   "metadata": {},
   "source": [
    "**5. What method would you call to get Image object for a 100×100 image, excluding the lower-left\n",
    "quarter of it?**"
   ]
  },
  {
   "cell_type": "code",
   "execution_count": 4,
   "id": "c30f691f-6709-40fd-b7fb-928116ddd2c8",
   "metadata": {},
   "outputs": [],
   "source": [
    "from PIL import Image\n",
    "img = Image.open('ineuron.png')\n",
    "new_img = img.crop((0,50,50,50))"
   ]
  },
  {
   "cell_type": "markdown",
   "id": "d239985e-0c3d-41ac-a212-511e71bc6008",
   "metadata": {},
   "source": [
    "**6. After making changes to an Image object, how could you save it as an image file?**"
   ]
  },
  {
   "cell_type": "code",
   "execution_count": 6,
   "id": "012170da-abd2-48fd-a573-65eb88fae565",
   "metadata": {},
   "outputs": [],
   "source": [
    "#Example Program\n",
    "from PIL import Image\n",
    "pic = Image.open('ineuron.png')\n",
    "pic.save('pic2.png')"
   ]
  },
  {
   "cell_type": "markdown",
   "id": "f09afc6b-113d-4d15-82ac-c3fa824d7ae9",
   "metadata": {},
   "source": [
    "**7. What module contains Pillow’s shape-drawing code?**"
   ]
  },
  {
   "cell_type": "markdown",
   "id": "9c7b1758-7e2c-4495-85e7-1ea62b476b1a",
   "metadata": {},
   "source": [
    "**Ans:** Pillows ImageDraw module contains Shape drawing methods"
   ]
  },
  {
   "cell_type": "markdown",
   "id": "986457db-07ca-4834-b999-bdcecb1a9733",
   "metadata": {},
   "source": [
    "**8. Image objects do not have drawing methods. What kind of object does? How do you get this kind\n",
    "of object?**"
   ]
  },
  {
   "cell_type": "markdown",
   "id": "f59338d7-0ea9-4975-a1ae-16faab942eea",
   "metadata": {},
   "source": [
    "**Ans:** ImageDraw objects have shape-drawing methods such as point(), line(), or rectangle().They are returned by passing the Image object to the ImageDraw.Draw() function."
   ]
  }
 ],
 "metadata": {
  "kernelspec": {
   "display_name": "Python 3 (ipykernel)",
   "language": "python",
   "name": "python3"
  },
  "language_info": {
   "codemirror_mode": {
    "name": "ipython",
    "version": 3
   },
   "file_extension": ".py",
   "mimetype": "text/x-python",
   "name": "python",
   "nbconvert_exporter": "python",
   "pygments_lexer": "ipython3",
   "version": "3.10.6"
  }
 },
 "nbformat": 4,
 "nbformat_minor": 5
}
