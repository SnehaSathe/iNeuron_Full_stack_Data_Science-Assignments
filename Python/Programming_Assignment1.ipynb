{
 "cells": [
  {
   "cell_type": "markdown",
   "id": "6c08fff2",
   "metadata": {},
   "source": [
    "# Programmin Assignment 1 Solution"
   ]
  },
  {
   "cell_type": "markdown",
   "id": "6f55430b",
   "metadata": {},
   "source": [
    "1. Write a Python program to print \"Hello Python\"?"
   ]
  },
  {
   "cell_type": "code",
   "execution_count": 1,
   "id": "9f714b6e",
   "metadata": {},
   "outputs": [
    {
     "name": "stdout",
     "output_type": "stream",
     "text": [
      "Hello Python\n"
     ]
    }
   ],
   "source": [
    "print(\"Hello Python\")"
   ]
  },
  {
   "cell_type": "markdown",
   "id": "d90c62d8",
   "metadata": {},
   "source": [
    "2. Write a Python program to do arithmetical operations addition and division.?"
   ]
  },
  {
   "cell_type": "code",
   "execution_count": 2,
   "id": "225a3621",
   "metadata": {},
   "outputs": [
    {
     "name": "stdout",
     "output_type": "stream",
     "text": [
      "Addition:  6\n",
      "Division:  2.0\n"
     ]
    }
   ],
   "source": [
    "a= 4\n",
    "b=2\n",
    "add=a+b\n",
    "div=a/b\n",
    "print(\"Addition: \",add)\n",
    "print(\"Division: \",div)"
   ]
  },
  {
   "cell_type": "markdown",
   "id": "d5791503",
   "metadata": {},
   "source": [
    "3. Write a Python program to find the area of a triangle?"
   ]
  },
  {
   "cell_type": "code",
   "execution_count": 3,
   "id": "3ea9ff71",
   "metadata": {},
   "outputs": [
    {
     "name": "stdout",
     "output_type": "stream",
     "text": [
      "Enter base of triangle: 2\n",
      "Enter height of triangle: 4\n",
      "area of Triangle is:  4.0\n"
     ]
    }
   ],
   "source": [
    "base= int(input(\"Enter base of triangle: \"))\n",
    "height= int(input(\"Enter height of triangle: \"))\n",
    "\n",
    "area= 1/2*base*height\n",
    "\n",
    "print(\"area of Triangle is: \", area)"
   ]
  },
  {
   "cell_type": "markdown",
   "id": "8592f55f",
   "metadata": {},
   "source": [
    "4. Write a Python program to swap two variables?"
   ]
  },
  {
   "cell_type": "code",
   "execution_count": 4,
   "id": "38ddede9",
   "metadata": {},
   "outputs": [
    {
     "name": "stdout",
     "output_type": "stream",
     "text": [
      "The Swap variables are:  4 2\n"
     ]
    }
   ],
   "source": [
    "a=2\n",
    "b=4\n",
    "a,b = b,a\n",
    "print(\"The Swap variables are: \", a,b)"
   ]
  },
  {
   "cell_type": "markdown",
   "id": "54d8d352",
   "metadata": {},
   "source": [
    "5. Write a Python program to generate a random number?"
   ]
  },
  {
   "cell_type": "code",
   "execution_count": 6,
   "id": "d5f262a1",
   "metadata": {},
   "outputs": [
    {
     "name": "stdout",
     "output_type": "stream",
     "text": [
      "3\n"
     ]
    }
   ],
   "source": [
    "import random\n",
    "a = random.randint(0,11)\n",
    "print(a)"
   ]
  }
 ],
 "metadata": {
  "kernelspec": {
   "display_name": "Python 3 (ipykernel)",
   "language": "python",
   "name": "python3"
  },
  "language_info": {
   "codemirror_mode": {
    "name": "ipython",
    "version": 3
   },
   "file_extension": ".py",
   "mimetype": "text/x-python",
   "name": "python",
   "nbconvert_exporter": "python",
   "pygments_lexer": "ipython3",
   "version": "3.9.12"
  }
 },
 "nbformat": 4,
 "nbformat_minor": 5
}
