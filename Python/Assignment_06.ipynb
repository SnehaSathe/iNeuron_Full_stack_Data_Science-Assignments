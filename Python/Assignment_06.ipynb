{
 "cells": [
  {
   "cell_type": "markdown",
   "id": "0a4cd0c7",
   "metadata": {},
   "source": [
    "# Assignment 6 Solutions"
   ]
  },
  {
   "cell_type": "markdown",
   "id": "c9e2a168",
   "metadata": {},
   "source": [
    "1. What are escape characters, and how do you use them?"
   ]
  },
  {
   "cell_type": "markdown",
   "id": "01523ff0",
   "metadata": {},
   "source": [
    "Ans: Escape characters represent characters in string values that would otherwise be difficult or impossible to type into code. we can use the backslash character to escape a single character or symbol\n",
    "example: \\t, \\n"
   ]
  },
  {
   "cell_type": "markdown",
   "id": "83b357dd",
   "metadata": {},
   "source": [
    "2. What do the escape characters n and t stand for?"
   ]
  },
  {
   "cell_type": "markdown",
   "id": "5a105c9c",
   "metadata": {},
   "source": [
    "Ans: escape character n stand for new line and t stand for tab"
   ]
  },
  {
   "cell_type": "markdown",
   "id": "aba3793b",
   "metadata": {},
   "source": [
    "3. What is the way to include backslash characters in a string?"
   ]
  },
  {
   "cell_type": "markdown",
   "id": "bb912a8e",
   "metadata": {},
   "source": [
    "Ans: The \\\\\\\\ escape character will represent the backslash character in a string"
   ]
  },
  {
   "cell_type": "markdown",
   "id": "16c5cc92",
   "metadata": {},
   "source": [
    "4. The string \"Howl's Moving Castle\" is a correct value. Why isn't the single quote character in the\n",
    "word Howl's not escaped a problem?"
   ]
  },
  {
   "cell_type": "markdown",
   "id": "6f2f492d",
   "metadata": {},
   "source": [
    "Ans:  The string \"Howl's Moving Castle\" escaped the problem because it is wrapped inside double quotes. if its wrapped inside single quotes then we have to use escape character \\' to show single quote in the final output\n",
    "'Howl\\'s Moving Castle' -> 'Howl's Moving Castle'"
   ]
  },
  {
   "cell_type": "markdown",
   "id": "6f6c63c3",
   "metadata": {},
   "source": [
    "5. How do you write a string of newlines if you don't want to use the n character?"
   ]
  },
  {
   "cell_type": "markdown",
   "id": "ba9ab7ca",
   "metadata": {},
   "source": [
    "Ans: Multiline string allow you to use newlines in string without the \\n escape character"
   ]
  },
  {
   "cell_type": "code",
   "execution_count": 1,
   "id": "a3706032",
   "metadata": {},
   "outputs": [
    {
     "name": "stdout",
     "output_type": "stream",
     "text": [
      "Multiline string\n",
      "without the escape character \n"
     ]
    }
   ],
   "source": [
    "s = \"\"\"Multiline string\n",
    "without the escape character \"\"\"\n",
    "print(s)"
   ]
  },
  {
   "cell_type": "markdown",
   "id": "ead20e3c",
   "metadata": {},
   "source": [
    "6. What are the values of the given expressions?\n",
    "'Hello, world!'[1]\n",
    "'Hello, world!'[0:5]\n",
    "'Hello, world!'[:5]\n",
    "'Hello, world!'[3:]"
   ]
  },
  {
   "cell_type": "code",
   "execution_count": 2,
   "id": "445b36be",
   "metadata": {},
   "outputs": [
    {
     "name": "stdout",
     "output_type": "stream",
     "text": [
      "'Hello, world!'[1] -> e\n",
      "'Hello, world!'[0:5] -> Hello\n",
      "'Hello, world!'[:5] -> Hello\n",
      "'Hello, world!'[3:] -> lo, world!\n"
     ]
    }
   ],
   "source": [
    "print(\"'Hello, world!'[1] ->\",'Hello, world!'[1])\n",
    "print(\"'Hello, world!'[0:5] ->\",'Hello, world!'[0:5])\n",
    "print(\"'Hello, world!'[:5] ->\",'Hello, world!'[:5])\n",
    "print(\"'Hello, world!'[3:] ->\",'Hello, world!'[3:])"
   ]
  },
  {
   "cell_type": "markdown",
   "id": "52eeeb07",
   "metadata": {},
   "source": [
    "7. What are the values of the following expressions?\n",
    "'Hello'.upper()\n",
    "'Hello'.upper().isupper()\n",
    "'Hello'.upper().lower()"
   ]
  },
  {
   "cell_type": "code",
   "execution_count": 3,
   "id": "15049d26",
   "metadata": {},
   "outputs": [
    {
     "name": "stdout",
     "output_type": "stream",
     "text": [
      "'Hello'.upper()-> HELLO\n",
      "'Hello'.upper().isupper()-> True\n",
      "'Hello'.upper().lower()-> hello\n"
     ]
    }
   ],
   "source": [
    "print(\"'Hello'.upper()->\",'Hello'.upper())\n",
    "print(\"'Hello'.upper().isupper()->\", 'Hello'.upper().isupper())\n",
    "print(\"'Hello'.upper().lower()->\", 'Hello'.upper().lower())"
   ]
  },
  {
   "cell_type": "markdown",
   "id": "388616ed",
   "metadata": {},
   "source": [
    "8. What are the values of the following expressions?\n",
    "'Remember, remember, the fifth of July.'.split()\n",
    "'-';.join('There can only one.'.split())"
   ]
  },
  {
   "cell_type": "markdown",
   "id": "fc95f0dc",
   "metadata": {},
   "source": [
    "Ans: The values for the given expressions are:\n",
    "'Remember, remember, the fifith of July.'.split() -> ['Remember,', 'remember,', 'the', 'fifith', 'of', 'July.'] AND \n",
    "'-'.join('There can only one'.split()) -> 'There-can-only-one'"
   ]
  },
  {
   "cell_type": "markdown",
   "id": "e16c85e8",
   "metadata": {},
   "source": [
    "9. What are the methods for right-justifying, left-justifying, and centering a string?"
   ]
  },
  {
   "cell_type": "markdown",
   "id": "e69e8606",
   "metadata": {},
   "source": [
    "Ans: The rjust(),ljust(),center() string methods, respectively"
   ]
  },
  {
   "cell_type": "markdown",
   "id": "37d53885",
   "metadata": {},
   "source": [
    "10. What is the best way to remove whitespace characters from the start or end?"
   ]
  },
  {
   "cell_type": "markdown",
   "id": "b6179f29",
   "metadata": {},
   "source": [
    "Ans: The lstrip() and rstrip() methods remove whitesapce characters from the left and right ends of a string respectively"
   ]
  }
 ],
 "metadata": {
  "kernelspec": {
   "display_name": "Python 3 (ipykernel)",
   "language": "python",
   "name": "python3"
  },
  "language_info": {
   "codemirror_mode": {
    "name": "ipython",
    "version": 3
   },
   "file_extension": ".py",
   "mimetype": "text/x-python",
   "name": "python",
   "nbconvert_exporter": "python",
   "pygments_lexer": "ipython3",
   "version": "3.9.12"
  }
 },
 "nbformat": 4,
 "nbformat_minor": 5
}
