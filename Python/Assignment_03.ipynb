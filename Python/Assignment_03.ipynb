{
 "cells": [
  {
   "cell_type": "markdown",
   "id": "641d81e7",
   "metadata": {},
   "source": [
    "# Assignment 3 Solutions"
   ]
  },
  {
   "cell_type": "markdown",
   "id": "d3d5a477",
   "metadata": {},
   "source": [
    "1. Why are functions advantageous to have in your programs?"
   ]
  },
  {
   "cell_type": "markdown",
   "id": "d969306f",
   "metadata": {},
   "source": [
    "Ans: With the help of function we can avoid rewrite of same logic and code again and again in program. Call function anywhere and multiple times in program."
   ]
  },
  {
   "cell_type": "markdown",
   "id": "be45d946",
   "metadata": {},
   "source": [
    "2. When does the code in a function run: when it's specified or when it's called?"
   ]
  },
  {
   "cell_type": "markdown",
   "id": "4bcadb37",
   "metadata": {},
   "source": [
    "Ans: Code in the fuction run when function is called"
   ]
  },
  {
   "cell_type": "markdown",
   "id": "7c901bb2",
   "metadata": {},
   "source": [
    "3. What statement creates a function?"
   ]
  },
  {
   "cell_type": "code",
   "execution_count": null,
   "id": "68716ab3",
   "metadata": {},
   "outputs": [],
   "source": [
    "Ans: def statement creates a function\n",
    "eg. def func():\n",
    "        pass"
   ]
  },
  {
   "cell_type": "markdown",
   "id": "7b2c192d",
   "metadata": {},
   "source": [
    "4. What is the difference between a function and a function call?"
   ]
  },
  {
   "cell_type": "markdown",
   "id": "0f945e91",
   "metadata": {},
   "source": [
    "Ans: A function consists of the def statement and the code in its def clause.\n",
    "function call evaluate the functions return value"
   ]
  },
  {
   "cell_type": "code",
   "execution_count": 1,
   "id": "16330e21",
   "metadata": {},
   "outputs": [
    {
     "data": {
      "text/plain": [
       "6"
      ]
     },
     "execution_count": 1,
     "metadata": {},
     "output_type": "execute_result"
    }
   ],
   "source": [
    "def func(a,b):  # func() is function\n",
    "    return a+b\n",
    "\n",
    "func(2,4)  # calling function"
   ]
  },
  {
   "cell_type": "markdown",
   "id": "31f736c2",
   "metadata": {},
   "source": [
    "5. How many global scopes are there in a Python program? How many local scopes?"
   ]
  },
  {
   "cell_type": "markdown",
   "id": "4aec8da3",
   "metadata": {},
   "source": [
    "Ans: There is only one global scope in each program and A local scope is created whenever a function is called."
   ]
  },
  {
   "cell_type": "markdown",
   "id": "3620fb44",
   "metadata": {},
   "source": [
    "6. What happens to variables in a local scope when the function call returns?"
   ]
  },
  {
   "cell_type": "markdown",
   "id": "2eb85697",
   "metadata": {},
   "source": [
    " Ans: When a function call returns, the local scope is destroyed."
   ]
  },
  {
   "cell_type": "markdown",
   "id": "5ba51bb2",
   "metadata": {},
   "source": [
    "7. What is the concept of a return value? Is it possible to have a return value in an expression?"
   ]
  },
  {
   "cell_type": "markdown",
   "id": "f5a3617c",
   "metadata": {},
   "source": [
    "Ans:  A return statement is used to end the execution of the function call and “returns” the result of expression. a return value can be used as part of an expression."
   ]
  },
  {
   "cell_type": "markdown",
   "id": "204a8a68",
   "metadata": {},
   "source": [
    "8. If a function does not have a return statement, what is the return value of a call to that function?"
   ]
  },
  {
   "cell_type": "markdown",
   "id": "9ce06e33",
   "metadata": {},
   "source": [
    "Ans: If the funtion does not have a return statement it will not return anything."
   ]
  },
  {
   "cell_type": "markdown",
   "id": "429a4b1b",
   "metadata": {},
   "source": [
    "9. How do you make a function variable refer to the global variable?"
   ]
  },
  {
   "cell_type": "markdown",
   "id": "e8713650",
   "metadata": {},
   "source": [
    "Ans: To make function variable as a global variable can use the global keyword to declare which variables are global."
   ]
  },
  {
   "cell_type": "markdown",
   "id": "b149bbcf",
   "metadata": {},
   "source": [
    "10. What is the data type of None?"
   ]
  },
  {
   "cell_type": "markdown",
   "id": "4f37efaf",
   "metadata": {},
   "source": [
    "Ans: The data type of None is NoneType"
   ]
  },
  {
   "cell_type": "markdown",
   "id": "ad3790cf",
   "metadata": {},
   "source": [
    "11. What does the sentence import areallyourpetsnamederic do?"
   ]
  },
  {
   "cell_type": "markdown",
   "id": "b1881455",
   "metadata": {},
   "source": [
    "Ans: That import statement imports a module named areallyourpetsnamederic. "
   ]
  },
  {
   "cell_type": "markdown",
   "id": "e902ad69",
   "metadata": {},
   "source": [
    "12. If you had a bacon() feature in a spam module, what would you call it after importing spam?"
   ]
  },
  {
   "cell_type": "code",
   "execution_count": null,
   "id": "55b4d19a",
   "metadata": {},
   "outputs": [],
   "source": [
    "Ans: import spam\n",
    "     spam.bacon()"
   ]
  },
  {
   "cell_type": "markdown",
   "id": "3e0dbcf5",
   "metadata": {},
   "source": [
    "13. What can you do to save a programme from crashing if it encounters an error?"
   ]
  },
  {
   "cell_type": "markdown",
   "id": "f124e563",
   "metadata": {},
   "source": [
    "Ans: We can use try except clause to save a program from crashing."
   ]
  },
  {
   "cell_type": "markdown",
   "id": "b4081eba",
   "metadata": {},
   "source": [
    "14. What is the purpose of the try clause? What is the purpose of the except clause?"
   ]
  },
  {
   "cell_type": "markdown",
   "id": "1f72cdff",
   "metadata": {},
   "source": [
    "Ans: The Try Except clause is used to handle the error inside the code. Try block executed when there is no error in program and Except block will execute whenever the program encounters some error in the try block."
   ]
  }
 ],
 "metadata": {
  "kernelspec": {
   "display_name": "Python 3 (ipykernel)",
   "language": "python",
   "name": "python3"
  },
  "language_info": {
   "codemirror_mode": {
    "name": "ipython",
    "version": 3
   },
   "file_extension": ".py",
   "mimetype": "text/x-python",
   "name": "python",
   "nbconvert_exporter": "python",
   "pygments_lexer": "ipython3",
   "version": "3.9.12"
  }
 },
 "nbformat": 4,
 "nbformat_minor": 5
}
