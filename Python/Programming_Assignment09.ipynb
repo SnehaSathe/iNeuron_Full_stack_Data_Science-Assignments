{
 "cells": [
  {
   "cell_type": "markdown",
   "id": "bef4225b-7132-47e0-8e52-2d7c1e7e9c99",
   "metadata": {},
   "source": [
    "**Programming Assignment 9 Solution**"
   ]
  },
  {
   "cell_type": "markdown",
   "id": "f5b78d97-7ef4-4a78-960d-8dd66f83bd7f",
   "metadata": {},
   "source": [
    "**1.Write a Python program to check if the given number is a Disarium Number?**"
   ]
  },
  {
   "cell_type": "code",
   "execution_count": null,
   "id": "b88f9cdc-1f05-4980-8b43-1bfc7abcc20d",
   "metadata": {},
   "outputs": [
    {
     "name": "stdin",
     "output_type": "stream",
     "text": [
      "Enter a Number:  175\n"
     ]
    },
    {
     "name": "stdout",
     "output_type": "stream",
     "text": [
      "175 is a Disarium Number\n"
     ]
    }
   ],
   "source": [
    "def checkDisariumNumber():\n",
    "    num = input('Enter a Number: ')\n",
    "    sum = 0\n",
    "    for item in range(len(num)):\n",
    "        sum = sum + int(num[item])**(item+1)\n",
    "    if sum == int(num):\n",
    "        print(f'{num} is a Disarium Number')\n",
    "    else:\n",
    "        print(f'{num} is a Not Disarium Number') \n",
    "\n",
    "checkDisariumNumber()\n",
    "checkDisariumNumber()"
   ]
  },
  {
   "cell_type": "markdown",
   "id": "bc67aa09-b1fd-4bce-9bb8-f5b130c4d84e",
   "metadata": {},
   "source": [
    "**2. Write a Python program to print all disarium numbers between 1 to 100?**"
   ]
  },
  {
   "cell_type": "code",
   "execution_count": null,
   "id": "83a5ca0e-8579-4be5-9e20-b96d0d0a3acb",
   "metadata": {},
   "outputs": [],
   "source": [
    "def printDisariumNumbers(start=0,end=100):\n",
    "    output_num = []\n",
    "    for number in range(start,end+1):\n",
    "        sum = 0\n",
    "        for item in range(len(str(number))):\n",
    "            sum = sum + int(str(number)[item])**(item+1)\n",
    "        if sum == number:\n",
    "            output_num.append(number)\n",
    "    return output_num\n",
    "            \n",
    "        \n",
    "printDisariumNumbers(1,100)"
   ]
  },
  {
   "cell_type": "markdown",
   "id": "185dfc13-c8db-4ae8-bce6-40ec8206b9bb",
   "metadata": {},
   "source": [
    "**3. Write a Python program to check if the given number is Happy Number?**"
   ]
  },
  {
   "cell_type": "code",
   "execution_count": null,
   "id": "949cdef7-da21-4885-86e5-b716d745870e",
   "metadata": {},
   "outputs": [],
   "source": [
    "def checkHappyNumber():\n",
    "    in_num = input('Enter a Number: ')\n",
    "    in_num_duplicate = in_num\n",
    "    trackNumber = set()   \n",
    "    while True:\n",
    "        if in_num != '1' and str(in_num) not in trackNumber:\n",
    "            trackNumber.add(in_num)\n",
    "            sum = 0\n",
    "            for ele in range(len((in_num))):\n",
    "                sum = sum + int(in_num[ele])**2\n",
    "            in_num = str(sum)\n",
    "        elif str(in_num) in trackNumber:\n",
    "            print(f'{in_num_duplicate} is not a Happy Number')\n",
    "            break\n",
    "        else:\n",
    "            print(f'{in_num_duplicate} is a Happy Number')\n",
    "            break\n",
    "\n",
    "checkHappyNumber()\n",
    "checkHappyNumber()"
   ]
  },
  {
   "cell_type": "markdown",
   "id": "286a221c-6fd0-42ea-89cf-f1c2ac78a29b",
   "metadata": {},
   "source": [
    "**4. Write a Python program to print all happy numbers between 1 and 100?**"
   ]
  },
  {
   "cell_type": "code",
   "execution_count": null,
   "id": "20afd362-53fb-450d-a3dc-c39749176a1e",
   "metadata": {},
   "outputs": [],
   "source": [
    "def checkHappyNumber(start=0,end=100):\n",
    "    happyNumbersList = []\n",
    "    for in_num in range(start,end+1):\n",
    "        in_num = str(in_num)\n",
    "        inum_holder = in_num\n",
    "        trackNumber = set()   \n",
    "        while True:\n",
    "            if in_num != '1' and str(in_num) not in trackNumber:\n",
    "                trackNumber.add(in_num)\n",
    "                sum = 0\n",
    "                for ele in range(len((in_num))):\n",
    "                    sum = sum + int(in_num[ele])**2\n",
    "                in_num = str(sum)\n",
    "            elif str(in_num) in trackNumber:\n",
    "                break\n",
    "            else:\n",
    "                happyNumbersList.append(int(inum_holder))\n",
    "                break\n",
    "    print(f'The Happy Numbers between {start} and {end} are {happyNumbersList}')\n",
    "    \n",
    "checkHappyNumber(0,100)"
   ]
  },
  {
   "cell_type": "markdown",
   "id": "686aeb46-07c4-44e4-8c52-a5651a1d39be",
   "metadata": {},
   "source": [
    "**5. Write a Python program to determine whether the given number is a Harshad Number?**"
   ]
  },
  {
   "cell_type": "code",
   "execution_count": null,
   "id": "fee22afb-a634-48ea-bd0f-b938e805d68f",
   "metadata": {},
   "outputs": [],
   "source": [
    "def checkHarshadNumber():\n",
    "    in_num = input('Enter a Number: ')\n",
    "    sum = 0\n",
    "    for item in range(len(in_num)):\n",
    "        sum = sum + int(in_num[item])\n",
    "    if int(in_num)%sum == 0:\n",
    "        print(f'{in_num} is a Harshad Number')\n",
    "    else:\n",
    "        print(f'{in_num} is a Not Harshad Number')\n",
    "        \n",
    "checkHarshadNumber()\n",
    "checkHarshadNumber()"
   ]
  },
  {
   "cell_type": "markdown",
   "id": "1407436c-12b6-46e5-97da-16119ee6fa6c",
   "metadata": {},
   "source": [
    "**6. Write a Python program to print all pronic numbers between 1 and 100?**"
   ]
  },
  {
   "cell_type": "code",
   "execution_count": null,
   "id": "5f1a0299-9e91-4bbb-b44d-cf58c722b328",
   "metadata": {},
   "outputs": [],
   "source": [
    "def printPronicNumbers(start=0,end=100):\n",
    "    outputList = []\n",
    "    for ele in range(start,end+1):\n",
    "        outputList.append((ele)*(ele+1))\n",
    "    print(outputList)\n",
    "                   \n",
    "printPronicNumbers()"
   ]
  }
 ],
 "metadata": {
  "kernelspec": {
   "display_name": "Python 3 (ipykernel)",
   "language": "python",
   "name": "python3"
  },
  "language_info": {
   "codemirror_mode": {
    "name": "ipython",
    "version": 3
   },
   "file_extension": ".py",
   "mimetype": "text/x-python",
   "name": "python",
   "nbconvert_exporter": "python",
   "pygments_lexer": "ipython3",
   "version": "3.10.6"
  }
 },
 "nbformat": 4,
 "nbformat_minor": 5
}
