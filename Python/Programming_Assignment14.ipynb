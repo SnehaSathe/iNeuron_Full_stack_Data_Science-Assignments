{
 "cells": [
  {
   "cell_type": "markdown",
   "id": "4ae5a6f6-f0fa-4476-b367-d1ec30a64c3c",
   "metadata": {},
   "source": [
    "**Programming Assignment 14 Solutions**"
   ]
  },
  {
   "cell_type": "markdown",
   "id": "2741510f-7ddc-4656-bd19-cf35248ef07d",
   "metadata": {},
   "source": [
    "**1.Define a class with a generator which can iterate the numbers, which are divisible by 7, between a given range 0 and n. ?**"
   ]
  },
  {
   "cell_type": "code",
   "execution_count": 1,
   "id": "c2c86713-2473-48f7-aec9-0b59832e54e1",
   "metadata": {},
   "outputs": [
    {
     "name": "stdout",
     "output_type": "stream",
     "text": [
      "0 7 14 21 28 35 42 49 56 63 70 77 84 91 98 105 112 119 126 133 140 147 154 161 168 175 182 189 196 203 210 217 224 231 238 245 252 259 266 273 280 287 294 301 308 315 322 329 336 343 350 "
     ]
    }
   ],
   "source": [
    "class div_generator:\n",
    "    def __init__(self,in_num):\n",
    "        self.in_num = in_num\n",
    "    def get_numbers(self):\n",
    "        for ele in range(0,self.in_num+1):\n",
    "            if ele%7 == 0:\n",
    "                yield ele\n",
    "                \n",
    "output = div_generator(350)\n",
    "for ele in output.get_numbers():\n",
    "    print(ele,end=' ')"
   ]
  },
  {
   "cell_type": "markdown",
   "id": "03391d45-8585-4731-a447-b6f2606d2095",
   "metadata": {},
   "source": [
    "**2.Write a program to compute the frequency of the words from the input. The output should output after sorting the key alphanumerically.**<br>\n",
    "Suppose the following input is supplied to the program:<br>\n",
    "New to Python or choosing between Python 2 and Python 3? Read Python 2 or Python 3.<br>\n",
    "Then, the output should be:<br>\n",
    "2:2 3.:1 3?:1 New:1 Python:5 Read:1 and:1 between:1 choosing:1 or:2 to:1"
   ]
  },
  {
   "cell_type": "code",
   "execution_count": null,
   "id": "359d3360-690a-4cbe-9791-80962957c45f",
   "metadata": {},
   "outputs": [],
   "source": [
    "def checkFrequency():\n",
    "    in_string = input(\"Enter the Input String: \")\n",
    "    frequency = {}\n",
    "    for ele in in_string.split(\" \"):\n",
    "        if(frequency.get(ele) == None):\n",
    "            frequency[ele] = 1\n",
    "        else:\n",
    "            frequency[ele] += 1 \n",
    "    for ele in sorted(frequency):\n",
    "        print(f'{ele}:{frequency[ele]}',end=\" \")\n",
    "checkFrequency()"
   ]
  },
  {
   "cell_type": "code",
   "execution_count": null,
   "id": "4e0f273e-bdfc-4514-babf-82e30418c17e",
   "metadata": {},
   "outputs": [],
   "source": []
  }
 ],
 "metadata": {
  "kernelspec": {
   "display_name": "Python 3 (ipykernel)",
   "language": "python",
   "name": "python3"
  },
  "language_info": {
   "codemirror_mode": {
    "name": "ipython",
    "version": 3
   },
   "file_extension": ".py",
   "mimetype": "text/x-python",
   "name": "python",
   "nbconvert_exporter": "python",
   "pygments_lexer": "ipython3",
   "version": "3.10.6"
  }
 },
 "nbformat": 4,
 "nbformat_minor": 5
}
