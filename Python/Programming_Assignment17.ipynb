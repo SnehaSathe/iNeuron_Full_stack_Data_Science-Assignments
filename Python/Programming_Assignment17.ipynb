{
 "cells": [
  {
   "cell_type": "markdown",
   "id": "67dbaa53-d90a-4991-9042-b98b7764c27b",
   "metadata": {},
   "source": [
    "**Programming Assignment 17 Solutions**"
   ]
  },
  {
   "cell_type": "markdown",
   "id": "f0844147-4adf-442a-af54-cebeea68ae26",
   "metadata": {},
   "source": [
    "**1.Create a function that takes three arguments a, b, c and returns the sum of the numbers that are evenly divided by c from the range a, b inclusive ?<br>**\n",
    "Examples:<br>\n",
    "evenly_divisible(1, 10, 20) ➞ 0 # No number between 1 and 10 can be evenly divided by 20.<br> evenly_divisible(1, 10, 2) ➞ 30 # 2 + 4 + 6 + 8 + 10 = 30 <br>evenly_divisible(1, 10, 3) ➞ 18 # 3 + 6 + 9 = 18"
   ]
  },
  {
   "cell_type": "code",
   "execution_count": 1,
   "id": "0a2ee77b-d91d-47f0-8ec7-10bb3640e9ca",
   "metadata": {},
   "outputs": [
    {
     "name": "stdout",
     "output_type": "stream",
     "text": [
      "(1, 10, 20) ➞ 0\n",
      "(1, 10, 2) ➞ 30\n",
      "(1, 10, 3) ➞ 18\n"
     ]
    }
   ],
   "source": [
    "def evenDivisible(a,b,c):\n",
    "    divList = []\n",
    "    for num in range(a,b+1):\n",
    "        if num%c == 0:\n",
    "            divList.append(num)\n",
    "    print(f'{a,b,c} ➞ {sum(divList)}')\n",
    "\n",
    "evenDivisible(1,10,20)\n",
    "evenDivisible(1,10,2)\n",
    "evenDivisible(1,10,3)"
   ]
  },
  {
   "cell_type": "markdown",
   "id": "c177598d-5728-4740-8ff3-540831c0b196",
   "metadata": {},
   "source": [
    "**2.Create a function that returns True if a given inequality expression is correct and False otherwise ?**<br>\n",
    "Examples:<br>\n",
    "correct_signs(\"3 < 7 < 11\") ➞ True<br>\n",
    "correct_signs(\"13 > 44 > 33 > 1\") ➞ False<br>\n",
    "correct_signs(\"1 < 2 < 6 < 9 > 3\") ➞ True"
   ]
  },
  {
   "cell_type": "code",
   "execution_count": 2,
   "id": "047aa18a-c95a-40f6-8ebc-7a7a2cd2ed32",
   "metadata": {},
   "outputs": [
    {
     "name": "stdin",
     "output_type": "stream",
     "text": [
      "Enter the inequality:  3 < 7 < 11\n"
     ]
    },
    {
     "name": "stdout",
     "output_type": "stream",
     "text": [
      "3 < 7 < 11 ➞ True\n"
     ]
    },
    {
     "name": "stdin",
     "output_type": "stream",
     "text": [
      "Enter the inequality:  13 > 44 > 33 > 1\n"
     ]
    },
    {
     "name": "stdout",
     "output_type": "stream",
     "text": [
      "13 > 44 > 33 > 1 ➞ False\n"
     ]
    },
    {
     "name": "stdin",
     "output_type": "stream",
     "text": [
      "Enter the inequality:  1 < 2 < 6 < 9 > 3\n"
     ]
    },
    {
     "name": "stdout",
     "output_type": "stream",
     "text": [
      "1 < 2 < 6 < 9 > 3 ➞ True\n"
     ]
    }
   ],
   "source": [
    "def checkEquality():\n",
    "    in_string = input('Enter the inequality: ')\n",
    "    out_bool = eval(in_string)\n",
    "    print(f'{in_string} ➞ {out_bool}')\n",
    "\n",
    "for x in range(3):\n",
    "    checkEquality()"
   ]
  },
  {
   "cell_type": "markdown",
   "id": "eb90c01e-af38-4076-bc3a-fa396ebfa98d",
   "metadata": {},
   "source": [
    "**3.Create a function that replaces all the vowels in a string with a specified character ?**<br>\n",
    "Examples:<br>\n",
    "replace_vowels(\"the aardvark\", \"#\") ➞ \"th# ##rdv#rk\"<br>\n",
    "replace_vowels(\"minnie mouse\", \"?\") ➞ \"m?nn?? m??s?\"<br>\n",
    "replace_vowels(\"shakespeare\", \"*\") ➞ \"shksp**r\""
   ]
  },
  {
   "cell_type": "code",
   "execution_count": 3,
   "id": "6f4abc4a-06b3-4543-b9fb-d7cfcd435d93",
   "metadata": {},
   "outputs": [
    {
     "name": "stdin",
     "output_type": "stream",
     "text": [
      "String:  the aardvark\n",
      "Replacement character:  #\n"
     ]
    },
    {
     "name": "stdout",
     "output_type": "stream",
     "text": [
      "the aardvark # ➞ th# ##rdv#rk\n"
     ]
    },
    {
     "name": "stdin",
     "output_type": "stream",
     "text": [
      "String:  minnie mouse\n",
      "Replacement character:  ?\n"
     ]
    },
    {
     "name": "stdout",
     "output_type": "stream",
     "text": [
      "minnie mouse ? ➞ m?nn?? m??s?\n"
     ]
    },
    {
     "name": "stdin",
     "output_type": "stream",
     "text": [
      "String:  shakespeare\n",
      "Replacement character:  *\n"
     ]
    },
    {
     "name": "stdout",
     "output_type": "stream",
     "text": [
      "shakespeare * ➞ sh*k*sp**r*\n"
     ]
    }
   ],
   "source": [
    "def replaceVowels():\n",
    "    vowels = ['a','e','i','o','u','A','E','I','O','U']\n",
    "    in_string = input(\"String: \")\n",
    "    in_string_copy = in_string\n",
    "    in_char = input('Replacement character: ')\n",
    "    for ele in in_string:\n",
    "        if ele in vowels:\n",
    "            in_string = in_string.replace(ele,in_char)\n",
    "    print(f'{in_string_copy} {in_char} ➞ {in_string}')\n",
    "            \n",
    "for x in range(3):\n",
    "    replaceVowels()"
   ]
  },
  {
   "cell_type": "markdown",
   "id": "d25d3fa1-d6a8-46ba-a911-3c49abf9ffe9",
   "metadata": {},
   "source": [
    "**4.Write a function that calculates the factorial of a number recursively ?**<br>\n",
    "Examples:<br>\n",
    "factorial(5) ➞ 120<br>\n",
    "factorial(3) ➞ 6<br>\n",
    "factorial(1) ➞ 1<br>\n",
    "factorial(0) ➞ 1"
   ]
  },
  {
   "cell_type": "code",
   "execution_count": 4,
   "id": "827097e7-1817-4ce7-b6b3-23a13642fdde",
   "metadata": {},
   "outputs": [
    {
     "name": "stdout",
     "output_type": "stream",
     "text": [
      "factorial(5) ➞ 120\n",
      "factorial(3) ➞ 6\n",
      "factorial(1) ➞ 1\n",
      "factorial(0) ➞ 1\n"
     ]
    }
   ],
   "source": [
    "def factorial(n):\n",
    "    if n==0:\n",
    "        return 1\n",
    "    return n * factorial(n-1)\n",
    "\n",
    "print(f'factorial(5) ➞ {factorial(5)}')\n",
    "print(f'factorial(3) ➞ {factorial(3)}')\n",
    "print(f'factorial(1) ➞ {factorial(1)}')\n",
    "print(f'factorial(0) ➞ {factorial(0)}')"
   ]
  },
  {
   "cell_type": "markdown",
   "id": "6b10900e-f7bf-467f-bba2-b036ad48e184",
   "metadata": {},
   "source": [
    "**5.Hamming distance is the number of characters that differ between two strings ?**"
   ]
  },
  {
   "cell_type": "code",
   "execution_count": null,
   "id": "32636752-072a-48a4-8506-71009c92f2c3",
   "metadata": {},
   "outputs": [],
   "source": []
  }
 ],
 "metadata": {
  "kernelspec": {
   "display_name": "Python 3 (ipykernel)",
   "language": "python",
   "name": "python3"
  },
  "language_info": {
   "codemirror_mode": {
    "name": "ipython",
    "version": 3
   },
   "file_extension": ".py",
   "mimetype": "text/x-python",
   "name": "python",
   "nbconvert_exporter": "python",
   "pygments_lexer": "ipython3",
   "version": "3.10.6"
  }
 },
 "nbformat": 4,
 "nbformat_minor": 5
}
