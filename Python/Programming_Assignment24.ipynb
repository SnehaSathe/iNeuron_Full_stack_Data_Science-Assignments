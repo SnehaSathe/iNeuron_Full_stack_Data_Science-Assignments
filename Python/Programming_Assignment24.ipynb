{
 "cells": [
  {
   "cell_type": "markdown",
   "id": "fa2c562e-b0ca-4801-8112-52f5307767c6",
   "metadata": {},
   "source": [
    "**Programming Assignment 24 Slutions**"
   ]
  },
  {
   "cell_type": "markdown",
   "id": "77a7d676-3cf5-4bc7-ba35-4d2ea5ed3c2e",
   "metadata": {},
   "source": [
    "**1.Create a function that takes an integer and returns a list from 1 to the given number, where:<br>**\n",
    "1.If the number can be divided evenly by 4, amplify it by 10 (i.e. return 10 times the number).<br>\n",
    "2.If the number cannot be divided evenly by 4, simply return the number.<br>\n",
    "\n",
    "Examples:<br>\n",
    "amplify(4) ➞ [1, 2, 3, 40]<br>\n",
    "amplify(3) ➞ [1, 2, 3]<br>\n",
    "amplify(25) ➞ [1, 2, 3, 40, 5, 6, 7, 80, 9, 10, 11, 120, 13, 14, 15, 160, 17, 18, 19, 200, 21, 22, 23, 240, 25]<br>\n",
    "\n",
    "Notes:<br>\n",
    "1.The given integer will always be equal to or greater than 1.<br>\n",
    "2.Include the number (see example above).<br>\n",
    "3.To perform this problem with its intended purpose, try doing it with list"
   ]
  },
  {
   "cell_type": "code",
   "execution_count": 1,
   "id": "cdc36ad5-c53d-47fb-a0c0-ec8f648c6fa5",
   "metadata": {},
   "outputs": [
    {
     "name": "stdout",
     "output_type": "stream",
     "text": [
      "4 ➞ [1, 2, 3, 40]\n",
      "3 ➞ [1, 2, 3]\n",
      "25 ➞ [1, 2, 3, 40, 5, 6, 7, 80, 9, 10, 11, 120, 13, 14, 15, 160, 17, 18, 19, 200, 21, 22, 23, 240, 25]\n"
     ]
    }
   ],
   "source": [
    "def amplify(in_num):\n",
    "    out_list = []\n",
    "    for ele in range(1,in_num+1):\n",
    "        if ele%4 == 0:\n",
    "            out_list.append(ele*10)\n",
    "        else:\n",
    "            out_list.append(ele)\n",
    "    print(f'{in_num} ➞ {out_list}')\n",
    "            \n",
    "amplify(4)\n",
    "amplify(3)\n",
    "amplify(25)"
   ]
  },
  {
   "cell_type": "markdown",
   "id": "cca4f370-430f-4703-9a27-ce931d95f332",
   "metadata": {},
   "source": [
    "**2.Create a function that takes a list of numbers and return the number that's unique.<br>**\n",
    "Examples:<br>\n",
    "unique([3, 3, 3, 7, 3, 3]) ➞ 7<br>\n",
    "unique([0, 0, 0.77, 0, 0]) ➞ 0.77<br>\n",
    "unique([0, 1, 1, 1, 1, 1, 1, 1]) ➞ 0<br>\n",
    "\n",
    "Notes:<br>\n",
    "Test cases will always have exactly one unique number while all others are the same."
   ]
  },
  {
   "cell_type": "code",
   "execution_count": 2,
   "id": "017e7061-addb-4191-a5ac-f1ff387a3055",
   "metadata": {},
   "outputs": [
    {
     "name": "stdout",
     "output_type": "stream",
     "text": [
      "[3, 3, 3, 7, 3, 3] ➞ 7\n",
      "[0, 0, 0.77, 0, 0] ➞ 0.77\n",
      "[0, 1, 1, 1, 1, 1, 1, 1] ➞ 0\n"
     ]
    }
   ],
   "source": [
    "def unique(in_list):\n",
    "    out_num = ''\n",
    "    for ele in set(in_list):\n",
    "        if in_list.count(ele) == 1:\n",
    "            out_num = ele\n",
    "    print(f'{in_list} ➞ {out_num}')\n",
    "\n",
    "unique([3, 3, 3, 7, 3, 3])\n",
    "unique([0, 0, 0.77, 0, 0])\n",
    "unique([0, 1, 1, 1, 1, 1, 1, 1])"
   ]
  },
  {
   "cell_type": "markdown",
   "id": "41eead2c-bb5c-4d7c-8b36-7f9b3f3e0933",
   "metadata": {},
   "source": [
    "**3.Your task is to create a Circle constructor that creates a circle with a radius provided by an argument. The circles constructed must have two getters getArea() (PIr^2) and getPerimeter() (2PI*r) which give both respective areas and perimeter (circumference). For help with this class, I have provided you with a Rectangle constructor which you can use as a base example ?<br>**\n",
    "Examples:<br>\n",
    "circy = Circle(11)<br>\n",
    "circy.getArea()<br>\n",
    "Should return 380.132711084365 circy = Circle(4.44)<br>\n",
    "circy.getPerimeter()<br>\n",
    "Should return 27.897342763877365<br>\n",
    "\n",
    "Notes:<br>\n",
    "Round results up to the nearest integer."
   ]
  },
  {
   "cell_type": "code",
   "execution_count": 3,
   "id": "98f1f949-142f-4020-9998-67b4da58b293",
   "metadata": {},
   "outputs": [
    {
     "name": "stdout",
     "output_type": "stream",
     "text": [
      "Radius ➞ 380\n",
      "Perimeter ➞ 28\n"
     ]
    }
   ],
   "source": [
    "import math\n",
    "\n",
    "class Circle:\n",
    "    def __init__(self, radius):\n",
    "        self.radius = radius\n",
    "    def getArea(self):\n",
    "        print(f'Radius ➞ {round(math.pi*self.radius*self.radius)}')\n",
    "    def getPerimeter(self):\n",
    "        print(f'Perimeter ➞ {round(2*math.pi*self.radius)}')\n",
    "    \n",
    "circy = Circle(11)\n",
    "circy.getArea()\n",
    "\n",
    "circy = Circle(4.44)\n",
    "circy.getPerimeter()"
   ]
  },
  {
   "cell_type": "code",
   "execution_count": null,
   "id": "bb35f3e0-3465-4144-b96f-f042e4f94ff3",
   "metadata": {},
   "outputs": [],
   "source": [
    "**4.Create a function that takes a list of strings and return a list, sorted from shortest to longest.**<br>\n",
    "Examples:<br>\n",
    "sort_by_length([\"Google\", \"Apple\", \"Microsoft\"])<br>\n",
    "➞ [\"Apple\", \"Google\", \"Microsoft\"]<br>\n",
    "sort_by_length([\"Leonardo\", \"Michelangelo\", \"Raphael\", \"Donatello\"])<br>\n",
    "➞ [\"Raphael\", \"Leonardo\", \"Donatello\", \"Michelangelo\"]<br>\n",
    "sort_by_length([\"Turing\", \"Einstein\", \"Jung\"])<br>\n",
    "➞ [\"Jung\", \"Turing\", \"Einstein\"]<br>\n",
    "\n",
    "Notes:<br>\n",
    "All test cases contain lists with strings of different lengths, so you won't have to deal with multiple strings of the same length.\n",
    "\n"
   ]
  }
 ],
 "metadata": {
  "kernelspec": {
   "display_name": "Python 3 (ipykernel)",
   "language": "python",
   "name": "python3"
  },
  "language_info": {
   "codemirror_mode": {
    "name": "ipython",
    "version": 3
   },
   "file_extension": ".py",
   "mimetype": "text/x-python",
   "name": "python",
   "nbconvert_exporter": "python",
   "pygments_lexer": "ipython3",
   "version": "3.10.6"
  }
 },
 "nbformat": 4,
 "nbformat_minor": 5
}
