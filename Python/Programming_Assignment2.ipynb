{
 "cells": [
  {
   "cell_type": "markdown",
   "id": "d093881e",
   "metadata": {},
   "source": [
    "# Programming_Assignment 2 Solutions"
   ]
  },
  {
   "cell_type": "markdown",
   "id": "a1ac2cc2",
   "metadata": {},
   "source": [
    "1. Write a Python program to convert kilometers to miles?"
   ]
  },
  {
   "cell_type": "code",
   "execution_count": 1,
   "id": "9010c8e0",
   "metadata": {},
   "outputs": [
    {
     "name": "stdout",
     "output_type": "stream",
     "text": [
      "Enter no of kilometer: 3\n",
      "3.0 km is equal to 1.863 miles \n"
     ]
    }
   ],
   "source": [
    "def kmtomile():\n",
    "    kilometer=float(input(\"Enter no of kilometer: \"))\n",
    "    print(\"{} km is equal to {} miles \".format(kilometer,kilometer*0.621))\n",
    "    \n",
    "kmtomile()"
   ]
  },
  {
   "cell_type": "markdown",
   "id": "9f4bb826",
   "metadata": {},
   "source": [
    "2. Write a Python program to convert Celsius to Fahrenheit?"
   ]
  },
  {
   "cell_type": "code",
   "execution_count": 2,
   "id": "0a718021",
   "metadata": {},
   "outputs": [
    {
     "name": "stdout",
     "output_type": "stream",
     "text": [
      "Enter no of celsius: 3\n",
      "3.0 celsius is equal to 37.4 Fahrenheit \n"
     ]
    }
   ],
   "source": [
    "def celtofah():\n",
    "    celsius=float(input(\"Enter no of celsius: \"))\n",
    "    fahrenheit= (celsius*(9/5))+32\n",
    "    print(\"{} celsius is equal to {} Fahrenheit \".format(celsius,fahrenheit))\n",
    "    \n",
    "celtofah()"
   ]
  },
  {
   "cell_type": "markdown",
   "id": "ff5bd2e7",
   "metadata": {},
   "source": [
    "3. Write a Python program to display calendar?"
   ]
  },
  {
   "cell_type": "code",
   "execution_count": 3,
   "id": "7a429e3e",
   "metadata": {},
   "outputs": [
    {
     "name": "stdout",
     "output_type": "stream",
     "text": [
      "Enter year: 2023\n",
      "                                  2023\n",
      "\n",
      "      January                   February                   March\n",
      "Mo Tu We Th Fr Sa Su      Mo Tu We Th Fr Sa Su      Mo Tu We Th Fr Sa Su\n",
      "                   1             1  2  3  4  5             1  2  3  4  5\n",
      " 2  3  4  5  6  7  8       6  7  8  9 10 11 12       6  7  8  9 10 11 12\n",
      " 9 10 11 12 13 14 15      13 14 15 16 17 18 19      13 14 15 16 17 18 19\n",
      "16 17 18 19 20 21 22      20 21 22 23 24 25 26      20 21 22 23 24 25 26\n",
      "23 24 25 26 27 28 29      27 28                     27 28 29 30 31\n",
      "30 31\n",
      "\n",
      "       April                      May                       June\n",
      "Mo Tu We Th Fr Sa Su      Mo Tu We Th Fr Sa Su      Mo Tu We Th Fr Sa Su\n",
      "                1  2       1  2  3  4  5  6  7                1  2  3  4\n",
      " 3  4  5  6  7  8  9       8  9 10 11 12 13 14       5  6  7  8  9 10 11\n",
      "10 11 12 13 14 15 16      15 16 17 18 19 20 21      12 13 14 15 16 17 18\n",
      "17 18 19 20 21 22 23      22 23 24 25 26 27 28      19 20 21 22 23 24 25\n",
      "24 25 26 27 28 29 30      29 30 31                  26 27 28 29 30\n",
      "\n",
      "        July                     August                  September\n",
      "Mo Tu We Th Fr Sa Su      Mo Tu We Th Fr Sa Su      Mo Tu We Th Fr Sa Su\n",
      "                1  2          1  2  3  4  5  6                   1  2  3\n",
      " 3  4  5  6  7  8  9       7  8  9 10 11 12 13       4  5  6  7  8  9 10\n",
      "10 11 12 13 14 15 16      14 15 16 17 18 19 20      11 12 13 14 15 16 17\n",
      "17 18 19 20 21 22 23      21 22 23 24 25 26 27      18 19 20 21 22 23 24\n",
      "24 25 26 27 28 29 30      28 29 30 31               25 26 27 28 29 30\n",
      "31\n",
      "\n",
      "      October                   November                  December\n",
      "Mo Tu We Th Fr Sa Su      Mo Tu We Th Fr Sa Su      Mo Tu We Th Fr Sa Su\n",
      "                   1             1  2  3  4  5                   1  2  3\n",
      " 2  3  4  5  6  7  8       6  7  8  9 10 11 12       4  5  6  7  8  9 10\n",
      " 9 10 11 12 13 14 15      13 14 15 16 17 18 19      11 12 13 14 15 16 17\n",
      "16 17 18 19 20 21 22      20 21 22 23 24 25 26      18 19 20 21 22 23 24\n",
      "23 24 25 26 27 28 29      27 28 29 30               25 26 27 28 29 30 31\n",
      "30 31\n",
      "\n"
     ]
    }
   ],
   "source": [
    "import calendar\n",
    "\n",
    "def showcalendar():\n",
    "    year=int(input(\"Enter year: \"))\n",
    "    print(calendar.calendar(year))\n",
    "    \n",
    "showcalendar()"
   ]
  },
  {
   "cell_type": "markdown",
   "id": "c9223d63",
   "metadata": {},
   "source": [
    "4. Write a Python program to solve quadratic equation?"
   ]
  },
  {
   "cell_type": "code",
   "execution_count": 4,
   "id": "4606d2b4",
   "metadata": {},
   "outputs": [
    {
     "name": "stdout",
     "output_type": "stream",
     "text": [
      "Enter a value: 1\n",
      "Enter b value: 2\n",
      "Enter c value: 1\n",
      "The solution are (-1+0j) and (-1+0j)\n"
     ]
    }
   ],
   "source": [
    "import cmath\n",
    "\n",
    "\n",
    "def quadratic_eq():\n",
    "    a=int(input(\"Enter a value: \"))\n",
    "    b=int(input(\"Enter b value: \"))\n",
    "    c=int(input(\"Enter c value: \"))\n",
    "    \n",
    "    d = b*b-4*a*c\n",
    "    \n",
    "    sol1 = (-b-cmath.sqrt(d))/(2*a)  \n",
    "    sol2 = (-b+cmath.sqrt(d))/(2*a)  \n",
    "\n",
    "    print('The solution are {0} and {1}'.format(sol1,sol2))\n",
    "        \n",
    "quadratic_eq()"
   ]
  },
  {
   "cell_type": "markdown",
   "id": "f43bebcd",
   "metadata": {},
   "source": [
    "5. Write a Python program to swap two variables without temp variable?"
   ]
  },
  {
   "cell_type": "code",
   "execution_count": 5,
   "id": "98df358e",
   "metadata": {},
   "outputs": [
    {
     "name": "stdout",
     "output_type": "stream",
     "text": [
      "The swap numbers are:  2 1\n"
     ]
    }
   ],
   "source": [
    "def swapnum(a,b):\n",
    "    a,b=b,a\n",
    "    print(\"The swap numbers are: \", a,b)\n",
    "\n",
    "swapnum(1,2)"
   ]
  }
 ],
 "metadata": {
  "kernelspec": {
   "display_name": "Python 3 (ipykernel)",
   "language": "python",
   "name": "python3"
  },
  "language_info": {
   "codemirror_mode": {
    "name": "ipython",
    "version": 3
   },
   "file_extension": ".py",
   "mimetype": "text/x-python",
   "name": "python",
   "nbconvert_exporter": "python",
   "pygments_lexer": "ipython3",
   "version": "3.9.12"
  }
 },
 "nbformat": 4,
 "nbformat_minor": 5
}
