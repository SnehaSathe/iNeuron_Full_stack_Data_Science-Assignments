{
 "cells": [
  {
   "cell_type": "markdown",
   "id": "259023e0",
   "metadata": {},
   "source": [
    "# Programming Assignment 6 Solutions"
   ]
  },
  {
   "cell_type": "markdown",
   "id": "2f08723a",
   "metadata": {},
   "source": [
    "1. Write a Python Program to Display Fibonacci Sequence Using Recursion?"
   ]
  },
  {
   "cell_type": "code",
   "execution_count": 1,
   "id": "ebadceaa",
   "metadata": {},
   "outputs": [
    {
     "name": "stdout",
     "output_type": "stream",
     "text": [
      "Enter number of terms:10\n",
      "Fibonacci sequence:\n",
      "0 1 1 2 3 5 8 13 21 34 "
     ]
    }
   ],
   "source": [
    "def getFibonacci(n):\n",
    "     if(n <= 1):\n",
    "        return n\n",
    "     else:\n",
    "        return(getFibonacci(n-1) + getFibonacci(n-2))\n",
    "n = int(input(\"Enter number of terms:\"))\n",
    "print(\"Fibonacci sequence:\")\n",
    "for i in range(n):\n",
    "    print(getFibonacci(i) ,end=' ')"
   ]
  },
  {
   "cell_type": "markdown",
   "id": "652c1eb3",
   "metadata": {},
   "source": [
    "2. Write a Python Program to Find Factorial of Number Using Recursion?"
   ]
  },
  {
   "cell_type": "code",
   "execution_count": 2,
   "id": "44ab9e36",
   "metadata": {},
   "outputs": [
    {
     "name": "stdout",
     "output_type": "stream",
     "text": [
      "Enter a number: 7\n",
      "The Factorial of 7 is 5040\n"
     ]
    }
   ],
   "source": [
    "def factorial(num):\n",
    "    if (num < 1):\n",
    "        return 1\n",
    "    else:\n",
    "        return num*factorial(num-1)\n",
    "num = int(input('Enter a number: '))\n",
    "value = factorial(num)\n",
    "print(f'The Factorial of {num} is {value}')"
   ]
  },
  {
   "cell_type": "markdown",
   "id": "0f6e13c1",
   "metadata": {},
   "source": [
    "3. Write a Python Program to calculate your Body Mass Index?"
   ]
  },
  {
   "cell_type": "code",
   "execution_count": 3,
   "id": "62cd0f59",
   "metadata": {},
   "outputs": [
    {
     "name": "stdout",
     "output_type": "stream",
     "text": [
      "Enter your weight: 57\n",
      "Enter your Height: 167\n",
      "Your're BMI is 20.43816558499767 and status is Healthy \n"
     ]
    }
   ],
   "source": [
    "def body_massCalculator():\n",
    "    w=float(input(\"Enter your weight: \"))\n",
    "    h=float(input(\"Enter your Height: \"))\n",
    "    bmi = w / (h/100)**2\n",
    "    \n",
    "\n",
    "    if (bmi < 18.5):\n",
    "        report =  \"Underweight\"\n",
    "    elif (bmi >= 18.5 and bmi < 24.9):\n",
    "        report = \"Healthy\"\n",
    "    elif (bmi >= 24.9 and bmi < 30):\n",
    "        report =   'Overweight'\n",
    "    elif (bmi >=30):\n",
    "        report =  'Suffering from Obesity'\n",
    "    print(f'Your\\'re BMI is {bmi} and status is {report} ')\n",
    "body_massCalculator()"
   ]
  },
  {
   "cell_type": "markdown",
   "id": "3bf3f7ed",
   "metadata": {},
   "source": [
    "4. Write a Python Program to calculate the natural logarithm of any number?"
   ]
  },
  {
   "cell_type": "code",
   "execution_count": 4,
   "id": "71b4afaf",
   "metadata": {},
   "outputs": [
    {
     "name": "stdout",
     "output_type": "stream",
     "text": [
      "Enter a Number:24\n",
      "3.1780538303479458\n"
     ]
    }
   ],
   "source": [
    "import math\n",
    "def genNatLog():\n",
    "    in_num = eval(input(\"Enter a Number:\"))\n",
    "    print(math.log(in_num))\n",
    "\n",
    "genNatLog()"
   ]
  },
  {
   "cell_type": "markdown",
   "id": "641cbf63",
   "metadata": {},
   "source": [
    "5. Write a Python Program for cube sum of first n natural numbers?"
   ]
  },
  {
   "cell_type": "code",
   "execution_count": 5,
   "id": "89990715",
   "metadata": {},
   "outputs": [
    {
     "name": "stdout",
     "output_type": "stream",
     "text": [
      "Enter the no of Natural Numbers: 10\n",
      "The Cube Sum of First 10 Natural Numbers is 3025.0\n"
     ]
    }
   ],
   "source": [
    "def cubeOfNaturalNumbers():\n",
    "    num = int(input(\"Enter the no of Natural Numbers: \"))\n",
    "    result = pow(((num * (num +1))/2),2)\n",
    "    print(f'The Cube Sum of First {num} Natural Numbers is {result}')\n",
    "\n",
    "cubeOfNaturalNumbers()"
   ]
  }
 ],
 "metadata": {
  "kernelspec": {
   "display_name": "Python 3 (ipykernel)",
   "language": "python",
   "name": "python3"
  },
  "language_info": {
   "codemirror_mode": {
    "name": "ipython",
    "version": 3
   },
   "file_extension": ".py",
   "mimetype": "text/x-python",
   "name": "python",
   "nbconvert_exporter": "python",
   "pygments_lexer": "ipython3",
   "version": "3.9.12"
  }
 },
 "nbformat": 4,
 "nbformat_minor": 5
}
