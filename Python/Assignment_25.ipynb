{
 "cells": [
  {
   "cell_type": "markdown",
   "id": "74c7346b-c5fa-43e4-8baf-ca40326b6387",
   "metadata": {},
   "source": [
    "**Assignment 25 Solutions**"
   ]
  },
  {
   "cell_type": "markdown",
   "id": "d207e88d-5ab1-47b3-bc57-2658ab705c47",
   "metadata": {},
   "source": [
    "**1. What is the difference between enclosing a list comprehension in square brackets and\n",
    "parentheses?**"
   ]
  },
  {
   "cell_type": "markdown",
   "id": "3d0141b5-7c49-4917-bbb0-a8edb28b9f1c",
   "metadata": {},
   "source": [
    "**Ans:** Enclosing a list comprehension in square brackets returns a list.but where as enclosing a list comprehension in parentheses returns a generator object"
   ]
  },
  {
   "cell_type": "code",
   "execution_count": 1,
   "id": "b354ae5d-af44-42da-bf36-1702982a0163",
   "metadata": {},
   "outputs": [
    {
     "name": "stdout",
     "output_type": "stream",
     "text": [
      "[0, 1, 2, 3, 4, 5, 6, 7, 8, 9] <class 'list'>\n",
      "<generator object <genexpr> at 0x7fc75e157990> <class 'generator'>\n"
     ]
    }
   ],
   "source": [
    "l = [ele for ele in range(10)]\n",
    "print(l, type(l))\n",
    "g = (ele for ele in range(10))\n",
    "print(g, type(g))"
   ]
  },
  {
   "cell_type": "markdown",
   "id": "86f14c04-c1a3-4be2-bfe2-b876ababd963",
   "metadata": {},
   "source": [
    "**2. What is the relationship between generators and iterators?**"
   ]
  },
  {
   "cell_type": "markdown",
   "id": "972ccbae-d8b3-449a-8528-fe6999578d19",
   "metadata": {},
   "source": [
    "**Ans:** An iterator is an object which contains a countable number of values and it is used to iterate over iterable objects like list, tuples, sets, etc. Iterators are implemented using a class.<br>\n",
    "Similarly Generators are an another way of creating iterators in a simple way where it uses the keyword yield statement instead of return statement in a defined function.Generators are implemented using a function.<br>\n",
    "Iterators are objects that can be iterated on, and generators are special functions that leverage lazy evaluation. Implementing our own iterator means we must create an __iter__() and __next__() method, whereas a generator can be implemented using the yield keyword in a Python function or comprehension. "
   ]
  },
  {
   "cell_type": "code",
   "execution_count": 2,
   "id": "824d3c58-43b9-42eb-813a-547a6e0d471f",
   "metadata": {},
   "outputs": [
    {
     "name": "stdout",
     "output_type": "stream",
     "text": [
      "<class 'list_iterator'>\n",
      "iNeuron\n",
      "Full\n",
      "Stack\n",
      "Data Science\n",
      "<list_iterator object at 0x7fc75e0469b0>\n",
      "0\n",
      "1\n",
      "8\n",
      "27\n",
      "64\n"
     ]
    }
   ],
   "source": [
    "# Example of iterartor\n",
    "iter_str = iter(['iNeuron','Full','Stack','Data Science'])\n",
    "print(type(iter_str))\n",
    "print(next(iter_str))\n",
    "print(next(iter_str))\n",
    "print(next(iter_str))\n",
    "print(next(iter_str))\n",
    "print(iter_str) # After the iterable object is completed, to use them again we have reassign them to the same object.\n",
    "\n",
    "# Example of Generator\n",
    "def cube_numbers(in_num):\n",
    "    for ele in range(in_num+1):\n",
    "        yield ele**3\n",
    "\n",
    "num = cube_numbers(4)\n",
    "print(next(num))\n",
    "print(next(num))\n",
    "print(next(num))\n",
    "print(next(num))\n",
    "print(next(num))"
   ]
  },
  {
   "cell_type": "markdown",
   "id": "3220453a-5ef7-49fb-9a2d-a12b0dc47654",
   "metadata": {},
   "source": [
    "**3. What are the signs that a function is a generator function?**"
   ]
  },
  {
   "cell_type": "markdown",
   "id": "75dc9eb8-428a-4900-a793-ead47a03ab48",
   "metadata": {},
   "source": [
    "**Ans:** A generator function uses a yield statement instead of a return statement. A generator function will always return a iterable object called generator. where as a normal function can return a string/list/tuple/dict/NoneType ... etc"
   ]
  },
  {
   "cell_type": "markdown",
   "id": "8169f801-4083-4e84-b3d3-53b91e5d148c",
   "metadata": {},
   "source": [
    "**4. What is the purpose of a yield statement?**"
   ]
  },
  {
   "cell_type": "markdown",
   "id": "2a8f0a46-8088-4308-a4dc-6ca982b612b9",
   "metadata": {},
   "source": [
    "**Ans:** The yield statement suspends function’s execution and sends a value back to the caller, but retains enough state to enable function to resume where it is left off. When resumed, the function continues execution immediately after the last yield run. This allows its code to produce a series of values over time, rather than computing them at once and sending them back like a list."
   ]
  },
  {
   "cell_type": "markdown",
   "id": "eea725d8-ee7e-48e6-8593-ae1173740997",
   "metadata": {},
   "source": [
    "**5. What is the relationship between map calls and list comprehensions? Make a comparison and\n",
    "contrast between the two.**"
   ]
  },
  {
   "cell_type": "markdown",
   "id": "f5df992e-3a8c-4bd7-af37-1331ee1f593c",
   "metadata": {},
   "source": [
    "**Ans:** The main differences between map calls and list comprehensiosn are:\n",
    "\n",
    "List comprehension is more concise and easier to read as compared to map.<br>\n",
    "List comprehension allows filtering. In map, we have no such facility. For example, to print all odd numbers in range of 50, we can write [n for n in range(50) if n%2 != 0]. There is no alternate for it in map\n",
    "List comprehension are used when a list of results is required as final output.but map only returns a map object. it needs to be explicitly coverted to desired datatype.\n",
    "List comprehension is faster than map when we need to evaluate expressions that are too long or complicated to express\n",
    "Map is faster in case of calling an already defined function on a set of values."
   ]
  },
  {
   "cell_type": "code",
   "execution_count": null,
   "id": "517d23de-def0-4e35-801b-29c45b329b95",
   "metadata": {},
   "outputs": [],
   "source": []
  }
 ],
 "metadata": {
  "kernelspec": {
   "display_name": "Python 3 (ipykernel)",
   "language": "python",
   "name": "python3"
  },
  "language_info": {
   "codemirror_mode": {
    "name": "ipython",
    "version": 3
   },
   "file_extension": ".py",
   "mimetype": "text/x-python",
   "name": "python",
   "nbconvert_exporter": "python",
   "pygments_lexer": "ipython3",
   "version": "3.10.6"
  }
 },
 "nbformat": 4,
 "nbformat_minor": 5
}
