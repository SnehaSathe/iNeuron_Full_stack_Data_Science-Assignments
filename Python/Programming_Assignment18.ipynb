{
 "cells": [
  {
   "cell_type": "markdown",
   "id": "e1f418c5-c9c2-4a53-905f-9371f71b8258",
   "metadata": {},
   "source": [
    "**Programming Assignment 18 Solutions**"
   ]
  },
  {
   "cell_type": "markdown",
   "id": "e7a2d3ad-57c8-43ef-8339-83a3f4052119",
   "metadata": {},
   "source": [
    "**1.Create a function that takes a list of non-negative integers and strings and return a new list without the strings ?<br>**\n",
    "Examples:<br>\n",
    "filter_list([1, 2, \"a\", \"b\"]) ➞ [1, 2]<br>\n",
    "filter_list([1, \"a\", \"b\", 0, 15]) ➞ [1, 0, 15]<br>\n",
    "filter_list([1, 2, \"aasf\", \"1\", \"123\", 123]) ➞ [1, 2, 123]"
   ]
  },
  {
   "cell_type": "code",
   "execution_count": 1,
   "id": "a5cc4c51-eb0d-4e08-9a1a-623f4c66e39b",
   "metadata": {},
   "outputs": [
    {
     "name": "stdout",
     "output_type": "stream",
     "text": [
      "➞ [1, 2]\n",
      "➞ [1, 0, 15]\n",
      "➞ [1, 2, 123]\n"
     ]
    }
   ],
   "source": [
    "def filter_list(list):\n",
    "    out_string = []\n",
    "    for ele in list:\n",
    "        if type(ele) == int and ele >= 0:\n",
    "            out_string.append(ele)\n",
    "    return out_string\n",
    "            \n",
    "print(f'➞ {filter_list([1, 2, \"a\", \"b\"])}')\n",
    "print(f'➞ {filter_list([1, \"a\", \"b\", 0, 15])}')\n",
    "print(f'➞ {filter_list([1, 2, \"aasf\", \"1\", \"123\", 123])}')"
   ]
  },
  {
   "cell_type": "markdown",
   "id": "09e67458-1ec9-4723-892d-ac72fea283a7",
   "metadata": {},
   "source": [
    "**2. The \"Reverser\" takes a string as input and returns that string in reverse order, with the opposite case ?<br>**\n",
    "Examples:<br>\n",
    "reverse(\"Hello World\") ➞ \"DLROw OLLEh\"<br>\n",
    "reverse(\"ReVeRsE\") ➞ \"eSrEvEr\"<br>\n",
    "reverse(\"Radar\") ➞ \"RADAr\""
   ]
  },
  {
   "cell_type": "code",
   "execution_count": 2,
   "id": "f700c861-eaa4-4f50-8681-603318411570",
   "metadata": {},
   "outputs": [
    {
     "name": "stdout",
     "output_type": "stream",
     "text": [
      "Hello World ➞ DLROw OLLEh\n",
      "ReVeRsE ➞ eSrEvEr\n",
      "Radar ➞ RADAr\n"
     ]
    }
   ],
   "source": [
    "def reverse(in_string):\n",
    "    print(f'{in_string} ➞ {in_string[::-1].swapcase()}')\n",
    "    \n",
    "reverse('Hello World')\n",
    "reverse(\"ReVeRsE\")\n",
    "reverse(\"Radar\")"
   ]
  },
  {
   "cell_type": "markdown",
   "id": "6f20b7d7-7c62-4bd9-9cba-f6e0afa81686",
   "metadata": {},
   "source": [
    "**3.You can assign variables from lists like this:**<br>\n",
    "lst = [1, 2, 3, 4, 5, 6] first = lst[0] middle = lst[1:-1] last = lst[-1] print(first) ➞ outputs 1 print(middle) ➞ outputs [2, 3, 4, 5] print(last) ➞ outputs 6<br>\n",
    "With Python 3, you can assign variables from lists in a much more succinct way. Create variables first, middle and last from the given list using destructuring assignment\n",
    "(check the Resources tab for some examples), where:<br>\n",
    "first ➞ 1 middle ➞ [2, 3, 4, 5] last ➞ 6<br>\n",
    "Your task is to unpack the list writeyourcodehere into three variables, being first, middle, and last, with middle being everything in between the first and last element. Then print all three variables."
   ]
  },
  {
   "cell_type": "code",
   "execution_count": 3,
   "id": "5350d8c2-43a7-4ea5-8968-9f367cdeddc4",
   "metadata": {},
   "outputs": [
    {
     "name": "stdout",
     "output_type": "stream",
     "text": [
      "first ➞ 1\n",
      "middle ➞ [2, 3, 4, 5]\n",
      "last ➞ 6\n"
     ]
    }
   ],
   "source": [
    "first, *middle, last = [1,2,3,4,5,6]\n",
    "print(f'first ➞ {first}')\n",
    "print(f'middle ➞ {middle}')\n",
    "print(f'last ➞ {last}')"
   ]
  },
  {
   "cell_type": "markdown",
   "id": "091f28a2-da9d-43f8-889e-32c302a52c1c",
   "metadata": {},
   "source": [
    "**4.Write a function that calculates the factorial of a number recursively.<br>**\n",
    "Examples:<br>\n",
    "factorial(5) ➞ 120<br>\n",
    "factorial(3) ➞ 6<br>\n",
    "factorial(1) ➞ 1<br>\n",
    "factorial(0) ➞ 1"
   ]
  },
  {
   "cell_type": "code",
   "execution_count": 5,
   "id": "82cc4836-b9d3-4c18-af3e-8f6050b22053",
   "metadata": {},
   "outputs": [
    {
     "name": "stdout",
     "output_type": "stream",
     "text": [
      "factorial(5) ➞ 120\n",
      "factorial(3) ➞ 6\n",
      "factorial(1) ➞ 1\n",
      "factorial(0) ➞ 1\n"
     ]
    }
   ],
   "source": [
    "def factorial(n):\n",
    "    if n==0:\n",
    "        return 1\n",
    "    return n * factorial(n-1)\n",
    "\n",
    "print(f'factorial(5) ➞ {factorial(5)}')\n",
    "print(f'factorial(3) ➞ {factorial(3)}')\n",
    "print(f'factorial(1) ➞ {factorial(1)}')\n",
    "print(f'factorial(0) ➞ {factorial(0)}')"
   ]
  },
  {
   "cell_type": "markdown",
   "id": "e31faeea-c431-4872-84f8-12736136f755",
   "metadata": {},
   "source": [
    "**5.Write a function that moves all elements of one type to the end of the list.<br>**\n",
    "Examples:<br>\n",
    "move_to_end([1, 3, 2, 4, 4, 1], 1) ➞ [3, 2, 4, 4, 1, 1]<br>\n",
    " Move all the 1s to the end of the array.\n",
    "move_to_end([7, 8, 9, 1, 2, 3, 4], 9) ➞ [7, 8, 1, 2, 3, 4, 9]<br>\n",
    "move_to_end([\"a\", \"a\", \"a\", \"b\"], \"a\") ➞ [\"b\", \"a\", \"a\", \"a\"]"
   ]
  },
  {
   "cell_type": "code",
   "execution_count": 6,
   "id": "f4d4b179-203c-4f87-bfc1-915297380c2a",
   "metadata": {},
   "outputs": [
    {
     "name": "stdout",
     "output_type": "stream",
     "text": [
      "move_to_end([1, 3, 2, 4, 4, 1], 1) ➞ [3, 2, 4, 4, 1, 1]\n",
      "move_to_end([7, 8, 9, 1, 2, 3, 4], 9) ➞ [7, 8, 1, 2, 3, 4, 9]\n",
      "move_to_end([\"a\", \"a\", \"a\", \"b\"], \"a\") ➞ ['b', 'a', 'a', 'a']\n"
     ]
    }
   ],
   "source": [
    "def move_to_end(list,num):\n",
    "    first_end = []\n",
    "    second_end = []\n",
    "    for ele in list:\n",
    "        if ele == num:\n",
    "            second_end.append(ele)\n",
    "        else:\n",
    "            first_end.append(ele)\n",
    "    first_end.extend(second_end)\n",
    "    return first_end\n",
    "    \n",
    "print(f'move_to_end([1, 3, 2, 4, 4, 1], 1) ➞ {move_to_end([1, 3, 2, 4, 4, 1], 1)}')\n",
    "print(f'move_to_end([7, 8, 9, 1, 2, 3, 4], 9) ➞ {move_to_end([7, 8, 9, 1, 2, 3, 4], 9)}')\n",
    "print(f'move_to_end([\"a\", \"a\", \"a\", \"b\"], \"a\") ➞ {move_to_end([\"a\", \"a\", \"a\", \"b\"], \"a\")}')"
   ]
  }
 ],
 "metadata": {
  "kernelspec": {
   "display_name": "Python 3 (ipykernel)",
   "language": "python",
   "name": "python3"
  },
  "language_info": {
   "codemirror_mode": {
    "name": "ipython",
    "version": 3
   },
   "file_extension": ".py",
   "mimetype": "text/x-python",
   "name": "python",
   "nbconvert_exporter": "python",
   "pygments_lexer": "ipython3",
   "version": "3.10.6"
  }
 },
 "nbformat": 4,
 "nbformat_minor": 5
}
