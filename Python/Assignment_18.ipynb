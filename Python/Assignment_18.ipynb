{
 "cells": [
  {
   "cell_type": "markdown",
   "id": "087da5ed-1d86-44d3-8474-00a3630618af",
   "metadata": {},
   "source": [
    "**Assignment 18 Solutions**"
   ]
  },
  {
   "cell_type": "markdown",
   "id": "53f53b0e-90ce-4dab-91bb-2823ef93d574",
   "metadata": {},
   "source": [
    "**1. Create a zoo.py file first. Define the hours() function, which prints the string 'Open 9-5 daily'. Then, use the interactive interpreter to import the zoo module and call its hours() function.**"
   ]
  },
  {
   "cell_type": "code",
   "execution_count": 1,
   "id": "12c65bf8-71ed-447b-bff7-f3d7dd3618fa",
   "metadata": {},
   "outputs": [
    {
     "name": "stdout",
     "output_type": "stream",
     "text": [
      "Open 9-5 daily\n"
     ]
    }
   ],
   "source": [
    "import zoo\n",
    "zoo.hours()"
   ]
  },
  {
   "cell_type": "markdown",
   "id": "9fcc2c42-917f-49cb-b414-af391c1f0215",
   "metadata": {},
   "source": [
    "**2. In the interactive interpreter, import the zoo module as menagerie and call its hours() function.**"
   ]
  },
  {
   "cell_type": "code",
   "execution_count": 2,
   "id": "b03cf97e-9849-478d-bbe5-fcc30687c20a",
   "metadata": {},
   "outputs": [
    {
     "name": "stdout",
     "output_type": "stream",
     "text": [
      "Open 9-5 daily\n"
     ]
    }
   ],
   "source": [
    "import zoo as menagerie\n",
    "menagerie.hours()"
   ]
  },
  {
   "cell_type": "markdown",
   "id": "abc5c852-939b-4265-90f9-0cf7c27f4528",
   "metadata": {},
   "source": [
    "**3. Using the interpreter, explicitly import and call the hours() function from zoo.**"
   ]
  },
  {
   "cell_type": "code",
   "execution_count": 3,
   "id": "22ca8b94-bb00-42e1-b3c6-d0685ebc918e",
   "metadata": {},
   "outputs": [
    {
     "name": "stdout",
     "output_type": "stream",
     "text": [
      "Open 9-5 daily\n"
     ]
    }
   ],
   "source": [
    "from zoo import hours\n",
    "hours()"
   ]
  },
  {
   "cell_type": "markdown",
   "id": "0a0bfce3-2417-4837-9c29-df53deed08da",
   "metadata": {},
   "source": [
    "**4. Import the hours() function as info and call it.**"
   ]
  },
  {
   "cell_type": "code",
   "execution_count": 4,
   "id": "bf497d07-59a0-4da3-a223-73a249284b0b",
   "metadata": {},
   "outputs": [
    {
     "name": "stdout",
     "output_type": "stream",
     "text": [
      "Open 9-5 daily\n"
     ]
    }
   ],
   "source": [
    "from zoo import hours as info\n",
    "info()"
   ]
  },
  {
   "cell_type": "markdown",
   "id": "22175ac3-074a-48d9-a1f0-36701b5121be",
   "metadata": {},
   "source": [
    "**5. Create a plain dictionary with the key-value pairs 'a': 1, 'b': 2, and 'c': 3, and print it out.**"
   ]
  },
  {
   "cell_type": "code",
   "execution_count": 5,
   "id": "8db4e100-5485-461c-9276-349a98685b55",
   "metadata": {},
   "outputs": [
    {
     "name": "stdout",
     "output_type": "stream",
     "text": [
      "{'a': 1, 'b': 2, 'c': 3}\n"
     ]
    }
   ],
   "source": [
    "plain_dict = {'a':1,'b':2,'c':3}\n",
    "print(plain_dict)"
   ]
  },
  {
   "cell_type": "markdown",
   "id": "36966f70-3637-445f-b4d1-9e83af8925ce",
   "metadata": {},
   "source": [
    "**6.Make an OrderedDict called fancy from the same pairs listed in 5 and print it. Did it print in the same order as plain?**"
   ]
  },
  {
   "cell_type": "code",
   "execution_count": 6,
   "id": "d0e6ebe8-d236-4a89-9a88-8697909a5e6e",
   "metadata": {},
   "outputs": [
    {
     "name": "stdout",
     "output_type": "stream",
     "text": [
      "plain_dict -> {'a': 1, 'b': 2, 'c': 3}\n",
      "fancy -> OrderedDict([('a', 1), ('b', 2), ('c', 3)])\n"
     ]
    }
   ],
   "source": [
    "from collections import OrderedDict\n",
    "fancy = OrderedDict(plain_dict)\n",
    "print(f'plain_dict -> {plain_dict}')\n",
    "print(f'fancy -> {fancy}')"
   ]
  },
  {
   "cell_type": "markdown",
   "id": "4a8dfbf6-5cc8-4413-a371-b31aa1f3784f",
   "metadata": {},
   "source": [
    "**7. Make a default dictionary called dict_of_lists and pass it the argument list. Make the list dict_of_lists['a'] and append the value 'something for a' to it in one assignment. Print dict_of_lists['a'].**"
   ]
  },
  {
   "cell_type": "code",
   "execution_count": 7,
   "id": "30215a4f-b6bf-449e-b464-ea30458e6e52",
   "metadata": {},
   "outputs": [
    {
     "name": "stdout",
     "output_type": "stream",
     "text": [
      "['something for a']\n"
     ]
    }
   ],
   "source": [
    "from collections import defaultdict\n",
    "dict_of_lists = defaultdict(list)\n",
    "dict_of_lists['a'].append('something for a')\n",
    "print(dict_of_lists['a'])"
   ]
  }
 ],
 "metadata": {
  "kernelspec": {
   "display_name": "Python 3 (ipykernel)",
   "language": "python",
   "name": "python3"
  },
  "language_info": {
   "codemirror_mode": {
    "name": "ipython",
    "version": 3
   },
   "file_extension": ".py",
   "mimetype": "text/x-python",
   "name": "python",
   "nbconvert_exporter": "python",
   "pygments_lexer": "ipython3",
   "version": "3.10.6"
  }
 },
 "nbformat": 4,
 "nbformat_minor": 5
}
