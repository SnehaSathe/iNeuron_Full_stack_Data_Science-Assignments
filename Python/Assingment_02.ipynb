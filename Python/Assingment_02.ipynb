{
 "cells": [
  {
   "cell_type": "markdown",
   "id": "7538399b",
   "metadata": {},
   "source": [
    "# Assignment 2 Solutions"
   ]
  },
  {
   "cell_type": "markdown",
   "id": "c8520528",
   "metadata": {},
   "source": [
    "1.What are the two values of the Boolean data type? How do you write them?"
   ]
  },
  {
   "cell_type": "markdown",
   "id": "99dc0f19",
   "metadata": {},
   "source": [
    "Ans: True and False are two values of the boolean data types, using capital T and F with the rest of word in lowercase,"
   ]
  },
  {
   "cell_type": "markdown",
   "id": "278d13ba",
   "metadata": {},
   "source": [
    "2. What are the three different types of Boolean operators?"
   ]
  },
  {
   "cell_type": "markdown",
   "id": "5cfab3af",
   "metadata": {},
   "source": [
    "Ans: Three types of booelan operators are: and, or, not"
   ]
  },
  {
   "cell_type": "markdown",
   "id": "4bf39d62",
   "metadata": {},
   "source": [
    "3. Make a list of each Boolean operators truth tables (i.e. every possible combination of Boolean\n",
    "values for the operator and what it evaluate )."
   ]
  },
  {
   "cell_type": "code",
   "execution_count": null,
   "id": "900e8a9b",
   "metadata": {},
   "outputs": [],
   "source": [
    "Truth Table for and Operator \n",
    "\n",
    "operatorA         OperatorB     AND result\n",
    "True        and    True          True\n",
    "True        and    False         False\n",
    "False       and    True          False\n",
    "False       and    False         False\n",
    "\n",
    "Truth Table for or Operator\n",
    "\n",
    "operatorA         OperatorB     OR result\n",
    "True        or    True          True\n",
    "True        or    False         True\n",
    "False       or    True          True\n",
    "False       or    False         False\n",
    "\n",
    "Truth table for not oprator\n",
    "Operator A     NOT result\n",
    "True           False\n",
    "False          True"
   ]
  },
  {
   "cell_type": "markdown",
   "id": "a0da8154",
   "metadata": {},
   "source": [
    "4. What are the values of the following expressions?\n",
    "(5 > 4) and (3 == 5)\n",
    "not (5 > 4)\n",
    "(5 > 4) or (3 == 5)\n",
    "not ((5 > 4) or (3 == 5))\n",
    "(True and True) and (True == False)\n",
    "(not False) or (not True)"
   ]
  },
  {
   "cell_type": "code",
   "execution_count": 2,
   "id": "1a2babb0",
   "metadata": {},
   "outputs": [
    {
     "name": "stdout",
     "output_type": "stream",
     "text": [
      "False\n",
      "False\n",
      "True\n",
      "False\n",
      "False\n",
      "True\n"
     ]
    }
   ],
   "source": [
    "print((5 > 4) and (3 == 5))\n",
    "print(not (5 > 4))\n",
    "print((5 > 4) or (3 == 5))\n",
    "print(not ((5 > 4) or (3 == 5)))\n",
    "print((True and True) and (True == False))\n",
    "print((not False) or (not True))"
   ]
  },
  {
   "cell_type": "markdown",
   "id": "4fdf5704",
   "metadata": {},
   "source": [
    "5. What are the six comparison operators?"
   ]
  },
  {
   "cell_type": "code",
   "execution_count": null,
   "id": "c414469e",
   "metadata": {},
   "outputs": [],
   "source": [
    "Ans: The six comparison operator in python are:\n",
    "== , !=, >, <, <=, =>"
   ]
  },
  {
   "cell_type": "markdown",
   "id": "c7f6e184",
   "metadata": {},
   "source": [
    "6. How do you tell the difference between the equal to and assignment operators?Describe a\n",
    "condition and when you would use one."
   ]
  },
  {
   "cell_type": "markdown",
   "id": "22e5d86a",
   "metadata": {},
   "source": [
    "Ans: == is equal to operator that compare the two values and evaluates to a boolean, and = is assignment operator that store a value in variable"
   ]
  },
  {
   "cell_type": "code",
   "execution_count": null,
   "id": "8afdf49e",
   "metadata": {},
   "outputs": [],
   "source": [
    "a=2              #assigning the value 2 that store in a variable \n",
    "print(a==2)      # comparing the values of variable and value 2"
   ]
  },
  {
   "cell_type": "markdown",
   "id": "1506e988",
   "metadata": {},
   "source": [
    "7. Identify the three blocks in this code:\n"
   ]
  },
  {
   "cell_type": "code",
   "execution_count": null,
   "id": "2c196e52",
   "metadata": {},
   "outputs": [],
   "source": [
    "spam = 0\n",
    "if spam == 10:      #block 1\n",
    "    print('eggs')\n",
    "if spam > 5:        #block 2\n",
    "    print('bacon')\n",
    "else:               #block 3\n",
    "    print('ham')\n",
    "    print('spam')\n",
    "    print('spam')"
   ]
  },
  {
   "cell_type": "markdown",
   "id": "92456a23",
   "metadata": {},
   "source": [
    "8. Write code that prints Hello if 1 is stored in spam, prints Howdy if 2 is stored in spam, and prints\n",
    "Greetings! if anything else is stored in spam."
   ]
  },
  {
   "cell_type": "code",
   "execution_count": 5,
   "id": "eed05daa",
   "metadata": {},
   "outputs": [
    {
     "name": "stdout",
     "output_type": "stream",
     "text": [
      "Hello\n",
      "Howdy\n",
      "Greeting!\n"
     ]
    }
   ],
   "source": [
    "def spamcheck(spam):\n",
    "    if spam==1:\n",
    "        print('Hello')\n",
    "    elif spam==2:\n",
    "        print('Howdy')\n",
    "    else:\n",
    "        print('Greeting!')\n",
    "        \n",
    "\n",
    "spamcheck(1)\n",
    "spamcheck(2)\n",
    "spamcheck(5)"
   ]
  },
  {
   "cell_type": "markdown",
   "id": "e8b69c72",
   "metadata": {},
   "source": [
    "9.If your programme is stuck in an endless loop, what keys you’ll press?"
   ]
  },
  {
   "cell_type": "markdown",
   "id": "2a3e8700",
   "metadata": {},
   "source": [
    "Ans: Press ctrl-c to stop the program stuck in endless loop."
   ]
  },
  {
   "cell_type": "markdown",
   "id": "ee88d670",
   "metadata": {},
   "source": [
    "10. How can you tell the difference between break and continue?"
   ]
  },
  {
   "cell_type": "markdown",
   "id": "33fbfa71",
   "metadata": {},
   "source": [
    "Ans: The break statement is used to terminate the loop immediately when it is encountered.\n",
    "The continue statement is used to skip the current iteration of the loop and the control flow of the program goes to the next iteration."
   ]
  },
  {
   "cell_type": "markdown",
   "id": "ba272af2",
   "metadata": {},
   "source": [
    "11. In a for loop, what is the difference between range(10), range(0, 10), and range(0, 10, 1)?"
   ]
  },
  {
   "cell_type": "code",
   "execution_count": null,
   "id": "c9f85734",
   "metadata": {},
   "outputs": [],
   "source": [
    "Ans: The differences in for loop are:\n",
    "range(10): return a sequence number starting from default 0 to 9, but not including a number that provided as has stop 10.\n",
    "range(0, 10): return a sequence number start from 0 as provided start number and stop at 9.\n",
    "range(0,10,1): return a seqeunce number starting from 0 to 9, increase the variable by 1 on each iteration"
   ]
  },
  {
   "cell_type": "markdown",
   "id": "f1707d3e",
   "metadata": {},
   "source": [
    "12. Write a short program that prints the numbers 1 to 10 using a for loop. Then write an equivalent\n",
    "program that prints the numbers 1 to 10 using a while loop."
   ]
  },
  {
   "cell_type": "code",
   "execution_count": 7,
   "id": "c7893480",
   "metadata": {},
   "outputs": [
    {
     "name": "stdout",
     "output_type": "stream",
     "text": [
      "********** Using For loop **********\n",
      "1 2 3 4 5 6 7 8 9 10 \n",
      "\n",
      "********** Using For loop **********\n",
      "1 2 3 4 5 6 7 8 9 10 "
     ]
    }
   ],
   "source": [
    "print('*'*10, \"Using For loop\",'*'*10)\n",
    "for i in range(1,11):\n",
    "    print(i, end=\" \")\n",
    "\n",
    "print('\\n')\n",
    "print('*'*10, \"Using For loop\",'*'*10)\n",
    "\n",
    "i=1\n",
    "while i<=10:\n",
    "    print(i, end=\" \")\n",
    "    i+=1"
   ]
  },
  {
   "cell_type": "markdown",
   "id": "a17dcdf3",
   "metadata": {},
   "source": [
    "13. If you had a function named bacon() inside a module named spam, how would you call it after\n",
    "importing spam?"
   ]
  },
  {
   "cell_type": "markdown",
   "id": "b5cce5b7",
   "metadata": {},
   "source": [
    "Ans: The function can be call with spam.bacon()"
   ]
  }
 ],
 "metadata": {
  "kernelspec": {
   "display_name": "Python 3 (ipykernel)",
   "language": "python",
   "name": "python3"
  },
  "language_info": {
   "codemirror_mode": {
    "name": "ipython",
    "version": 3
   },
   "file_extension": ".py",
   "mimetype": "text/x-python",
   "name": "python",
   "nbconvert_exporter": "python",
   "pygments_lexer": "ipython3",
   "version": "3.9.12"
  }
 },
 "nbformat": 4,
 "nbformat_minor": 5
}
