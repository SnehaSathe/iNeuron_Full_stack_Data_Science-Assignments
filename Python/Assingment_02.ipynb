{
 "cells": [
  {
   "cell_type": "markdown",
   "id": "2e42197b",
   "metadata": {},
   "source": [
    "# Assignment 2 Solutions"
   ]
  },
  {
   "cell_type": "markdown",
   "id": "6903b132",
   "metadata": {},
   "source": [
    "1.What are the two values of the Boolean data type? How do you write them?"
   ]
  },
  {
   "cell_type": "markdown",
   "id": "3c01d160",
   "metadata": {},
   "source": [
    "Ans: True and False are two values of the boolean data types, using capital T and F with the rest of word in lowercase,"
   ]
  },
  {
   "cell_type": "markdown",
   "id": "f39e81c3",
   "metadata": {},
   "source": [
    "2. What are the three different types of Boolean operators?"
   ]
  },
  {
   "cell_type": "markdown",
   "id": "c12d7142",
   "metadata": {},
   "source": [
    "Ans: Three types of booelan operators are: and, or, not"
   ]
  },
  {
   "cell_type": "markdown",
   "id": "d147648c",
   "metadata": {},
   "source": [
    "3. Make a list of each Boolean operators truth tables (i.e. every possible combination of Boolean\n",
    "values for the operator and what it evaluate )."
   ]
  },
  {
   "cell_type": "code",
   "execution_count": null,
   "id": "91da397e",
   "metadata": {},
   "outputs": [],
   "source": [
    "Truth Table for and Operator \n",
    "\n",
    "operatorA         OperatorB     AND result\n",
    "True        and    True          True\n",
    "True        and    False         False\n",
    "False       and    True          False\n",
    "False       and    False         False\n",
    "\n",
    "Truth Table for or Operator\n",
    "\n",
    "operatorA         OperatorB     OR result\n",
    "True        or    True          True\n",
    "True        or    False         True\n",
    "False       or    True          True\n",
    "False       or    False         False\n",
    "\n",
    "Truth table for not oprator\n",
    "Operator A     NOT result\n",
    "True           False\n",
    "False          True"
   ]
  },
  {
   "cell_type": "markdown",
   "id": "2ce6f079",
   "metadata": {},
   "source": [
    "4. What are the values of the following expressions?\n",
    "(5 > 4) and (3 == 5)\n",
    "not (5 > 4)\n",
    "(5 > 4) or (3 == 5)\n",
    "not ((5 > 4) or (3 == 5))\n",
    "(True and True) and (True == False)\n",
    "(not False) or (not True)"
   ]
  },
  {
   "cell_type": "code",
   "execution_count": 2,
   "id": "38a97328",
   "metadata": {},
   "outputs": [
    {
     "name": "stdout",
     "output_type": "stream",
     "text": [
      "False\n",
      "False\n",
      "True\n",
      "False\n",
      "False\n",
      "True\n"
     ]
    }
   ],
   "source": [
    "print((5 > 4) and (3 == 5))\n",
    "print(not (5 > 4))\n",
    "print((5 > 4) or (3 == 5))\n",
    "print(not ((5 > 4) or (3 == 5)))\n",
    "print((True and True) and (True == False))\n",
    "print((not False) or (not True))"
   ]
  },
  {
   "cell_type": "markdown",
   "id": "00484c5e",
   "metadata": {},
   "source": [
    "5. What are the six comparison operators?"
   ]
  },
  {
   "cell_type": "code",
   "execution_count": null,
   "id": "dcefabd0",
   "metadata": {},
   "outputs": [],
   "source": [
    "Ans: The six comparison operator in python are:\n",
    "== , !=, >, <, <=, =>"
   ]
  },
  {
   "cell_type": "markdown",
   "id": "408b5c82",
   "metadata": {},
   "source": [
    "6. How do you tell the difference between the equal to and assignment operators?Describe a\n",
    "condition and when you would use one."
   ]
  },
  {
   "cell_type": "markdown",
   "id": "19ac7294",
   "metadata": {},
   "source": [
    "Ans: == is equal to operator that compare the two values and evaluates to a boolean, and = is assignment operator that store a value in variable"
   ]
  },
  {
   "cell_type": "code",
   "execution_count": null,
   "id": "3902e1e7",
   "metadata": {},
   "outputs": [],
   "source": [
    "a=2              #assigning the value 2 that store in a variable \n",
    "print(a==2)      # comparing the values of variable and value 2"
   ]
  },
  {
   "cell_type": "markdown",
   "id": "71f7f467",
   "metadata": {},
   "source": [
    "7. Identify the three blocks in this code:\n"
   ]
  },
  {
   "cell_type": "code",
   "execution_count": null,
   "id": "cc86e4e6",
   "metadata": {},
   "outputs": [],
   "source": [
    "spam = 0\n",
    "if spam == 10:      #block 1\n",
    "    print('eggs')\n",
    "if spam > 5:        #block 2\n",
    "    print('bacon')\n",
    "else:               #block 3\n",
    "    print('ham')\n",
    "    print('spam')\n",
    "    print('spam')"
   ]
  },
  {
   "cell_type": "markdown",
   "id": "6a133b29",
   "metadata": {},
   "source": [
    "8. Write code that prints Hello if 1 is stored in spam, prints Howdy if 2 is stored in spam, and prints\n",
    "Greetings! if anything else is stored in spam."
   ]
  },
  {
   "cell_type": "code",
   "execution_count": 5,
   "id": "fef110f9",
   "metadata": {},
   "outputs": [
    {
     "name": "stdout",
     "output_type": "stream",
     "text": [
      "Hello\n",
      "Howdy\n",
      "Greeting!\n"
     ]
    }
   ],
   "source": [
    "def spamcheck(spam):\n",
    "    if spam==1:\n",
    "        print('Hello')\n",
    "    elif spam==2:\n",
    "        print('Howdy')\n",
    "    else:\n",
    "        print('Greeting!')\n",
    "        \n",
    "\n",
    "spamcheck(1)\n",
    "spamcheck(2)\n",
    "spamcheck(5)"
   ]
  },
  {
   "cell_type": "markdown",
   "id": "18e7417f",
   "metadata": {},
   "source": [
    "9.If your programme is stuck in an endless loop, what keys you’ll press?"
   ]
  },
  {
   "cell_type": "markdown",
   "id": "79708420",
   "metadata": {},
   "source": [
    "Ans: Press ctrl-c to stop the program stuck in endless loop."
   ]
  },
  {
   "cell_type": "markdown",
   "id": "949c9ecc",
   "metadata": {},
   "source": [
    "10. How can you tell the difference between break and continue?"
   ]
  },
  {
   "cell_type": "markdown",
   "id": "6443f0d4",
   "metadata": {},
   "source": [
    "Ans: The break statement is used to terminate the loop immediately when it is encountered.\n",
    "The continue statement is used to skip the current iteration of the loop and the control flow of the program goes to the next iteration."
   ]
  },
  {
   "cell_type": "markdown",
   "id": "3d063949",
   "metadata": {},
   "source": [
    "11. In a for loop, what is the difference between range(10), range(0, 10), and range(0, 10, 1)?"
   ]
  },
  {
   "cell_type": "raw",
   "id": "b1b0cc14",
   "metadata": {},
   "source": [
    "Ans: The differences in for loop are:\n",
    "range(10): return a sequence number starting from default 0 to 9, but not including a number that provided as has stop 10.\n",
    "range(0, 10): return a sequence number start from 0 as provided start number and stop at 9.\n",
    "range(0,10,1): return a seqeunce number starting from 0 to 9, increase the variable by 1 on each iteration"
   ]
  },
  {
   "cell_type": "markdown",
   "id": "12a97124",
   "metadata": {},
   "source": [
    "12. Write a short program that prints the numbers 1 to 10 using a for loop. Then write an equivalent\n",
    "program that prints the numbers 1 to 10 using a while loop."
   ]
  },
  {
   "cell_type": "code",
   "execution_count": 7,
   "id": "3a1694b1",
   "metadata": {},
   "outputs": [
    {
     "name": "stdout",
     "output_type": "stream",
     "text": [
      "********** Using For loop **********\n",
      "1 2 3 4 5 6 7 8 9 10 \n",
      "\n",
      "********** Using For loop **********\n",
      "1 2 3 4 5 6 7 8 9 10 "
     ]
    }
   ],
   "source": [
    "print('*'*10, \"Using For loop\",'*'*10)\n",
    "for i in range(1,11):\n",
    "    print(i, end=\" \")\n",
    "\n",
    "print('\\n')\n",
    "print('*'*10, \"Using For loop\",'*'*10)\n",
    "\n",
    "i=1\n",
    "while i<=10:\n",
    "    print(i, end=\" \")\n",
    "    i+=1"
   ]
  },
  {
   "cell_type": "markdown",
   "id": "3d3ed4ac",
   "metadata": {},
   "source": [
    "13. If you had a function named bacon() inside a module named spam, how would you call it after\n",
    "importing spam?"
   ]
  },
  {
   "cell_type": "markdown",
   "id": "ff309127",
   "metadata": {},
   "source": [
    "Ans: The function can be call with spam.bacon()"
   ]
  }
 ],
 "metadata": {
  "kernelspec": {
   "display_name": "Python 3 (ipykernel)",
   "language": "python",
   "name": "python3"
  },
  "language_info": {
   "codemirror_mode": {
    "name": "ipython",
    "version": 3
   },
   "file_extension": ".py",
   "mimetype": "text/x-python",
   "name": "python",
   "nbconvert_exporter": "python",
   "pygments_lexer": "ipython3",
   "version": "3.9.12"
  }
 },
 "nbformat": 4,
 "nbformat_minor": 5
}
