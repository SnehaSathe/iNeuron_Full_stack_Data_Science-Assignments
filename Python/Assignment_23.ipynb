{
 "cells": [
  {
   "cell_type": "markdown",
   "id": "1a4fb398-9f38-44e3-bf16-aa89f98db878",
   "metadata": {},
   "source": [
    "**Assignment 23 Solutions**"
   ]
  },
  {
   "cell_type": "markdown",
   "id": "de78c434-e2f2-4156-b9fc-515ab16a4bd9",
   "metadata": {},
   "source": [
    "**1. What is the result of the code, and why?**<br>\n",
    "&gt;&gt;&gt; def func(a, b=6, c=8):<br>\n",
    "print(a, b, c)<br>\n",
    "&gt;&gt;&gt; func(1, 2)"
   ]
  },
  {
   "cell_type": "markdown",
   "id": "4bc62a68-0186-4c54-92b8-6f61df2ea52f",
   "metadata": {},
   "source": [
    "**Ans:** The result of the above code is 1 2 8. its because the function uses the default value of c ie 8 which is provided at the time of declaration and take b as 2 which is a parameter given in function call."
   ]
  },
  {
   "cell_type": "code",
   "execution_count": 2,
   "id": "cee102cc-ead8-4dc2-9488-cd3093cef02e",
   "metadata": {},
   "outputs": [
    {
     "name": "stdout",
     "output_type": "stream",
     "text": [
      "1 2 8\n"
     ]
    }
   ],
   "source": [
    "def func(a, b=6, c=8):\n",
    "    print(a, b, c)\n",
    "func(1, 2)"
   ]
  },
  {
   "cell_type": "markdown",
   "id": "420f4a42-0553-48fe-8049-e2f7e0d97be4",
   "metadata": {},
   "source": [
    "**2. What is the result of this code, and why?**<br>\n",
    "&gt;&gt;&gt; def func(a, b, c=5):<br>\n",
    "print(a, b, c)<br>\n",
    "&gt;&gt;&gt; func(1, c=3, b=2)"
   ]
  },
  {
   "cell_type": "markdown",
   "id": "76cc3144-bc6b-4b7a-a338-c05e435801b5",
   "metadata": {},
   "source": [
    "**Ans**: The result of the above code is 1 2 3. it is because the function will use default values only when a value for a argument is not provided and if argument name is mentioned while doing a function call, the order of arguments is also ignored by the python interpreter"
   ]
  },
  {
   "cell_type": "code",
   "execution_count": 3,
   "id": "07cea07c-46ed-43d0-b1d9-b1c60470cd16",
   "metadata": {},
   "outputs": [
    {
     "name": "stdout",
     "output_type": "stream",
     "text": [
      "1 2 3\n"
     ]
    }
   ],
   "source": [
    "def func(a, b, c=5):\n",
    "    print(a, b, c)\n",
    "func(1, c=3, b=2)"
   ]
  },
  {
   "cell_type": "markdown",
   "id": "df98c344-cdee-4d77-ac1b-b68a12ab9816",
   "metadata": {},
   "source": [
    "**3. How about this code: what is its result, and why?**<br>\n",
    "&gt;&gt;&gt; def func(a, *pargs):<br>\n",
    "print(a, pargs)<br>\n",
    "&gt;&gt;&gt; func(1, 2, 3)"
   ]
  },
  {
   "cell_type": "markdown",
   "id": "da237bcb-5bbb-4500-a377-df71baf6ae8e",
   "metadata": {},
   "source": [
    "**Ans:** The result of the code is 1 (2,3). *pargs stands for variable length arguments. this format is used when we are not sure about the no of arguments to be passed to a function. all the values under this argument will be stored in a tuple."
   ]
  },
  {
   "cell_type": "code",
   "execution_count": 4,
   "id": "0ed5fc36-8ebb-4a27-b2df-55c81bcfb5c3",
   "metadata": {},
   "outputs": [
    {
     "name": "stdout",
     "output_type": "stream",
     "text": [
      "1 (2, 3)\n"
     ]
    }
   ],
   "source": [
    "def func(a, *pargs):\n",
    "    print(a, pargs)\n",
    "func(1, 2, 3)"
   ]
  },
  {
   "cell_type": "markdown",
   "id": "2f3e36b8-78d8-4ca1-826e-a0aa27358ca4",
   "metadata": {},
   "source": [
    "**4. What does this code print, and why?**<br>\n",
    "&gt;&gt;&gt; def func(a, **kargs):<br>\n",
    "print(a, kargs)<br>\n",
    "&gt;&gt;&gt; func(a=1, c=3, b=2)"
   ]
  },
  {
   "cell_type": "markdown",
   "id": "ee357827-11dc-43c5-a7f6-83c0d35fa92c",
   "metadata": {},
   "source": [
    "**Ans:** The result of the above code is 1 {'c': 3, 'b': 2}. **args stands for variable length keyword arguments. this format is used when we want pass key value pairs as input to a function. All these key value pairs will be stored in a dictionary"
   ]
  },
  {
   "cell_type": "code",
   "execution_count": 5,
   "id": "23687990-293a-4278-87c0-1a52f9a542bf",
   "metadata": {},
   "outputs": [
    {
     "name": "stdout",
     "output_type": "stream",
     "text": [
      "1 {'c': 3, 'b': 2}\n"
     ]
    }
   ],
   "source": [
    "def func(a, **kargs):\n",
    "    print(a, kargs)\n",
    "func(a=1, c=3, b=2)"
   ]
  },
  {
   "cell_type": "markdown",
   "id": "3900ec41-4eed-49b2-a2e5-b737f77108d3",
   "metadata": {},
   "source": [
    "**5. What gets printed by this, and explain?**<br>\n",
    "&gt;&gt;&gt; def func(a, b, c=8, d=5): <br>print(a, b, c, d)<br>\n",
    "&gt;&gt;&gt; func(1, *(5, 6))"
   ]
  },
  {
   "cell_type": "markdown",
   "id": "4495a284-1b2d-4e87-a0a0-c310929ea262",
   "metadata": {},
   "source": [
    "**Ans:** The output of the above is 1 5 6 5. This reason for this function not throwing an error is because, this function expects 4 arguments. the value for a is provided explicitly whereas for arguments b and c, the function will expand the *(5,6) and consider the value of b as 5 and value of c as 6. since the default value of d is provided in function declaration d value will be 5. However it is recommended to use the feature of positional arguments at the end."
   ]
  },
  {
   "cell_type": "code",
   "execution_count": 6,
   "id": "ea72f9e9-7afe-43c8-a603-39bd107b3d70",
   "metadata": {},
   "outputs": [
    {
     "name": "stdout",
     "output_type": "stream",
     "text": [
      "1 5 6 5\n"
     ]
    }
   ],
   "source": [
    "def func(a, b, c=8, d=5):\n",
    "    print(a, b, c, d)\n",
    "func(1, *(5, 6))"
   ]
  },
  {
   "cell_type": "markdown",
   "id": "6c168d89-8ec9-4743-8f0b-455a3eccf135",
   "metadata": {},
   "source": [
    "**6. what is the result of this, and explain?**<br>\n",
    "&gt;&gt;&gt; def func(a, b, c): a = 2; b[0] = &#39;x&#39;; c[&#39;a&#39;] = &#39;y&#39;<br>\n",
    "&gt;&gt;&gt; l=1; m=[1]; n={&#39;a&#39;:0}<br>\n",
    "&gt;&gt;&gt; func(l, m, n)<br>\n",
    "\n",
    "&gt;&gt;&gt; l, m, n"
   ]
  },
  {
   "cell_type": "code",
   "execution_count": 8,
   "id": "846b495f-e9cf-447a-8c1e-0055f5eca774",
   "metadata": {},
   "outputs": [
    {
     "data": {
      "text/plain": [
       "(1, ['x'], {'a': 'y'})"
      ]
     },
     "execution_count": 8,
     "metadata": {},
     "output_type": "execute_result"
    }
   ],
   "source": [
    "def func(a, b, c): \n",
    "    a = 2; b[0] = 'x'; c['a'] = 'y'\n",
    "l=1; m=[1]; n={'a':0}\n",
    "func(l, m, n)\n",
    "\n",
    "l, m, n"
   ]
  }
 ],
 "metadata": {
  "kernelspec": {
   "display_name": "Python 3 (ipykernel)",
   "language": "python",
   "name": "python3"
  },
  "language_info": {
   "codemirror_mode": {
    "name": "ipython",
    "version": 3
   },
   "file_extension": ".py",
   "mimetype": "text/x-python",
   "name": "python",
   "nbconvert_exporter": "python",
   "pygments_lexer": "ipython3",
   "version": "3.10.6"
  }
 },
 "nbformat": 4,
 "nbformat_minor": 5
}
