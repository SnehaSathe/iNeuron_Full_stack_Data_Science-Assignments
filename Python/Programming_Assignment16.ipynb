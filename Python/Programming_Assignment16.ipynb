{
 "cells": [
  {
   "cell_type": "markdown",
   "id": "c1e568d2-aaa5-4290-8022-af2c3d5c99d9",
   "metadata": {},
   "source": [
    "**Programming Assignment 16 Solution**"
   ]
  },
  {
   "cell_type": "markdown",
   "id": "8be18bf1-4033-44ac-b420-195ddb9b4810",
   "metadata": {},
   "source": [
    "**1.Write a function that stutters a word as if someone is struggling to read it. The first two letters are repeated twice with an ellipsis ... and space after each, and then the word is pronounced with a question mark ?<br>**\n",
    "Examples: stutter(\"incredible\") ➞ \"in... in... incredible?\"<br>\n",
    "stutter(\"enthusiastic\") ➞ \"en... en... enthusiastic?\"<br>\n",
    "stutter(\"outstanding\") ➞ \"ou... ou... outstanding?\"<br><br>\n",
    "\n",
    "Hint :- Assume all input is in lower case and at least two characters long."
   ]
  },
  {
   "cell_type": "code",
   "execution_count": 1,
   "id": "4a32b178-eb8c-4ae0-ad23-5e52a750aa9d",
   "metadata": {},
   "outputs": [
    {
     "name": "stdin",
     "output_type": "stream",
     "text": [
      "Enter the Word : incredible\n"
     ]
    },
    {
     "name": "stdout",
     "output_type": "stream",
     "text": [
      "incredible ➞ in... in... incredible?\n"
     ]
    },
    {
     "name": "stdin",
     "output_type": "stream",
     "text": [
      "Enter the Word : enthusiastic\n"
     ]
    },
    {
     "name": "stdout",
     "output_type": "stream",
     "text": [
      "enthusiastic ➞ en... en... enthusiastic?\n"
     ]
    },
    {
     "name": "stdin",
     "output_type": "stream",
     "text": [
      "Enter the Word : outstanding\n"
     ]
    },
    {
     "name": "stdout",
     "output_type": "stream",
     "text": [
      "outstanding ➞ ou... ou... outstanding?\n"
     ]
    }
   ],
   "source": [
    "def stutterWord():\n",
    "    in_string = input('Enter the Word :')\n",
    "    out_string = in_string.replace(in_string[0:2],((in_string[0:2]+'... ')*2)+ in_string[0:2])  +'?'\n",
    "    print(f'{in_string} ➞ {out_string}')\n",
    "\n",
    "for i in range(3):\n",
    "    stutterWord()"
   ]
  },
  {
   "cell_type": "markdown",
   "id": "6794c7dc-c574-4772-9fb9-89dd8fbbcf99",
   "metadata": {},
   "source": [
    "**2..Create a function that takes an angle in radians and returns the corresponding angle in degrees rounded to one decimal place ?<br>**\n",
    "Examples: radians_to_degrees(1) ➞ 57.3<br>\n",
    "radians_to_degrees(20) ➞ 1145.9<br>\n",
    "radians_to_degrees(50) ➞ 2864.8"
   ]
  },
  {
   "cell_type": "code",
   "execution_count": 2,
   "id": "d871d91a-c34f-4dee-89b0-92ac39f045cf",
   "metadata": {},
   "outputs": [
    {
     "name": "stdin",
     "output_type": "stream",
     "text": [
      "Enter the angle in Radians:  1\n"
     ]
    },
    {
     "name": "stdout",
     "output_type": "stream",
     "text": [
      "1 radian(s) ➞ 57.3 degrees\n"
     ]
    },
    {
     "name": "stdin",
     "output_type": "stream",
     "text": [
      "Enter the angle in Radians:  20\n"
     ]
    },
    {
     "name": "stdout",
     "output_type": "stream",
     "text": [
      "20 radian(s) ➞ 1145.9 degrees\n"
     ]
    },
    {
     "name": "stdin",
     "output_type": "stream",
     "text": [
      "Enter the angle in Radians:  50\n"
     ]
    },
    {
     "name": "stdout",
     "output_type": "stream",
     "text": [
      "50 radian(s) ➞ 2864.8 degrees\n"
     ]
    }
   ],
   "source": [
    "import math\n",
    "def radianToDegree():\n",
    "    in_num = int(input('Enter the angle in Radians: '))\n",
    "    out_num = (180/math.pi)*in_num\n",
    "    print(f'{in_num} radian(s) ➞ {out_num:.1f} degrees')\n",
    "\n",
    "for x in range(3):\n",
    "    radianToDegree()"
   ]
  },
  {
   "cell_type": "markdown",
   "id": "91b3b8d8-2d7a-44e9-baa4-e2a1ac6cde6c",
   "metadata": {},
   "source": [
    "**3.In this challenge, establish if a given integer num is a Curzon number. If 1 plus 2 elevated to num is exactly divisible by 1 plus 2 multiplied by num, then num is a Curzon number. Given a non-negative integer num, implement a function that returns True if num is a Curzon number, or False otherwise.<br>**\n",
    "Examples: is_curzon(5) ➞ True # 2 ** 5 + 1 = 33 # 2 * 5 + 1 = 11 # 33 is a multiple of 11 is_curzon(10) ➞ False # 2 ** 10 + 1 = 1025 # 2 * 10 + 1 = 21 # 1025 is not a multiple of 21 is_curzon(14) ➞ True # 2 ** 14 + 1 = 16385 # 2 * 14 + 1 = 29 # 16385 is a multiple of 29"
   ]
  },
  {
   "cell_type": "code",
   "execution_count": 4,
   "id": "0da24d9a-1750-40a4-9bde-abe56d55178a",
   "metadata": {},
   "outputs": [
    {
     "name": "stdin",
     "output_type": "stream",
     "text": [
      "Enter a number:  5\n"
     ]
    },
    {
     "name": "stdout",
     "output_type": "stream",
     "text": [
      "5 is a Curzon Number\n"
     ]
    },
    {
     "name": "stdin",
     "output_type": "stream",
     "text": [
      "Enter a number:  10\n"
     ]
    },
    {
     "name": "stdout",
     "output_type": "stream",
     "text": [
      "10 is Not a Curzon Number\n"
     ]
    },
    {
     "name": "stdin",
     "output_type": "stream",
     "text": [
      "Enter a number:  14\n"
     ]
    },
    {
     "name": "stdout",
     "output_type": "stream",
     "text": [
      "14 is a Curzon Number\n"
     ]
    },
    {
     "name": "stdin",
     "output_type": "stream",
     "text": [
      "Enter a number:  12\n"
     ]
    },
    {
     "name": "stdout",
     "output_type": "stream",
     "text": [
      "12 is Not a Curzon Number\n"
     ]
    }
   ],
   "source": [
    "def checkCurzon():\n",
    "    in_num = int(input(\"Enter a number: \"))\n",
    "    if (pow(2,in_num)+1)%((2*in_num)+1) == 0:\n",
    "        print(f'{in_num} is a Curzon Number')\n",
    "    else:\n",
    "        print(f'{in_num} is Not a Curzon Number')\n",
    "\n",
    "for x in range(4):\n",
    "    checkCurzon()"
   ]
  },
  {
   "cell_type": "markdown",
   "id": "1e198298-0feb-49f8-a3d6-de9a19f65fba",
   "metadata": {},
   "source": [
    "**4.Given the side length x find the area of a hexagon ?<br>**\n",
    "Examples: area_of_hexagon(1) ➞ 2.6<br>\n",
    "area_of_hexagon(2) ➞ 10.4<br>\n",
    "area_of_hexagon(3) ➞ 23.4"
   ]
  },
  {
   "cell_type": "code",
   "execution_count": null,
   "id": "cd2a1040-2870-4bb5-9eb8-9a91cceaa66a",
   "metadata": {},
   "outputs": [],
   "source": [
    "import math\n",
    "def areaOfHexagon():\n",
    "    in_num = int(input('Enter the side length of a Hexagon: '))\n",
    "    out_num = ((3*math.sqrt(3))/2)*(pow(in_num,2))\n",
    "    print(f'Area for Hexagon of sidelength {in_num} ➞ {out_num:.1f}')\n",
    "    \n",
    "for x in range(3):\n",
    "    areaOfHexagon()"
   ]
  },
  {
   "cell_type": "code",
   "execution_count": null,
   "id": "2cace751-597f-441f-83d1-6832dff1c373",
   "metadata": {},
   "outputs": [],
   "source": []
  }
 ],
 "metadata": {
  "kernelspec": {
   "display_name": "Python 3 (ipykernel)",
   "language": "python",
   "name": "python3"
  },
  "language_info": {
   "codemirror_mode": {
    "name": "ipython",
    "version": 3
   },
   "file_extension": ".py",
   "mimetype": "text/x-python",
   "name": "python",
   "nbconvert_exporter": "python",
   "pygments_lexer": "ipython3",
   "version": "3.10.6"
  }
 },
 "nbformat": 4,
 "nbformat_minor": 5
}
