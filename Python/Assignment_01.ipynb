{
 "cells": [
  {
   "cell_type": "markdown",
   "id": "cc348e3c",
   "metadata": {},
   "source": [
    "# Assignment 1 Solutions"
   ]
  },
  {
   "cell_type": "markdown",
   "id": "c7d19652",
   "metadata": {},
   "source": [
    "1. In the below elements which of them are values or an expression? eg:- values can be\n",
    "integer or string and expressions will be mathematical operators.\n",
    "*\n",
    "'hello'\n",
    "-87.8\n",
    "-\n",
    "/\n",
    "+\n",
    "6"
   ]
  },
  {
   "cell_type": "markdown",
   "id": "b4eccbc8",
   "metadata": {},
   "source": [
    "Ans: The operators are: +, *, -, / \n",
    "     and Values are : 'hello', -87.8, 6"
   ]
  },
  {
   "cell_type": "markdown",
   "id": "95017a55",
   "metadata": {},
   "source": [
    "2. What is the difference between string and variable?"
   ]
  },
  {
   "cell_type": "markdown",
   "id": "47e1e712",
   "metadata": {},
   "source": [
    "Ans: String: String is data type\n",
    "     variable: variables is store of information \n",
    "     eg.: name=\"ineuron\"\n",
    "        here name is variable and \"ineuron\" is string"
   ]
  },
  {
   "cell_type": "markdown",
   "id": "2aeaf91a",
   "metadata": {},
   "source": [
    "3. Describe three different data types."
   ]
  },
  {
   "cell_type": "markdown",
   "id": "f74c0fbe",
   "metadata": {},
   "source": [
    "Ans: Numerical datatype: int, float, complex\n",
    "character datatype: str\n",
    "boolean datatype: bool"
   ]
  },
  {
   "cell_type": "markdown",
   "id": "73afa237",
   "metadata": {},
   "source": [
    "4. What is an expression made up of? What do all expressions do?"
   ]
  },
  {
   "cell_type": "markdown",
   "id": "52e96236",
   "metadata": {},
   "source": [
    "Ans: An expression is a combination of operators and operands that is interpreted to produce some other value."
   ]
  },
  {
   "cell_type": "markdown",
   "id": "867787b4",
   "metadata": {},
   "source": [
    "5. This assignment statements, like spam = 10. What is the difference between an\n",
    "expression and a statement?"
   ]
  },
  {
   "cell_type": "markdown",
   "id": "fd566a9a",
   "metadata": {},
   "source": [
    "Ans: Statements represent an action or command .Expressions can be assigned or used as operands, while statements can only be declared.expression need to be evaluated."
   ]
  },
  {
   "cell_type": "markdown",
   "id": "2b4d5133",
   "metadata": {},
   "source": [
    "6. After running the following code, what does the variable bacon contain?\n",
    "bacon = 22\n",
    "bacon + 1"
   ]
  },
  {
   "cell_type": "code",
   "execution_count": 1,
   "id": "11edf5f9",
   "metadata": {},
   "outputs": [
    {
     "name": "stdout",
     "output_type": "stream",
     "text": [
      "22\n"
     ]
    }
   ],
   "source": [
    "bacon = 22\n",
    "bacon + 1\n",
    "print(bacon)    # bacon will contain 22"
   ]
  },
  {
   "cell_type": "markdown",
   "id": "d89926ec",
   "metadata": {},
   "source": [
    "Q7. What should the values of the following two terms be? 'spam' + 'spamspam' 'spam' * 3"
   ]
  },
  {
   "cell_type": "code",
   "execution_count": 3,
   "id": "c0ced8c7",
   "metadata": {},
   "outputs": [
    {
     "name": "stdout",
     "output_type": "stream",
     "text": [
      "spamspamspam\n",
      "spamspamspam\n"
     ]
    }
   ],
   "source": [
    "print('spam' + 'spamspam')\n",
    "print( 'spam' * 3)"
   ]
  },
  {
   "cell_type": "markdown",
   "id": "4a344123",
   "metadata": {},
   "source": [
    "Q8. Why is eggs a valid variable name while 100 is invalid?"
   ]
  },
  {
   "cell_type": "markdown",
   "id": "e8e4344c",
   "metadata": {},
   "source": [
    "Ans: According to Python Rule, Variable can not be a integer, it should start with string(character).Therefore 100 is invalid variable and eggs is valid variable."
   ]
  },
  {
   "cell_type": "markdown",
   "id": "d5cf7835",
   "metadata": {},
   "source": [
    "9. What three functions can be used to get the integer, floating-point number, or string\n",
    "version of a value?"
   ]
  },
  {
   "cell_type": "markdown",
   "id": "fce6efe8",
   "metadata": {},
   "source": [
    "Ans :- The int(), float(), and str() functions will evaluate to the integer, floating-point number, and string versions of the value passed to them."
   ]
  },
  {
   "cell_type": "code",
   "execution_count": null,
   "id": "82833a2d",
   "metadata": {},
   "outputs": [],
   "source": [
    "10. Why does this expression cause an error? How can you fix it?\n",
    "'I have eaten'  + 99 +  'burritos.'"
   ]
  },
  {
   "cell_type": "markdown",
   "id": "870509ac",
   "metadata": {},
   "source": [
    "Ans : The expression causes an error because 99 is an integer, and only strings can be concatenated to other strings with the + operator. The correct way is 'I have eaten ' + str(99) + ' burritos.'."
   ]
  },
  {
   "cell_type": "code",
   "execution_count": 11,
   "id": "efa1ca6f",
   "metadata": {},
   "outputs": [
    {
     "name": "stdout",
     "output_type": "stream",
     "text": [
      "I have eaten 99 burritos.\n"
     ]
    }
   ],
   "source": [
    "print('I have eaten ' + str(99) + ' burritos.')"
   ]
  },
  {
   "cell_type": "code",
   "execution_count": null,
   "id": "a7fd9272",
   "metadata": {},
   "outputs": [],
   "source": []
  }
 ],
 "metadata": {
  "kernelspec": {
   "display_name": "Python 3 (ipykernel)",
   "language": "python",
   "name": "python3"
  },
  "language_info": {
   "codemirror_mode": {
    "name": "ipython",
    "version": 3
   },
   "file_extension": ".py",
   "mimetype": "text/x-python",
   "name": "python",
   "nbconvert_exporter": "python",
   "pygments_lexer": "ipython3",
   "version": "3.9.12"
  }
 },
 "nbformat": 4,
 "nbformat_minor": 5
}
