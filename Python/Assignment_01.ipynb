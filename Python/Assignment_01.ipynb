{
 "cells": [
  {
   "cell_type": "markdown",
   "id": "66676f91",
   "metadata": {},
   "source": [
    "# Assignment 1 Solutions"
   ]
  },
  {
   "cell_type": "markdown",
   "id": "6e28bcae",
   "metadata": {},
   "source": [
    "1. In the below elements which of them are values or an expression? eg:- values can be\n",
    "integer or string and expressions will be mathematical operators.\n",
    "*, 'hello' -87.8, -, +, /, 6\n"
   ]
  },
  {
   "cell_type": "markdown",
   "id": "a8454853",
   "metadata": {},
   "source": [
    "Ans: The operators are: +, *, -, / \n",
    "     and Values are : 'hello', -87.8, 6"
   ]
  },
  {
   "cell_type": "markdown",
   "id": "5dda65d5",
   "metadata": {},
   "source": [
    "2. What is the difference between string and variable?"
   ]
  },
  {
   "cell_type": "markdown",
   "id": "2796cb69",
   "metadata": {},
   "source": [
    "Ans: String: String is data type\n",
    "     and variable: variables is store of information \n",
    "     eg.: name=\"ineuron\"\n",
    "        here name is variable and \"ineuron\" is string"
   ]
  },
  {
   "cell_type": "markdown",
   "id": "4c5f1efa",
   "metadata": {},
   "source": [
    "3. Describe three different data types."
   ]
  },
  {
   "cell_type": "markdown",
   "id": "bef23345",
   "metadata": {},
   "source": [
    "Ans: Numerical datatype: int, float, complex\n",
    "and character datatype: str\n",
    "and boolean datatype: bool"
   ]
  },
  {
   "cell_type": "markdown",
   "id": "eed25fa0",
   "metadata": {},
   "source": [
    "4. What is an expression made up of? What do all expressions do?"
   ]
  },
  {
   "cell_type": "markdown",
   "id": "e1c7f298",
   "metadata": {},
   "source": [
    "Ans: An expression is a combination of operators and operands that is interpreted to produce some other value."
   ]
  },
  {
   "cell_type": "markdown",
   "id": "2b67111f",
   "metadata": {},
   "source": [
    "5. This assignment statements, like spam = 10. What is the difference between an\n",
    "expression and a statement?"
   ]
  },
  {
   "cell_type": "markdown",
   "id": "19ddf0f4",
   "metadata": {},
   "source": [
    "Ans: Statements represent an action or command .Expressions can be assigned or used as operands, while statements can only be declared.expression need to be evaluated."
   ]
  },
  {
   "cell_type": "markdown",
   "id": "04004ba8",
   "metadata": {},
   "source": [
    "6. After running the following code, what does the variable bacon contain?\n",
    "bacon = 22\n",
    "bacon + 1"
   ]
  },
  {
   "cell_type": "code",
   "execution_count": 1,
   "id": "32c2f82c",
   "metadata": {},
   "outputs": [
    {
     "name": "stdout",
     "output_type": "stream",
     "text": [
      "22\n"
     ]
    }
   ],
   "source": [
    "bacon = 22\n",
    "bacon + 1\n",
    "print(bacon)    # bacon will contain 22"
   ]
  },
  {
   "cell_type": "markdown",
   "id": "55d02f99",
   "metadata": {},
   "source": [
    "Q7. What should the values of the following two terms be? 'spam' + 'spamspam' 'spam' * 3"
   ]
  },
  {
   "cell_type": "code",
   "execution_count": 3,
   "id": "7d9bee78",
   "metadata": {},
   "outputs": [
    {
     "name": "stdout",
     "output_type": "stream",
     "text": [
      "spamspamspam\n",
      "spamspamspam\n"
     ]
    }
   ],
   "source": [
    "print('spam' + 'spamspam')\n",
    "print( 'spam' * 3)"
   ]
  },
  {
   "cell_type": "markdown",
   "id": "b37bd90b",
   "metadata": {},
   "source": [
    "Q8. Why is eggs a valid variable name while 100 is invalid?"
   ]
  },
  {
   "cell_type": "markdown",
   "id": "0baee7b5",
   "metadata": {},
   "source": [
    "Ans: According to Python Rule, Variable can not be a integer, it should start with string(character).Therefore 100 is invalid variable and eggs is valid variable."
   ]
  },
  {
   "cell_type": "markdown",
   "id": "b6615142",
   "metadata": {},
   "source": [
    "9. What three functions can be used to get the integer, floating-point number, or string\n",
    "version of a value?"
   ]
  },
  {
   "cell_type": "markdown",
   "id": "80caede7",
   "metadata": {},
   "source": [
    "Ans :- The int(), float(), and str() functions will evaluate to the integer, floating-point number, and string versions of the value passed to them."
   ]
  },
  {
   "cell_type": "code",
   "execution_count": null,
   "id": "d894a2e0",
   "metadata": {},
   "outputs": [],
   "source": [
    "10. Why does this expression cause an error? How can you fix it?\n",
    "'I have eaten'  + 99 +  'burritos.'"
   ]
  },
  {
   "cell_type": "markdown",
   "id": "3e6c622c",
   "metadata": {},
   "source": [
    "Ans : The expression causes an error because 99 is an integer, and only strings can be concatenated to other strings with the + operator. The correct way is 'I have eaten ' + str(99) + ' burritos.'."
   ]
  },
  {
   "cell_type": "code",
   "execution_count": 11,
   "id": "4d21007b",
   "metadata": {},
   "outputs": [
    {
     "name": "stdout",
     "output_type": "stream",
     "text": [
      "I have eaten 99 burritos.\n"
     ]
    }
   ],
   "source": [
    "print('I have eaten ' + str(99) + ' burritos.')"
   ]
  }
 ],
 "metadata": {
  "kernelspec": {
   "display_name": "Python 3 (ipykernel)",
   "language": "python",
   "name": "python3"
  },
  "language_info": {
   "codemirror_mode": {
    "name": "ipython",
    "version": 3
   },
   "file_extension": ".py",
   "mimetype": "text/x-python",
   "name": "python",
   "nbconvert_exporter": "python",
   "pygments_lexer": "ipython3",
   "version": "3.9.12"
  }
 },
 "nbformat": 4,
 "nbformat_minor": 5
}
