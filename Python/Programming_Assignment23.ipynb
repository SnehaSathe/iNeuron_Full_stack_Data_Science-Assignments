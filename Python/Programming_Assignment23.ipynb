{
 "cells": [
  {
   "cell_type": "markdown",
   "id": "36759643-5cb2-4808-81d7-cd6926a2135d",
   "metadata": {},
   "source": [
    "**Programming Assignment 23 Solutions**"
   ]
  },
  {
   "cell_type": "markdown",
   "id": "854b57df-c2da-4871-8d6e-5bafe103e5c3",
   "metadata": {},
   "source": [
    "**1.Create a function that takes a number as an argument and returns True or False depending on whether the number is symmetrical or not. A number is symmetrical when it is the same as its reverse.<br>**\n",
    "Examples:<br>\n",
    "is_symmetrical(7227) ➞ True<br>\n",
    "is_symmetrical(12567) ➞ False<br>\n",
    "is_symmetrical(44444444) ➞ True<br>\n",
    "is_symmetrical(9939) ➞ False<br>\n",
    "is_symmetrical(1112111) ➞ True"
   ]
  },
  {
   "cell_type": "code",
   "execution_count": 1,
   "id": "45b649f8-f9e2-4e86-9023-ab98b8aad452",
   "metadata": {},
   "outputs": [
    {
     "name": "stdout",
     "output_type": "stream",
     "text": [
      "7227 ➞ True\n",
      "12567 ➞ False\n",
      "44444444 ➞ True\n",
      "9939 ➞ False\n",
      "1112111 ➞ True\n"
     ]
    }
   ],
   "source": [
    "def is_symmetrical(in_num):\n",
    "    if str(in_num) == str(in_num)[::-1]:\n",
    "        print(f'{in_num} ➞ {True}')\n",
    "    else:\n",
    "        print(f'{in_num} ➞ {False}')\n",
    "\n",
    "is_symmetrical(7227)\n",
    "is_symmetrical(12567)\n",
    "is_symmetrical(44444444)\n",
    "is_symmetrical(9939)\n",
    "is_symmetrical(1112111)"
   ]
  },
  {
   "cell_type": "markdown",
   "id": "8d6e160f-5b07-4d8d-b864-58bd5542ff48",
   "metadata": {},
   "source": [
    "**2.Given a string of numbers separated by a comma and space, return the product of the numbers.<br>**\n",
    "Examples:<br>\n",
    "multiply_nums(\"2, 3\") ➞ <br>\n",
    "multiply_nums(\"1, 2, 3, 4\") ➞ 24<br>\n",
    "multiply_nums(\"54, 75, 453, 0\") ➞ 0<br>\n",
    "multiply_nums(\"10, -2\") ➞ -20"
   ]
  },
  {
   "cell_type": "code",
   "execution_count": 2,
   "id": "1282b184-d8b1-4253-b514-4e6b32d051b4",
   "metadata": {},
   "outputs": [
    {
     "name": "stdout",
     "output_type": "stream",
     "text": [
      "2, 3 ➞ 6\n",
      "1, 2, 3, 4 ➞ 24\n",
      "54, 75, 453, 0 ➞ 0\n",
      "10, -2 ➞ -20\n"
     ]
    }
   ],
   "source": [
    "def multiply_nums(in_string):\n",
    "    out_string = in_string.replace(' ','').split(',')\n",
    "    out_num = 1\n",
    "    for ele in out_string:\n",
    "        out_num *= int(ele)\n",
    "    print(f'{in_string} ➞ {out_num}')\n",
    "    \n",
    "multiply_nums(\"2, 3\")\n",
    "multiply_nums(\"1, 2, 3, 4\")\n",
    "multiply_nums(\"54, 75, 453, 0\")\n",
    "multiply_nums(\"10, -2\")"
   ]
  },
  {
   "cell_type": "markdown",
   "id": "611dabc0-e6df-4ba9-a213-26323d22e25d",
   "metadata": {},
   "source": [
    "**3.Create a function that squares every digit of a number.**<br>\n",
    "Examples:<br>\n",
    "square_digits(9119) ➞ 811181<br>\n",
    "square_digits(2483) ➞ 416649<br>\n",
    "square_digits(3212) ➞ 9414<br>\n",
    "\n",
    "Notes:<br>\n",
    "The function receives an integer and must return an integer.<br>"
   ]
  },
  {
   "cell_type": "code",
   "execution_count": 3,
   "id": "b27457a8-8150-4f8f-a69b-a6fe721d2ca3",
   "metadata": {},
   "outputs": [
    {
     "name": "stdout",
     "output_type": "stream",
     "text": [
      "9119 ➞ 811181\n",
      "2483 ➞ 416649\n",
      "3212 ➞ 9414\n"
     ]
    }
   ],
   "source": [
    "def square_digits(in_num):\n",
    "    in_list = [str(int(ele)**2) for ele in str(in_num)]\n",
    "    out_list = ''.join(in_list)\n",
    "    print(f'{in_num} ➞ {int(out_list)}')\n",
    "\n",
    "square_digits(9119)\n",
    "square_digits(2483)\n",
    "square_digits(3212)"
   ]
  },
  {
   "cell_type": "markdown",
   "id": "f2aa9d87-4986-48d6-87a3-245f5e61de36",
   "metadata": {},
   "source": [
    "**4.Create a function that sorts a list and removes all duplicate items from it.<br>**\n",
    "Examples:<br>\n",
    "setify([1, 3, 3, 5, 5]) ➞ [1, 3, 5]<br>\n",
    "setify([4, 4, 4, 4]) ➞ [4]<br>\n",
    "setify([5, 7, 8, 9, 10, 15]) ➞ [5, 7, 8, 9, 10, 15]<br>\n",
    "setify([3, 3, 3, 2, 1]) ➞ [1, 2, 3]"
   ]
  },
  {
   "cell_type": "code",
   "execution_count": 4,
   "id": "d3d5fddc-d28f-441d-9f0e-f1bfb034acfb",
   "metadata": {},
   "outputs": [
    {
     "name": "stdout",
     "output_type": "stream",
     "text": [
      "[1, 3, 3, 5, 5] ➞ [1, 3, 5]\n",
      "[4, 4, 4, 4] ➞ [4]\n",
      "[5, 7, 8, 9, 10, 15] ➞ [5, 7, 8, 9, 10, 15]\n",
      "[3, 3, 3, 2, 1] ➞ [1, 2, 3]\n"
     ]
    }
   ],
   "source": [
    "def setify(in_list):\n",
    "    out_list = sorted(set(in_list))\n",
    "    print(f'{in_list} ➞ {out_list}')\n",
    "    \n",
    "setify([1, 3, 3, 5, 5]) \n",
    "setify([4, 4, 4, 4])\n",
    "setify([5, 7, 8, 9, 10, 15])\n",
    "setify([3, 3, 3, 2, 1])"
   ]
  },
  {
   "cell_type": "code",
   "execution_count": null,
   "id": "76024764-b881-486f-96f6-c054cd0a8f79",
   "metadata": {},
   "outputs": [],
   "source": [
    "**5.Create a function that returns the mean of all digits.**<br>\n",
    "Examples:<br>\n",
    "mean(42) ➞ 3<br>\n",
    "mean(12345) ➞ 3<br\n",
    "mean(666) ➞ 6\n",
    "\n",
    "Notes:\n",
    "1.The mean of all digits is the sum of digits / how many digits there are (e.g. mean of digits in 512 is (5+1+2)/3(number of digits) = 8/3=2).\n",
    "2.The mean will always be an integer.\n",
    "\n",
    "def mean(in_num):\n",
    "    in_list = [int(ele) for ele in str(in_num)]\n",
    "    out_num = sum(in_list)/len(str(in_num))\n",
    "    print(f'Mean of {in_num}  ➞ {out_num:.0f}')\n",
    "    \n",
    "mean(42)\n",
    "mean(12345)\n",
    "mean(666)"
   ]
  }
 ],
 "metadata": {
  "kernelspec": {
   "display_name": "Python 3 (ipykernel)",
   "language": "python",
   "name": "python3"
  },
  "language_info": {
   "codemirror_mode": {
    "name": "ipython",
    "version": 3
   },
   "file_extension": ".py",
   "mimetype": "text/x-python",
   "name": "python",
   "nbconvert_exporter": "python",
   "pygments_lexer": "ipython3",
   "version": "3.10.6"
  }
 },
 "nbformat": 4,
 "nbformat_minor": 5
}
