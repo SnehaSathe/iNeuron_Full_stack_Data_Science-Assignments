{
 "cells": [
  {
   "cell_type": "markdown",
   "id": "4a2ef7e0-e802-442b-9c88-8774b08ff726",
   "metadata": {},
   "source": [
    "**Programming Assignment 19 Solutions**"
   ]
  },
  {
   "cell_type": "markdown",
   "id": "a878d162-1c8e-43ca-bdff-059ac1381481",
   "metadata": {},
   "source": [
    "**1.Create a function that takes a string and returns a string in which each character is repeated once.<br>**\n",
    "Examples:<br>\n",
    "double_char(\"String\") ➞ \"SSttrriinngg\"<br>\n",
    "double_char(\"Hello World!\") ➞ \"HHeelllloo WWoorrlldd!!\"<br>\n",
    "doublechar(\"1234!_\") ➞ \"11223344!!__\""
   ]
  },
  {
   "cell_type": "code",
   "execution_count": 1,
   "id": "603be87b-bd25-460b-84be-84daca0eb33f",
   "metadata": {},
   "outputs": [
    {
     "name": "stdout",
     "output_type": "stream",
     "text": [
      "➞ SSttrriinngg\n",
      "➞ HHeelllloo  WWoorrlldd!!\n",
      "➞ 11223344!!__\n"
     ]
    }
   ],
   "source": [
    "def double_char(in_string):\n",
    "    out_string = ''\n",
    "    for ele in in_string:\n",
    "        out_string += ele*2\n",
    "    return out_string\n",
    "\n",
    "print(f'➞ {double_char(\"String\")}')\n",
    "print(f'➞ {double_char(\"Hello World!\")}')\n",
    "print(f'➞ {double_char(\"1234!_\")}')"
   ]
  },
  {
   "cell_type": "markdown",
   "id": "fc05b5b9-c0e0-4950-9a5f-870e47207dbd",
   "metadata": {},
   "source": [
    "**2.Create a function that reverses a boolean value and returns the string \"boolean expected\" if another variable type is given.<br>**\n",
    "Examples:<br>\n",
    "reverse(True) ➞ False<br>\n",
    "reverse(False) ➞ True<br>\n",
    "reverse(0) ➞ \"boolean expected\"<br>\n",
    "reverse(None) ➞ \"boolean expected\""
   ]
  },
  {
   "cell_type": "code",
   "execution_count": 2,
   "id": "fd13b218-4efa-42f5-bdf5-b08df0ed86fa",
   "metadata": {},
   "outputs": [
    {
     "name": "stdout",
     "output_type": "stream",
     "text": [
      "reverse(True) ➞ False\n",
      "reverse(False) ➞ True\n",
      "reverse(0) ➞ Boolean Expected\n",
      "reverse(None) ➞ Boolean Expected\n"
     ]
    }
   ],
   "source": [
    "def reverse(in_bool):\n",
    "    if type(in_bool) == bool:\n",
    "        return not in_bool\n",
    "    else:\n",
    "        return \"Boolean Expected\"\n",
    "\n",
    "print(f'reverse(True) ➞ {reverse(True)}')\n",
    "print(f'reverse(False) ➞ {reverse(False)}')\n",
    "print(f'reverse(0) ➞ {reverse(0)}')\n",
    "print(f'reverse(None) ➞ {reverse(None)}')"
   ]
  },
  {
   "cell_type": "markdown",
   "id": "674fac2f-2929-442f-82fe-24fbaac72f53",
   "metadata": {},
   "source": [
    "**3. Create a function that returns the thickness (in meters) of a piece of paper after folding it n number of times. The paper starts off with a thickness of 0.5mm.<br>**\n",
    "Examples:<br>\n",
    "num_layers(1) ➞ \"0.001m\" # Paper folded once is 1mm (equal to 0.001m) num_layers(4) ➞ \"0.008m\" # Paper folded 4 times is 8mm (equal to 0.008m) num_layers(21) ➞ \"1048.576m\" # Paper folded 21 times is 1048576mm (equal to 1048.576m)"
   ]
  },
  {
   "cell_type": "code",
   "execution_count": 3,
   "id": "9ea9d9e5-44d9-4dba-8f40-78bae87dc531",
   "metadata": {},
   "outputs": [
    {
     "name": "stdout",
     "output_type": "stream",
     "text": [
      "Output ➞ 0.001m\n",
      "Output ➞ 0.008m\n",
      "Output ➞ 1048.576m\n"
     ]
    }
   ],
   "source": [
    "def num_layers(in_num):\n",
    "    out_num = 0.5\n",
    "    for ele in range(in_num):\n",
    "        out_num *= 2\n",
    "    print(f'Output ➞ {out_num/1000}m')\n",
    "    \n",
    "num_layers(1)\n",
    "num_layers(4)\n",
    "num_layers(21)"
   ]
  },
  {
   "cell_type": "markdown",
   "id": "ab1d8e2d-45a6-43fe-8215-fd55a4bcc367",
   "metadata": {},
   "source": [
    "**4.Create a function that takes a single string as argument and returns an ordered list containing the indices of all capital letters in the string.<br>**\n",
    "Examples:<br>\n",
    "index_of_caps(\"eDaBiT\") ➞ [1, 3, 5]<br>\n",
    "index_of_caps(\"eQuINoX\") ➞ [1, 3, 4, 6]<br>\n",
    "index_of_caps(\"determine\") ➞ []<br>\n",
    "index_of_caps(\"STRIKE\") ➞ [0, 1, 2, 3, 4, 5]<br>\n",
    "index_of_caps(\"sUn\") ➞ [1]"
   ]
  },
  {
   "cell_type": "code",
   "execution_count": 4,
   "id": "a015650a-2ebb-4e46-9c4b-6f6295f6ce95",
   "metadata": {},
   "outputs": [
    {
     "name": "stdout",
     "output_type": "stream",
     "text": [
      "eDaBiT ➞ [1, 3, 5]\n",
      "eQuINoX ➞ [1, 3, 4, 6]\n",
      "determine ➞ []\n",
      "STRIKE ➞ [0, 1, 2, 3, 4, 5]\n",
      "sUn ➞ [1]\n"
     ]
    }
   ],
   "source": [
    "def index_of_caps(in_string):\n",
    "    out_string = []\n",
    "    for ele in in_string:\n",
    "        if ele.isupper():\n",
    "            out_string.append(in_string.index(ele))\n",
    "    print(f'{in_string} ➞ {out_string}')\n",
    "\n",
    "index_of_caps(\"eDaBiT\")\n",
    "index_of_caps(\"eQuINoX\")\n",
    "index_of_caps(\"determine\")\n",
    "index_of_caps(\"STRIKE\")\n",
    "index_of_caps(\"sUn\")"
   ]
  },
  {
   "cell_type": "markdown",
   "id": "8cae7d3d-d2d8-46e6-bae4-c30d253df200",
   "metadata": {},
   "source": [
    "**5.Using list comprehensions, create a function that finds all even numbers from 1 to the given number.<br>**\n",
    "Examples:<br>\n",
    "find_even_nums(8) ➞ [2, 4, 6, 8]<br>\n",
    "find_even_nums(4) ➞ [2, 4]<br>\n",
    "find_even_nums(2) ➞ [2]"
   ]
  },
  {
   "cell_type": "code",
   "execution_count": 5,
   "id": "fa45883d-f594-4748-870c-0f0dc0f5cb63",
   "metadata": {},
   "outputs": [
    {
     "name": "stdout",
     "output_type": "stream",
     "text": [
      "Output ➞ [2, 4, 6, 8]\n",
      "Output ➞ [2, 4]\n",
      "Output ➞ [2]\n"
     ]
    }
   ],
   "source": [
    "def find_even_nums(in_num):\n",
    "    out_list = [i for i in range(1,in_num+1) if i%2 == 0]\n",
    "    print(f'Output ➞ {out_list}')\n",
    "    \n",
    "find_even_nums(8)\n",
    "find_even_nums(4)\n",
    "find_even_nums(2)"
   ]
  },
  {
   "cell_type": "code",
   "execution_count": null,
   "id": "10c11c44-88c3-4c71-8536-bdfe2fe6dab8",
   "metadata": {},
   "outputs": [],
   "source": []
  }
 ],
 "metadata": {
  "kernelspec": {
   "display_name": "Python 3 (ipykernel)",
   "language": "python",
   "name": "python3"
  },
  "language_info": {
   "codemirror_mode": {
    "name": "ipython",
    "version": 3
   },
   "file_extension": ".py",
   "mimetype": "text/x-python",
   "name": "python",
   "nbconvert_exporter": "python",
   "pygments_lexer": "ipython3",
   "version": "3.10.6"
  }
 },
 "nbformat": 4,
 "nbformat_minor": 5
}
